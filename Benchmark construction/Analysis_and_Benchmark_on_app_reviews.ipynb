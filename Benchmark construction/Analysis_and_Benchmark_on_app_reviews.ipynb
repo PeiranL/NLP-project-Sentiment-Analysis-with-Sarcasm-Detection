{
  "nbformat": 4,
  "nbformat_minor": 0,
  "metadata": {
    "colab": {
      "name": "Analysis and Benchmark on app reviews.ipynb",
      "provenance": []
    },
    "kernelspec": {
      "display_name": "Python 3",
      "language": "python",
      "name": "python3"
    },
    "language_info": {
      "codemirror_mode": {
        "name": "ipython",
        "version": 3
      },
      "file_extension": ".py",
      "mimetype": "text/x-python",
      "name": "python",
      "nbconvert_exporter": "python",
      "pygments_lexer": "ipython3",
      "version": "3.6.6"
    },
    "widgets": {
      "application/vnd.jupyter.widget-state+json": {
        "0e53b0a249a54c59894774ae38a88853": {
          "model_module": "@jupyter-widgets/controls",
          "model_name": "HBoxModel",
          "model_module_version": "1.5.0",
          "state": {
            "_view_name": "HBoxView",
            "_dom_classes": [],
            "_model_name": "HBoxModel",
            "_view_module": "@jupyter-widgets/controls",
            "_model_module_version": "1.5.0",
            "_view_count": null,
            "_view_module_version": "1.5.0",
            "box_style": "",
            "layout": "IPY_MODEL_fb73f5b3359f4f8e8255ae6e35cb2572",
            "_model_module": "@jupyter-widgets/controls",
            "children": [
              "IPY_MODEL_608ce998670a4c2aaaee79a4dd656a3c",
              "IPY_MODEL_43d4a5f50c4043fba0bb2b1f0e1b9051",
              "IPY_MODEL_1cf1557b33754437917dd0bfdeb349ef"
            ]
          }
        },
        "fb73f5b3359f4f8e8255ae6e35cb2572": {
          "model_module": "@jupyter-widgets/base",
          "model_name": "LayoutModel",
          "model_module_version": "1.2.0",
          "state": {
            "_view_name": "LayoutView",
            "grid_template_rows": null,
            "right": null,
            "justify_content": null,
            "_view_module": "@jupyter-widgets/base",
            "overflow": null,
            "_model_module_version": "1.2.0",
            "_view_count": null,
            "flex_flow": null,
            "width": null,
            "min_width": null,
            "border": null,
            "align_items": null,
            "bottom": null,
            "_model_module": "@jupyter-widgets/base",
            "top": null,
            "grid_column": null,
            "overflow_y": null,
            "overflow_x": null,
            "grid_auto_flow": null,
            "grid_area": null,
            "grid_template_columns": null,
            "flex": null,
            "_model_name": "LayoutModel",
            "justify_items": null,
            "grid_row": null,
            "max_height": null,
            "align_content": null,
            "visibility": null,
            "align_self": null,
            "height": null,
            "min_height": null,
            "padding": null,
            "grid_auto_rows": null,
            "grid_gap": null,
            "max_width": null,
            "order": null,
            "_view_module_version": "1.2.0",
            "grid_template_areas": null,
            "object_position": null,
            "object_fit": null,
            "grid_auto_columns": null,
            "margin": null,
            "display": null,
            "left": null
          }
        },
        "608ce998670a4c2aaaee79a4dd656a3c": {
          "model_module": "@jupyter-widgets/controls",
          "model_name": "HTMLModel",
          "model_module_version": "1.5.0",
          "state": {
            "_view_name": "HTMLView",
            "style": "IPY_MODEL_197a7e77ce734425837f1600ce256e0e",
            "_dom_classes": [],
            "description": "",
            "_model_name": "HTMLModel",
            "placeholder": "​",
            "_view_module": "@jupyter-widgets/controls",
            "_model_module_version": "1.5.0",
            "value": "Downloading: 100%",
            "_view_count": null,
            "_view_module_version": "1.5.0",
            "description_tooltip": null,
            "_model_module": "@jupyter-widgets/controls",
            "layout": "IPY_MODEL_ba45c012cd3b48ca9548afecd06875b4"
          }
        },
        "43d4a5f50c4043fba0bb2b1f0e1b9051": {
          "model_module": "@jupyter-widgets/controls",
          "model_name": "FloatProgressModel",
          "model_module_version": "1.5.0",
          "state": {
            "_view_name": "ProgressView",
            "style": "IPY_MODEL_1bc5f38ea399411ebd33658198a89b80",
            "_dom_classes": [],
            "description": "",
            "_model_name": "FloatProgressModel",
            "bar_style": "success",
            "max": 231508,
            "_view_module": "@jupyter-widgets/controls",
            "_model_module_version": "1.5.0",
            "value": 231508,
            "_view_count": null,
            "_view_module_version": "1.5.0",
            "orientation": "horizontal",
            "min": 0,
            "description_tooltip": null,
            "_model_module": "@jupyter-widgets/controls",
            "layout": "IPY_MODEL_d0519e49b3664f4581c51c342ee6d189"
          }
        },
        "1cf1557b33754437917dd0bfdeb349ef": {
          "model_module": "@jupyter-widgets/controls",
          "model_name": "HTMLModel",
          "model_module_version": "1.5.0",
          "state": {
            "_view_name": "HTMLView",
            "style": "IPY_MODEL_eb1778f3fabf471394285017aa0379e9",
            "_dom_classes": [],
            "description": "",
            "_model_name": "HTMLModel",
            "placeholder": "​",
            "_view_module": "@jupyter-widgets/controls",
            "_model_module_version": "1.5.0",
            "value": " 226k/226k [00:00&lt;00:00, 740kB/s]",
            "_view_count": null,
            "_view_module_version": "1.5.0",
            "description_tooltip": null,
            "_model_module": "@jupyter-widgets/controls",
            "layout": "IPY_MODEL_1a5e31620ce4403bbc2f8d3f7a8c256d"
          }
        },
        "197a7e77ce734425837f1600ce256e0e": {
          "model_module": "@jupyter-widgets/controls",
          "model_name": "DescriptionStyleModel",
          "model_module_version": "1.5.0",
          "state": {
            "_view_name": "StyleView",
            "_model_name": "DescriptionStyleModel",
            "description_width": "",
            "_view_module": "@jupyter-widgets/base",
            "_model_module_version": "1.5.0",
            "_view_count": null,
            "_view_module_version": "1.2.0",
            "_model_module": "@jupyter-widgets/controls"
          }
        },
        "ba45c012cd3b48ca9548afecd06875b4": {
          "model_module": "@jupyter-widgets/base",
          "model_name": "LayoutModel",
          "model_module_version": "1.2.0",
          "state": {
            "_view_name": "LayoutView",
            "grid_template_rows": null,
            "right": null,
            "justify_content": null,
            "_view_module": "@jupyter-widgets/base",
            "overflow": null,
            "_model_module_version": "1.2.0",
            "_view_count": null,
            "flex_flow": null,
            "width": null,
            "min_width": null,
            "border": null,
            "align_items": null,
            "bottom": null,
            "_model_module": "@jupyter-widgets/base",
            "top": null,
            "grid_column": null,
            "overflow_y": null,
            "overflow_x": null,
            "grid_auto_flow": null,
            "grid_area": null,
            "grid_template_columns": null,
            "flex": null,
            "_model_name": "LayoutModel",
            "justify_items": null,
            "grid_row": null,
            "max_height": null,
            "align_content": null,
            "visibility": null,
            "align_self": null,
            "height": null,
            "min_height": null,
            "padding": null,
            "grid_auto_rows": null,
            "grid_gap": null,
            "max_width": null,
            "order": null,
            "_view_module_version": "1.2.0",
            "grid_template_areas": null,
            "object_position": null,
            "object_fit": null,
            "grid_auto_columns": null,
            "margin": null,
            "display": null,
            "left": null
          }
        },
        "1bc5f38ea399411ebd33658198a89b80": {
          "model_module": "@jupyter-widgets/controls",
          "model_name": "ProgressStyleModel",
          "model_module_version": "1.5.0",
          "state": {
            "_view_name": "StyleView",
            "_model_name": "ProgressStyleModel",
            "description_width": "",
            "_view_module": "@jupyter-widgets/base",
            "_model_module_version": "1.5.0",
            "_view_count": null,
            "_view_module_version": "1.2.0",
            "bar_color": null,
            "_model_module": "@jupyter-widgets/controls"
          }
        },
        "d0519e49b3664f4581c51c342ee6d189": {
          "model_module": "@jupyter-widgets/base",
          "model_name": "LayoutModel",
          "model_module_version": "1.2.0",
          "state": {
            "_view_name": "LayoutView",
            "grid_template_rows": null,
            "right": null,
            "justify_content": null,
            "_view_module": "@jupyter-widgets/base",
            "overflow": null,
            "_model_module_version": "1.2.0",
            "_view_count": null,
            "flex_flow": null,
            "width": null,
            "min_width": null,
            "border": null,
            "align_items": null,
            "bottom": null,
            "_model_module": "@jupyter-widgets/base",
            "top": null,
            "grid_column": null,
            "overflow_y": null,
            "overflow_x": null,
            "grid_auto_flow": null,
            "grid_area": null,
            "grid_template_columns": null,
            "flex": null,
            "_model_name": "LayoutModel",
            "justify_items": null,
            "grid_row": null,
            "max_height": null,
            "align_content": null,
            "visibility": null,
            "align_self": null,
            "height": null,
            "min_height": null,
            "padding": null,
            "grid_auto_rows": null,
            "grid_gap": null,
            "max_width": null,
            "order": null,
            "_view_module_version": "1.2.0",
            "grid_template_areas": null,
            "object_position": null,
            "object_fit": null,
            "grid_auto_columns": null,
            "margin": null,
            "display": null,
            "left": null
          }
        },
        "eb1778f3fabf471394285017aa0379e9": {
          "model_module": "@jupyter-widgets/controls",
          "model_name": "DescriptionStyleModel",
          "model_module_version": "1.5.0",
          "state": {
            "_view_name": "StyleView",
            "_model_name": "DescriptionStyleModel",
            "description_width": "",
            "_view_module": "@jupyter-widgets/base",
            "_model_module_version": "1.5.0",
            "_view_count": null,
            "_view_module_version": "1.2.0",
            "_model_module": "@jupyter-widgets/controls"
          }
        },
        "1a5e31620ce4403bbc2f8d3f7a8c256d": {
          "model_module": "@jupyter-widgets/base",
          "model_name": "LayoutModel",
          "model_module_version": "1.2.0",
          "state": {
            "_view_name": "LayoutView",
            "grid_template_rows": null,
            "right": null,
            "justify_content": null,
            "_view_module": "@jupyter-widgets/base",
            "overflow": null,
            "_model_module_version": "1.2.0",
            "_view_count": null,
            "flex_flow": null,
            "width": null,
            "min_width": null,
            "border": null,
            "align_items": null,
            "bottom": null,
            "_model_module": "@jupyter-widgets/base",
            "top": null,
            "grid_column": null,
            "overflow_y": null,
            "overflow_x": null,
            "grid_auto_flow": null,
            "grid_area": null,
            "grid_template_columns": null,
            "flex": null,
            "_model_name": "LayoutModel",
            "justify_items": null,
            "grid_row": null,
            "max_height": null,
            "align_content": null,
            "visibility": null,
            "align_self": null,
            "height": null,
            "min_height": null,
            "padding": null,
            "grid_auto_rows": null,
            "grid_gap": null,
            "max_width": null,
            "order": null,
            "_view_module_version": "1.2.0",
            "grid_template_areas": null,
            "object_position": null,
            "object_fit": null,
            "grid_auto_columns": null,
            "margin": null,
            "display": null,
            "left": null
          }
        },
        "77749d38945541bb8dff9c064e8c7135": {
          "model_module": "@jupyter-widgets/controls",
          "model_name": "HBoxModel",
          "model_module_version": "1.5.0",
          "state": {
            "_view_name": "HBoxView",
            "_dom_classes": [],
            "_model_name": "HBoxModel",
            "_view_module": "@jupyter-widgets/controls",
            "_model_module_version": "1.5.0",
            "_view_count": null,
            "_view_module_version": "1.5.0",
            "box_style": "",
            "layout": "IPY_MODEL_f692ab1727eb44fa880ec48618171362",
            "_model_module": "@jupyter-widgets/controls",
            "children": [
              "IPY_MODEL_5475d21d27234a09926d51d5e9742462",
              "IPY_MODEL_14eb418382544343b06df401ce984a93",
              "IPY_MODEL_8cfda1f557104605a16b47ea70c7f0e7"
            ]
          }
        },
        "f692ab1727eb44fa880ec48618171362": {
          "model_module": "@jupyter-widgets/base",
          "model_name": "LayoutModel",
          "model_module_version": "1.2.0",
          "state": {
            "_view_name": "LayoutView",
            "grid_template_rows": null,
            "right": null,
            "justify_content": null,
            "_view_module": "@jupyter-widgets/base",
            "overflow": null,
            "_model_module_version": "1.2.0",
            "_view_count": null,
            "flex_flow": null,
            "width": null,
            "min_width": null,
            "border": null,
            "align_items": null,
            "bottom": null,
            "_model_module": "@jupyter-widgets/base",
            "top": null,
            "grid_column": null,
            "overflow_y": null,
            "overflow_x": null,
            "grid_auto_flow": null,
            "grid_area": null,
            "grid_template_columns": null,
            "flex": null,
            "_model_name": "LayoutModel",
            "justify_items": null,
            "grid_row": null,
            "max_height": null,
            "align_content": null,
            "visibility": null,
            "align_self": null,
            "height": null,
            "min_height": null,
            "padding": null,
            "grid_auto_rows": null,
            "grid_gap": null,
            "max_width": null,
            "order": null,
            "_view_module_version": "1.2.0",
            "grid_template_areas": null,
            "object_position": null,
            "object_fit": null,
            "grid_auto_columns": null,
            "margin": null,
            "display": null,
            "left": null
          }
        },
        "5475d21d27234a09926d51d5e9742462": {
          "model_module": "@jupyter-widgets/controls",
          "model_name": "HTMLModel",
          "model_module_version": "1.5.0",
          "state": {
            "_view_name": "HTMLView",
            "style": "IPY_MODEL_242bdfbddb214f479fd7f01f5881ac5a",
            "_dom_classes": [],
            "description": "",
            "_model_name": "HTMLModel",
            "placeholder": "​",
            "_view_module": "@jupyter-widgets/controls",
            "_model_module_version": "1.5.0",
            "value": "Downloading: 100%",
            "_view_count": null,
            "_view_module_version": "1.5.0",
            "description_tooltip": null,
            "_model_module": "@jupyter-widgets/controls",
            "layout": "IPY_MODEL_2a10ac27b34f44f8a3a9a059b19955f0"
          }
        },
        "14eb418382544343b06df401ce984a93": {
          "model_module": "@jupyter-widgets/controls",
          "model_name": "FloatProgressModel",
          "model_module_version": "1.5.0",
          "state": {
            "_view_name": "ProgressView",
            "style": "IPY_MODEL_6881cdb9dc1840a4a3faf23a99e24d01",
            "_dom_classes": [],
            "description": "",
            "_model_name": "FloatProgressModel",
            "bar_style": "success",
            "max": 28,
            "_view_module": "@jupyter-widgets/controls",
            "_model_module_version": "1.5.0",
            "value": 28,
            "_view_count": null,
            "_view_module_version": "1.5.0",
            "orientation": "horizontal",
            "min": 0,
            "description_tooltip": null,
            "_model_module": "@jupyter-widgets/controls",
            "layout": "IPY_MODEL_5bac43acd0a04041b82808270aa63421"
          }
        },
        "8cfda1f557104605a16b47ea70c7f0e7": {
          "model_module": "@jupyter-widgets/controls",
          "model_name": "HTMLModel",
          "model_module_version": "1.5.0",
          "state": {
            "_view_name": "HTMLView",
            "style": "IPY_MODEL_b77d6b477ece432fa82069cd41fcbff4",
            "_dom_classes": [],
            "description": "",
            "_model_name": "HTMLModel",
            "placeholder": "​",
            "_view_module": "@jupyter-widgets/controls",
            "_model_module_version": "1.5.0",
            "value": " 28.0/28.0 [00:00&lt;00:00, 626B/s]",
            "_view_count": null,
            "_view_module_version": "1.5.0",
            "description_tooltip": null,
            "_model_module": "@jupyter-widgets/controls",
            "layout": "IPY_MODEL_72b31045c88b46ebabb6a8510aee0bf6"
          }
        },
        "242bdfbddb214f479fd7f01f5881ac5a": {
          "model_module": "@jupyter-widgets/controls",
          "model_name": "DescriptionStyleModel",
          "model_module_version": "1.5.0",
          "state": {
            "_view_name": "StyleView",
            "_model_name": "DescriptionStyleModel",
            "description_width": "",
            "_view_module": "@jupyter-widgets/base",
            "_model_module_version": "1.5.0",
            "_view_count": null,
            "_view_module_version": "1.2.0",
            "_model_module": "@jupyter-widgets/controls"
          }
        },
        "2a10ac27b34f44f8a3a9a059b19955f0": {
          "model_module": "@jupyter-widgets/base",
          "model_name": "LayoutModel",
          "model_module_version": "1.2.0",
          "state": {
            "_view_name": "LayoutView",
            "grid_template_rows": null,
            "right": null,
            "justify_content": null,
            "_view_module": "@jupyter-widgets/base",
            "overflow": null,
            "_model_module_version": "1.2.0",
            "_view_count": null,
            "flex_flow": null,
            "width": null,
            "min_width": null,
            "border": null,
            "align_items": null,
            "bottom": null,
            "_model_module": "@jupyter-widgets/base",
            "top": null,
            "grid_column": null,
            "overflow_y": null,
            "overflow_x": null,
            "grid_auto_flow": null,
            "grid_area": null,
            "grid_template_columns": null,
            "flex": null,
            "_model_name": "LayoutModel",
            "justify_items": null,
            "grid_row": null,
            "max_height": null,
            "align_content": null,
            "visibility": null,
            "align_self": null,
            "height": null,
            "min_height": null,
            "padding": null,
            "grid_auto_rows": null,
            "grid_gap": null,
            "max_width": null,
            "order": null,
            "_view_module_version": "1.2.0",
            "grid_template_areas": null,
            "object_position": null,
            "object_fit": null,
            "grid_auto_columns": null,
            "margin": null,
            "display": null,
            "left": null
          }
        },
        "6881cdb9dc1840a4a3faf23a99e24d01": {
          "model_module": "@jupyter-widgets/controls",
          "model_name": "ProgressStyleModel",
          "model_module_version": "1.5.0",
          "state": {
            "_view_name": "StyleView",
            "_model_name": "ProgressStyleModel",
            "description_width": "",
            "_view_module": "@jupyter-widgets/base",
            "_model_module_version": "1.5.0",
            "_view_count": null,
            "_view_module_version": "1.2.0",
            "bar_color": null,
            "_model_module": "@jupyter-widgets/controls"
          }
        },
        "5bac43acd0a04041b82808270aa63421": {
          "model_module": "@jupyter-widgets/base",
          "model_name": "LayoutModel",
          "model_module_version": "1.2.0",
          "state": {
            "_view_name": "LayoutView",
            "grid_template_rows": null,
            "right": null,
            "justify_content": null,
            "_view_module": "@jupyter-widgets/base",
            "overflow": null,
            "_model_module_version": "1.2.0",
            "_view_count": null,
            "flex_flow": null,
            "width": null,
            "min_width": null,
            "border": null,
            "align_items": null,
            "bottom": null,
            "_model_module": "@jupyter-widgets/base",
            "top": null,
            "grid_column": null,
            "overflow_y": null,
            "overflow_x": null,
            "grid_auto_flow": null,
            "grid_area": null,
            "grid_template_columns": null,
            "flex": null,
            "_model_name": "LayoutModel",
            "justify_items": null,
            "grid_row": null,
            "max_height": null,
            "align_content": null,
            "visibility": null,
            "align_self": null,
            "height": null,
            "min_height": null,
            "padding": null,
            "grid_auto_rows": null,
            "grid_gap": null,
            "max_width": null,
            "order": null,
            "_view_module_version": "1.2.0",
            "grid_template_areas": null,
            "object_position": null,
            "object_fit": null,
            "grid_auto_columns": null,
            "margin": null,
            "display": null,
            "left": null
          }
        },
        "b77d6b477ece432fa82069cd41fcbff4": {
          "model_module": "@jupyter-widgets/controls",
          "model_name": "DescriptionStyleModel",
          "model_module_version": "1.5.0",
          "state": {
            "_view_name": "StyleView",
            "_model_name": "DescriptionStyleModel",
            "description_width": "",
            "_view_module": "@jupyter-widgets/base",
            "_model_module_version": "1.5.0",
            "_view_count": null,
            "_view_module_version": "1.2.0",
            "_model_module": "@jupyter-widgets/controls"
          }
        },
        "72b31045c88b46ebabb6a8510aee0bf6": {
          "model_module": "@jupyter-widgets/base",
          "model_name": "LayoutModel",
          "model_module_version": "1.2.0",
          "state": {
            "_view_name": "LayoutView",
            "grid_template_rows": null,
            "right": null,
            "justify_content": null,
            "_view_module": "@jupyter-widgets/base",
            "overflow": null,
            "_model_module_version": "1.2.0",
            "_view_count": null,
            "flex_flow": null,
            "width": null,
            "min_width": null,
            "border": null,
            "align_items": null,
            "bottom": null,
            "_model_module": "@jupyter-widgets/base",
            "top": null,
            "grid_column": null,
            "overflow_y": null,
            "overflow_x": null,
            "grid_auto_flow": null,
            "grid_area": null,
            "grid_template_columns": null,
            "flex": null,
            "_model_name": "LayoutModel",
            "justify_items": null,
            "grid_row": null,
            "max_height": null,
            "align_content": null,
            "visibility": null,
            "align_self": null,
            "height": null,
            "min_height": null,
            "padding": null,
            "grid_auto_rows": null,
            "grid_gap": null,
            "max_width": null,
            "order": null,
            "_view_module_version": "1.2.0",
            "grid_template_areas": null,
            "object_position": null,
            "object_fit": null,
            "grid_auto_columns": null,
            "margin": null,
            "display": null,
            "left": null
          }
        },
        "58833b4eef1e4f99a19875e4039ba863": {
          "model_module": "@jupyter-widgets/controls",
          "model_name": "HBoxModel",
          "model_module_version": "1.5.0",
          "state": {
            "_view_name": "HBoxView",
            "_dom_classes": [],
            "_model_name": "HBoxModel",
            "_view_module": "@jupyter-widgets/controls",
            "_model_module_version": "1.5.0",
            "_view_count": null,
            "_view_module_version": "1.5.0",
            "box_style": "",
            "layout": "IPY_MODEL_d5443fcbd03f40c1bf7283bd0b12733e",
            "_model_module": "@jupyter-widgets/controls",
            "children": [
              "IPY_MODEL_497fbed9d2a64dd4858005b56a83b05d",
              "IPY_MODEL_b28fa012a53c41aea981951ca430dac5",
              "IPY_MODEL_9576d16dcd06473489ff6cb6a05d8650"
            ]
          }
        },
        "d5443fcbd03f40c1bf7283bd0b12733e": {
          "model_module": "@jupyter-widgets/base",
          "model_name": "LayoutModel",
          "model_module_version": "1.2.0",
          "state": {
            "_view_name": "LayoutView",
            "grid_template_rows": null,
            "right": null,
            "justify_content": null,
            "_view_module": "@jupyter-widgets/base",
            "overflow": null,
            "_model_module_version": "1.2.0",
            "_view_count": null,
            "flex_flow": null,
            "width": null,
            "min_width": null,
            "border": null,
            "align_items": null,
            "bottom": null,
            "_model_module": "@jupyter-widgets/base",
            "top": null,
            "grid_column": null,
            "overflow_y": null,
            "overflow_x": null,
            "grid_auto_flow": null,
            "grid_area": null,
            "grid_template_columns": null,
            "flex": null,
            "_model_name": "LayoutModel",
            "justify_items": null,
            "grid_row": null,
            "max_height": null,
            "align_content": null,
            "visibility": null,
            "align_self": null,
            "height": null,
            "min_height": null,
            "padding": null,
            "grid_auto_rows": null,
            "grid_gap": null,
            "max_width": null,
            "order": null,
            "_view_module_version": "1.2.0",
            "grid_template_areas": null,
            "object_position": null,
            "object_fit": null,
            "grid_auto_columns": null,
            "margin": null,
            "display": null,
            "left": null
          }
        },
        "497fbed9d2a64dd4858005b56a83b05d": {
          "model_module": "@jupyter-widgets/controls",
          "model_name": "HTMLModel",
          "model_module_version": "1.5.0",
          "state": {
            "_view_name": "HTMLView",
            "style": "IPY_MODEL_9d322b77ac1243bc9be439971f8f0005",
            "_dom_classes": [],
            "description": "",
            "_model_name": "HTMLModel",
            "placeholder": "​",
            "_view_module": "@jupyter-widgets/controls",
            "_model_module_version": "1.5.0",
            "value": "Downloading: 100%",
            "_view_count": null,
            "_view_module_version": "1.5.0",
            "description_tooltip": null,
            "_model_module": "@jupyter-widgets/controls",
            "layout": "IPY_MODEL_88f5d5ae75e5408aaf4485964de3e217"
          }
        },
        "b28fa012a53c41aea981951ca430dac5": {
          "model_module": "@jupyter-widgets/controls",
          "model_name": "FloatProgressModel",
          "model_module_version": "1.5.0",
          "state": {
            "_view_name": "ProgressView",
            "style": "IPY_MODEL_1bb3c2186ef745539dd946e07d270e0f",
            "_dom_classes": [],
            "description": "",
            "_model_name": "FloatProgressModel",
            "bar_style": "success",
            "max": 466062,
            "_view_module": "@jupyter-widgets/controls",
            "_model_module_version": "1.5.0",
            "value": 466062,
            "_view_count": null,
            "_view_module_version": "1.5.0",
            "orientation": "horizontal",
            "min": 0,
            "description_tooltip": null,
            "_model_module": "@jupyter-widgets/controls",
            "layout": "IPY_MODEL_4d8c81c0ca594d6ba24381938e6a7405"
          }
        },
        "9576d16dcd06473489ff6cb6a05d8650": {
          "model_module": "@jupyter-widgets/controls",
          "model_name": "HTMLModel",
          "model_module_version": "1.5.0",
          "state": {
            "_view_name": "HTMLView",
            "style": "IPY_MODEL_56e5a0f5838e45418f90c952f9f02484",
            "_dom_classes": [],
            "description": "",
            "_model_name": "HTMLModel",
            "placeholder": "​",
            "_view_module": "@jupyter-widgets/controls",
            "_model_module_version": "1.5.0",
            "value": " 455k/455k [00:00&lt;00:00, 815kB/s]",
            "_view_count": null,
            "_view_module_version": "1.5.0",
            "description_tooltip": null,
            "_model_module": "@jupyter-widgets/controls",
            "layout": "IPY_MODEL_be9469b91b574b6da3710b3666904f7f"
          }
        },
        "9d322b77ac1243bc9be439971f8f0005": {
          "model_module": "@jupyter-widgets/controls",
          "model_name": "DescriptionStyleModel",
          "model_module_version": "1.5.0",
          "state": {
            "_view_name": "StyleView",
            "_model_name": "DescriptionStyleModel",
            "description_width": "",
            "_view_module": "@jupyter-widgets/base",
            "_model_module_version": "1.5.0",
            "_view_count": null,
            "_view_module_version": "1.2.0",
            "_model_module": "@jupyter-widgets/controls"
          }
        },
        "88f5d5ae75e5408aaf4485964de3e217": {
          "model_module": "@jupyter-widgets/base",
          "model_name": "LayoutModel",
          "model_module_version": "1.2.0",
          "state": {
            "_view_name": "LayoutView",
            "grid_template_rows": null,
            "right": null,
            "justify_content": null,
            "_view_module": "@jupyter-widgets/base",
            "overflow": null,
            "_model_module_version": "1.2.0",
            "_view_count": null,
            "flex_flow": null,
            "width": null,
            "min_width": null,
            "border": null,
            "align_items": null,
            "bottom": null,
            "_model_module": "@jupyter-widgets/base",
            "top": null,
            "grid_column": null,
            "overflow_y": null,
            "overflow_x": null,
            "grid_auto_flow": null,
            "grid_area": null,
            "grid_template_columns": null,
            "flex": null,
            "_model_name": "LayoutModel",
            "justify_items": null,
            "grid_row": null,
            "max_height": null,
            "align_content": null,
            "visibility": null,
            "align_self": null,
            "height": null,
            "min_height": null,
            "padding": null,
            "grid_auto_rows": null,
            "grid_gap": null,
            "max_width": null,
            "order": null,
            "_view_module_version": "1.2.0",
            "grid_template_areas": null,
            "object_position": null,
            "object_fit": null,
            "grid_auto_columns": null,
            "margin": null,
            "display": null,
            "left": null
          }
        },
        "1bb3c2186ef745539dd946e07d270e0f": {
          "model_module": "@jupyter-widgets/controls",
          "model_name": "ProgressStyleModel",
          "model_module_version": "1.5.0",
          "state": {
            "_view_name": "StyleView",
            "_model_name": "ProgressStyleModel",
            "description_width": "",
            "_view_module": "@jupyter-widgets/base",
            "_model_module_version": "1.5.0",
            "_view_count": null,
            "_view_module_version": "1.2.0",
            "bar_color": null,
            "_model_module": "@jupyter-widgets/controls"
          }
        },
        "4d8c81c0ca594d6ba24381938e6a7405": {
          "model_module": "@jupyter-widgets/base",
          "model_name": "LayoutModel",
          "model_module_version": "1.2.0",
          "state": {
            "_view_name": "LayoutView",
            "grid_template_rows": null,
            "right": null,
            "justify_content": null,
            "_view_module": "@jupyter-widgets/base",
            "overflow": null,
            "_model_module_version": "1.2.0",
            "_view_count": null,
            "flex_flow": null,
            "width": null,
            "min_width": null,
            "border": null,
            "align_items": null,
            "bottom": null,
            "_model_module": "@jupyter-widgets/base",
            "top": null,
            "grid_column": null,
            "overflow_y": null,
            "overflow_x": null,
            "grid_auto_flow": null,
            "grid_area": null,
            "grid_template_columns": null,
            "flex": null,
            "_model_name": "LayoutModel",
            "justify_items": null,
            "grid_row": null,
            "max_height": null,
            "align_content": null,
            "visibility": null,
            "align_self": null,
            "height": null,
            "min_height": null,
            "padding": null,
            "grid_auto_rows": null,
            "grid_gap": null,
            "max_width": null,
            "order": null,
            "_view_module_version": "1.2.0",
            "grid_template_areas": null,
            "object_position": null,
            "object_fit": null,
            "grid_auto_columns": null,
            "margin": null,
            "display": null,
            "left": null
          }
        },
        "56e5a0f5838e45418f90c952f9f02484": {
          "model_module": "@jupyter-widgets/controls",
          "model_name": "DescriptionStyleModel",
          "model_module_version": "1.5.0",
          "state": {
            "_view_name": "StyleView",
            "_model_name": "DescriptionStyleModel",
            "description_width": "",
            "_view_module": "@jupyter-widgets/base",
            "_model_module_version": "1.5.0",
            "_view_count": null,
            "_view_module_version": "1.2.0",
            "_model_module": "@jupyter-widgets/controls"
          }
        },
        "be9469b91b574b6da3710b3666904f7f": {
          "model_module": "@jupyter-widgets/base",
          "model_name": "LayoutModel",
          "model_module_version": "1.2.0",
          "state": {
            "_view_name": "LayoutView",
            "grid_template_rows": null,
            "right": null,
            "justify_content": null,
            "_view_module": "@jupyter-widgets/base",
            "overflow": null,
            "_model_module_version": "1.2.0",
            "_view_count": null,
            "flex_flow": null,
            "width": null,
            "min_width": null,
            "border": null,
            "align_items": null,
            "bottom": null,
            "_model_module": "@jupyter-widgets/base",
            "top": null,
            "grid_column": null,
            "overflow_y": null,
            "overflow_x": null,
            "grid_auto_flow": null,
            "grid_area": null,
            "grid_template_columns": null,
            "flex": null,
            "_model_name": "LayoutModel",
            "justify_items": null,
            "grid_row": null,
            "max_height": null,
            "align_content": null,
            "visibility": null,
            "align_self": null,
            "height": null,
            "min_height": null,
            "padding": null,
            "grid_auto_rows": null,
            "grid_gap": null,
            "max_width": null,
            "order": null,
            "_view_module_version": "1.2.0",
            "grid_template_areas": null,
            "object_position": null,
            "object_fit": null,
            "grid_auto_columns": null,
            "margin": null,
            "display": null,
            "left": null
          }
        },
        "611cccf640134feaa285755305293d55": {
          "model_module": "@jupyter-widgets/controls",
          "model_name": "HBoxModel",
          "model_module_version": "1.5.0",
          "state": {
            "_view_name": "HBoxView",
            "_dom_classes": [],
            "_model_name": "HBoxModel",
            "_view_module": "@jupyter-widgets/controls",
            "_model_module_version": "1.5.0",
            "_view_count": null,
            "_view_module_version": "1.5.0",
            "box_style": "",
            "layout": "IPY_MODEL_73941c67b0a1478f859237c4dc970c39",
            "_model_module": "@jupyter-widgets/controls",
            "children": [
              "IPY_MODEL_2638ad73bca948569612f0f05fc6e7d1",
              "IPY_MODEL_740826d5236046d287462ee96201dc7e",
              "IPY_MODEL_5940af045398448994c346ee03dc216a"
            ]
          }
        },
        "73941c67b0a1478f859237c4dc970c39": {
          "model_module": "@jupyter-widgets/base",
          "model_name": "LayoutModel",
          "model_module_version": "1.2.0",
          "state": {
            "_view_name": "LayoutView",
            "grid_template_rows": null,
            "right": null,
            "justify_content": null,
            "_view_module": "@jupyter-widgets/base",
            "overflow": null,
            "_model_module_version": "1.2.0",
            "_view_count": null,
            "flex_flow": null,
            "width": null,
            "min_width": null,
            "border": null,
            "align_items": null,
            "bottom": null,
            "_model_module": "@jupyter-widgets/base",
            "top": null,
            "grid_column": null,
            "overflow_y": null,
            "overflow_x": null,
            "grid_auto_flow": null,
            "grid_area": null,
            "grid_template_columns": null,
            "flex": null,
            "_model_name": "LayoutModel",
            "justify_items": null,
            "grid_row": null,
            "max_height": null,
            "align_content": null,
            "visibility": null,
            "align_self": null,
            "height": null,
            "min_height": null,
            "padding": null,
            "grid_auto_rows": null,
            "grid_gap": null,
            "max_width": null,
            "order": null,
            "_view_module_version": "1.2.0",
            "grid_template_areas": null,
            "object_position": null,
            "object_fit": null,
            "grid_auto_columns": null,
            "margin": null,
            "display": null,
            "left": null
          }
        },
        "2638ad73bca948569612f0f05fc6e7d1": {
          "model_module": "@jupyter-widgets/controls",
          "model_name": "HTMLModel",
          "model_module_version": "1.5.0",
          "state": {
            "_view_name": "HTMLView",
            "style": "IPY_MODEL_943f950b3e474a20b2dc11a19a4f2c89",
            "_dom_classes": [],
            "description": "",
            "_model_name": "HTMLModel",
            "placeholder": "​",
            "_view_module": "@jupyter-widgets/controls",
            "_model_module_version": "1.5.0",
            "value": "Downloading: 100%",
            "_view_count": null,
            "_view_module_version": "1.5.0",
            "description_tooltip": null,
            "_model_module": "@jupyter-widgets/controls",
            "layout": "IPY_MODEL_4c7a844a0b3b4f33b219874a4bee5b10"
          }
        },
        "740826d5236046d287462ee96201dc7e": {
          "model_module": "@jupyter-widgets/controls",
          "model_name": "FloatProgressModel",
          "model_module_version": "1.5.0",
          "state": {
            "_view_name": "ProgressView",
            "style": "IPY_MODEL_e2c6335d24324bcca1b4d04d870c46be",
            "_dom_classes": [],
            "description": "",
            "_model_name": "FloatProgressModel",
            "bar_style": "success",
            "max": 570,
            "_view_module": "@jupyter-widgets/controls",
            "_model_module_version": "1.5.0",
            "value": 570,
            "_view_count": null,
            "_view_module_version": "1.5.0",
            "orientation": "horizontal",
            "min": 0,
            "description_tooltip": null,
            "_model_module": "@jupyter-widgets/controls",
            "layout": "IPY_MODEL_c2244ae1b9714fedad26bd6ecfe84f26"
          }
        },
        "5940af045398448994c346ee03dc216a": {
          "model_module": "@jupyter-widgets/controls",
          "model_name": "HTMLModel",
          "model_module_version": "1.5.0",
          "state": {
            "_view_name": "HTMLView",
            "style": "IPY_MODEL_8a2c3fe7fafb4b6da11aef2166286653",
            "_dom_classes": [],
            "description": "",
            "_model_name": "HTMLModel",
            "placeholder": "​",
            "_view_module": "@jupyter-widgets/controls",
            "_model_module_version": "1.5.0",
            "value": " 570/570 [00:00&lt;00:00, 10.7kB/s]",
            "_view_count": null,
            "_view_module_version": "1.5.0",
            "description_tooltip": null,
            "_model_module": "@jupyter-widgets/controls",
            "layout": "IPY_MODEL_418e1b6a43c24e72a15263bfccf79780"
          }
        },
        "943f950b3e474a20b2dc11a19a4f2c89": {
          "model_module": "@jupyter-widgets/controls",
          "model_name": "DescriptionStyleModel",
          "model_module_version": "1.5.0",
          "state": {
            "_view_name": "StyleView",
            "_model_name": "DescriptionStyleModel",
            "description_width": "",
            "_view_module": "@jupyter-widgets/base",
            "_model_module_version": "1.5.0",
            "_view_count": null,
            "_view_module_version": "1.2.0",
            "_model_module": "@jupyter-widgets/controls"
          }
        },
        "4c7a844a0b3b4f33b219874a4bee5b10": {
          "model_module": "@jupyter-widgets/base",
          "model_name": "LayoutModel",
          "model_module_version": "1.2.0",
          "state": {
            "_view_name": "LayoutView",
            "grid_template_rows": null,
            "right": null,
            "justify_content": null,
            "_view_module": "@jupyter-widgets/base",
            "overflow": null,
            "_model_module_version": "1.2.0",
            "_view_count": null,
            "flex_flow": null,
            "width": null,
            "min_width": null,
            "border": null,
            "align_items": null,
            "bottom": null,
            "_model_module": "@jupyter-widgets/base",
            "top": null,
            "grid_column": null,
            "overflow_y": null,
            "overflow_x": null,
            "grid_auto_flow": null,
            "grid_area": null,
            "grid_template_columns": null,
            "flex": null,
            "_model_name": "LayoutModel",
            "justify_items": null,
            "grid_row": null,
            "max_height": null,
            "align_content": null,
            "visibility": null,
            "align_self": null,
            "height": null,
            "min_height": null,
            "padding": null,
            "grid_auto_rows": null,
            "grid_gap": null,
            "max_width": null,
            "order": null,
            "_view_module_version": "1.2.0",
            "grid_template_areas": null,
            "object_position": null,
            "object_fit": null,
            "grid_auto_columns": null,
            "margin": null,
            "display": null,
            "left": null
          }
        },
        "e2c6335d24324bcca1b4d04d870c46be": {
          "model_module": "@jupyter-widgets/controls",
          "model_name": "ProgressStyleModel",
          "model_module_version": "1.5.0",
          "state": {
            "_view_name": "StyleView",
            "_model_name": "ProgressStyleModel",
            "description_width": "",
            "_view_module": "@jupyter-widgets/base",
            "_model_module_version": "1.5.0",
            "_view_count": null,
            "_view_module_version": "1.2.0",
            "bar_color": null,
            "_model_module": "@jupyter-widgets/controls"
          }
        },
        "c2244ae1b9714fedad26bd6ecfe84f26": {
          "model_module": "@jupyter-widgets/base",
          "model_name": "LayoutModel",
          "model_module_version": "1.2.0",
          "state": {
            "_view_name": "LayoutView",
            "grid_template_rows": null,
            "right": null,
            "justify_content": null,
            "_view_module": "@jupyter-widgets/base",
            "overflow": null,
            "_model_module_version": "1.2.0",
            "_view_count": null,
            "flex_flow": null,
            "width": null,
            "min_width": null,
            "border": null,
            "align_items": null,
            "bottom": null,
            "_model_module": "@jupyter-widgets/base",
            "top": null,
            "grid_column": null,
            "overflow_y": null,
            "overflow_x": null,
            "grid_auto_flow": null,
            "grid_area": null,
            "grid_template_columns": null,
            "flex": null,
            "_model_name": "LayoutModel",
            "justify_items": null,
            "grid_row": null,
            "max_height": null,
            "align_content": null,
            "visibility": null,
            "align_self": null,
            "height": null,
            "min_height": null,
            "padding": null,
            "grid_auto_rows": null,
            "grid_gap": null,
            "max_width": null,
            "order": null,
            "_view_module_version": "1.2.0",
            "grid_template_areas": null,
            "object_position": null,
            "object_fit": null,
            "grid_auto_columns": null,
            "margin": null,
            "display": null,
            "left": null
          }
        },
        "8a2c3fe7fafb4b6da11aef2166286653": {
          "model_module": "@jupyter-widgets/controls",
          "model_name": "DescriptionStyleModel",
          "model_module_version": "1.5.0",
          "state": {
            "_view_name": "StyleView",
            "_model_name": "DescriptionStyleModel",
            "description_width": "",
            "_view_module": "@jupyter-widgets/base",
            "_model_module_version": "1.5.0",
            "_view_count": null,
            "_view_module_version": "1.2.0",
            "_model_module": "@jupyter-widgets/controls"
          }
        },
        "418e1b6a43c24e72a15263bfccf79780": {
          "model_module": "@jupyter-widgets/base",
          "model_name": "LayoutModel",
          "model_module_version": "1.2.0",
          "state": {
            "_view_name": "LayoutView",
            "grid_template_rows": null,
            "right": null,
            "justify_content": null,
            "_view_module": "@jupyter-widgets/base",
            "overflow": null,
            "_model_module_version": "1.2.0",
            "_view_count": null,
            "flex_flow": null,
            "width": null,
            "min_width": null,
            "border": null,
            "align_items": null,
            "bottom": null,
            "_model_module": "@jupyter-widgets/base",
            "top": null,
            "grid_column": null,
            "overflow_y": null,
            "overflow_x": null,
            "grid_auto_flow": null,
            "grid_area": null,
            "grid_template_columns": null,
            "flex": null,
            "_model_name": "LayoutModel",
            "justify_items": null,
            "grid_row": null,
            "max_height": null,
            "align_content": null,
            "visibility": null,
            "align_self": null,
            "height": null,
            "min_height": null,
            "padding": null,
            "grid_auto_rows": null,
            "grid_gap": null,
            "max_width": null,
            "order": null,
            "_view_module_version": "1.2.0",
            "grid_template_areas": null,
            "object_position": null,
            "object_fit": null,
            "grid_auto_columns": null,
            "margin": null,
            "display": null,
            "left": null
          }
        },
        "cd885dba4f7540298a7edd8f47ec5a51": {
          "model_module": "@jupyter-widgets/controls",
          "model_name": "HBoxModel",
          "model_module_version": "1.5.0",
          "state": {
            "_view_name": "HBoxView",
            "_dom_classes": [],
            "_model_name": "HBoxModel",
            "_view_module": "@jupyter-widgets/controls",
            "_model_module_version": "1.5.0",
            "_view_count": null,
            "_view_module_version": "1.5.0",
            "box_style": "",
            "layout": "IPY_MODEL_baf490712581454583544c84c231c3bf",
            "_model_module": "@jupyter-widgets/controls",
            "children": [
              "IPY_MODEL_56ba588188444e19adc7df9add3505d0",
              "IPY_MODEL_2c8a2357ab9442cab63f37c3d3797413",
              "IPY_MODEL_dc78ea1717c24f2cacba9025cfc6c398"
            ]
          }
        },
        "baf490712581454583544c84c231c3bf": {
          "model_module": "@jupyter-widgets/base",
          "model_name": "LayoutModel",
          "model_module_version": "1.2.0",
          "state": {
            "_view_name": "LayoutView",
            "grid_template_rows": null,
            "right": null,
            "justify_content": null,
            "_view_module": "@jupyter-widgets/base",
            "overflow": null,
            "_model_module_version": "1.2.0",
            "_view_count": null,
            "flex_flow": null,
            "width": null,
            "min_width": null,
            "border": null,
            "align_items": null,
            "bottom": null,
            "_model_module": "@jupyter-widgets/base",
            "top": null,
            "grid_column": null,
            "overflow_y": null,
            "overflow_x": null,
            "grid_auto_flow": null,
            "grid_area": null,
            "grid_template_columns": null,
            "flex": null,
            "_model_name": "LayoutModel",
            "justify_items": null,
            "grid_row": null,
            "max_height": null,
            "align_content": null,
            "visibility": null,
            "align_self": null,
            "height": null,
            "min_height": null,
            "padding": null,
            "grid_auto_rows": null,
            "grid_gap": null,
            "max_width": null,
            "order": null,
            "_view_module_version": "1.2.0",
            "grid_template_areas": null,
            "object_position": null,
            "object_fit": null,
            "grid_auto_columns": null,
            "margin": null,
            "display": null,
            "left": null
          }
        },
        "56ba588188444e19adc7df9add3505d0": {
          "model_module": "@jupyter-widgets/controls",
          "model_name": "HTMLModel",
          "model_module_version": "1.5.0",
          "state": {
            "_view_name": "HTMLView",
            "style": "IPY_MODEL_8a49f6416f224bde979e21ccba81d6e6",
            "_dom_classes": [],
            "description": "",
            "_model_name": "HTMLModel",
            "placeholder": "​",
            "_view_module": "@jupyter-widgets/controls",
            "_model_module_version": "1.5.0",
            "value": "Downloading: 100%",
            "_view_count": null,
            "_view_module_version": "1.5.0",
            "description_tooltip": null,
            "_model_module": "@jupyter-widgets/controls",
            "layout": "IPY_MODEL_72f25d41d27b47d298ae8c50112dad83"
          }
        },
        "2c8a2357ab9442cab63f37c3d3797413": {
          "model_module": "@jupyter-widgets/controls",
          "model_name": "FloatProgressModel",
          "model_module_version": "1.5.0",
          "state": {
            "_view_name": "ProgressView",
            "style": "IPY_MODEL_e68a8f983f2b413dbf43ee39df10c26a",
            "_dom_classes": [],
            "description": "",
            "_model_name": "FloatProgressModel",
            "bar_style": "success",
            "max": 440473133,
            "_view_module": "@jupyter-widgets/controls",
            "_model_module_version": "1.5.0",
            "value": 440473133,
            "_view_count": null,
            "_view_module_version": "1.5.0",
            "orientation": "horizontal",
            "min": 0,
            "description_tooltip": null,
            "_model_module": "@jupyter-widgets/controls",
            "layout": "IPY_MODEL_bd3d5785483b421ab0f89385c16e831e"
          }
        },
        "dc78ea1717c24f2cacba9025cfc6c398": {
          "model_module": "@jupyter-widgets/controls",
          "model_name": "HTMLModel",
          "model_module_version": "1.5.0",
          "state": {
            "_view_name": "HTMLView",
            "style": "IPY_MODEL_36bbe2dc8093443099d5baa17853fbc5",
            "_dom_classes": [],
            "description": "",
            "_model_name": "HTMLModel",
            "placeholder": "​",
            "_view_module": "@jupyter-widgets/controls",
            "_model_module_version": "1.5.0",
            "value": " 420M/420M [00:15&lt;00:00, 27.0MB/s]",
            "_view_count": null,
            "_view_module_version": "1.5.0",
            "description_tooltip": null,
            "_model_module": "@jupyter-widgets/controls",
            "layout": "IPY_MODEL_a2b304ee99a945bd82dd9c2d2f92daac"
          }
        },
        "8a49f6416f224bde979e21ccba81d6e6": {
          "model_module": "@jupyter-widgets/controls",
          "model_name": "DescriptionStyleModel",
          "model_module_version": "1.5.0",
          "state": {
            "_view_name": "StyleView",
            "_model_name": "DescriptionStyleModel",
            "description_width": "",
            "_view_module": "@jupyter-widgets/base",
            "_model_module_version": "1.5.0",
            "_view_count": null,
            "_view_module_version": "1.2.0",
            "_model_module": "@jupyter-widgets/controls"
          }
        },
        "72f25d41d27b47d298ae8c50112dad83": {
          "model_module": "@jupyter-widgets/base",
          "model_name": "LayoutModel",
          "model_module_version": "1.2.0",
          "state": {
            "_view_name": "LayoutView",
            "grid_template_rows": null,
            "right": null,
            "justify_content": null,
            "_view_module": "@jupyter-widgets/base",
            "overflow": null,
            "_model_module_version": "1.2.0",
            "_view_count": null,
            "flex_flow": null,
            "width": null,
            "min_width": null,
            "border": null,
            "align_items": null,
            "bottom": null,
            "_model_module": "@jupyter-widgets/base",
            "top": null,
            "grid_column": null,
            "overflow_y": null,
            "overflow_x": null,
            "grid_auto_flow": null,
            "grid_area": null,
            "grid_template_columns": null,
            "flex": null,
            "_model_name": "LayoutModel",
            "justify_items": null,
            "grid_row": null,
            "max_height": null,
            "align_content": null,
            "visibility": null,
            "align_self": null,
            "height": null,
            "min_height": null,
            "padding": null,
            "grid_auto_rows": null,
            "grid_gap": null,
            "max_width": null,
            "order": null,
            "_view_module_version": "1.2.0",
            "grid_template_areas": null,
            "object_position": null,
            "object_fit": null,
            "grid_auto_columns": null,
            "margin": null,
            "display": null,
            "left": null
          }
        },
        "e68a8f983f2b413dbf43ee39df10c26a": {
          "model_module": "@jupyter-widgets/controls",
          "model_name": "ProgressStyleModel",
          "model_module_version": "1.5.0",
          "state": {
            "_view_name": "StyleView",
            "_model_name": "ProgressStyleModel",
            "description_width": "",
            "_view_module": "@jupyter-widgets/base",
            "_model_module_version": "1.5.0",
            "_view_count": null,
            "_view_module_version": "1.2.0",
            "bar_color": null,
            "_model_module": "@jupyter-widgets/controls"
          }
        },
        "bd3d5785483b421ab0f89385c16e831e": {
          "model_module": "@jupyter-widgets/base",
          "model_name": "LayoutModel",
          "model_module_version": "1.2.0",
          "state": {
            "_view_name": "LayoutView",
            "grid_template_rows": null,
            "right": null,
            "justify_content": null,
            "_view_module": "@jupyter-widgets/base",
            "overflow": null,
            "_model_module_version": "1.2.0",
            "_view_count": null,
            "flex_flow": null,
            "width": null,
            "min_width": null,
            "border": null,
            "align_items": null,
            "bottom": null,
            "_model_module": "@jupyter-widgets/base",
            "top": null,
            "grid_column": null,
            "overflow_y": null,
            "overflow_x": null,
            "grid_auto_flow": null,
            "grid_area": null,
            "grid_template_columns": null,
            "flex": null,
            "_model_name": "LayoutModel",
            "justify_items": null,
            "grid_row": null,
            "max_height": null,
            "align_content": null,
            "visibility": null,
            "align_self": null,
            "height": null,
            "min_height": null,
            "padding": null,
            "grid_auto_rows": null,
            "grid_gap": null,
            "max_width": null,
            "order": null,
            "_view_module_version": "1.2.0",
            "grid_template_areas": null,
            "object_position": null,
            "object_fit": null,
            "grid_auto_columns": null,
            "margin": null,
            "display": null,
            "left": null
          }
        },
        "36bbe2dc8093443099d5baa17853fbc5": {
          "model_module": "@jupyter-widgets/controls",
          "model_name": "DescriptionStyleModel",
          "model_module_version": "1.5.0",
          "state": {
            "_view_name": "StyleView",
            "_model_name": "DescriptionStyleModel",
            "description_width": "",
            "_view_module": "@jupyter-widgets/base",
            "_model_module_version": "1.5.0",
            "_view_count": null,
            "_view_module_version": "1.2.0",
            "_model_module": "@jupyter-widgets/controls"
          }
        },
        "a2b304ee99a945bd82dd9c2d2f92daac": {
          "model_module": "@jupyter-widgets/base",
          "model_name": "LayoutModel",
          "model_module_version": "1.2.0",
          "state": {
            "_view_name": "LayoutView",
            "grid_template_rows": null,
            "right": null,
            "justify_content": null,
            "_view_module": "@jupyter-widgets/base",
            "overflow": null,
            "_model_module_version": "1.2.0",
            "_view_count": null,
            "flex_flow": null,
            "width": null,
            "min_width": null,
            "border": null,
            "align_items": null,
            "bottom": null,
            "_model_module": "@jupyter-widgets/base",
            "top": null,
            "grid_column": null,
            "overflow_y": null,
            "overflow_x": null,
            "grid_auto_flow": null,
            "grid_area": null,
            "grid_template_columns": null,
            "flex": null,
            "_model_name": "LayoutModel",
            "justify_items": null,
            "grid_row": null,
            "max_height": null,
            "align_content": null,
            "visibility": null,
            "align_self": null,
            "height": null,
            "min_height": null,
            "padding": null,
            "grid_auto_rows": null,
            "grid_gap": null,
            "max_width": null,
            "order": null,
            "_view_module_version": "1.2.0",
            "grid_template_areas": null,
            "object_position": null,
            "object_fit": null,
            "grid_auto_columns": null,
            "margin": null,
            "display": null,
            "left": null
          }
        },
        "1b85da6a60bb4ea38e423f9bf2722329": {
          "model_module": "@jupyter-widgets/controls",
          "model_name": "HBoxModel",
          "model_module_version": "1.5.0",
          "state": {
            "_view_name": "HBoxView",
            "_dom_classes": [],
            "_model_name": "HBoxModel",
            "_view_module": "@jupyter-widgets/controls",
            "_model_module_version": "1.5.0",
            "_view_count": null,
            "_view_module_version": "1.5.0",
            "box_style": "",
            "layout": "IPY_MODEL_9d749e0dbec9474097e7ad8c7c1ba1a9",
            "_model_module": "@jupyter-widgets/controls",
            "children": [
              "IPY_MODEL_23c43ac542294cbeb29a2c8e984c8cd7",
              "IPY_MODEL_80642034077c41168ed9807708610ca1",
              "IPY_MODEL_5e59e151649a41e78749fdeb1d2d0441"
            ]
          }
        },
        "9d749e0dbec9474097e7ad8c7c1ba1a9": {
          "model_module": "@jupyter-widgets/base",
          "model_name": "LayoutModel",
          "model_module_version": "1.2.0",
          "state": {
            "_view_name": "LayoutView",
            "grid_template_rows": null,
            "right": null,
            "justify_content": null,
            "_view_module": "@jupyter-widgets/base",
            "overflow": null,
            "_model_module_version": "1.2.0",
            "_view_count": null,
            "flex_flow": null,
            "width": null,
            "min_width": null,
            "border": null,
            "align_items": null,
            "bottom": null,
            "_model_module": "@jupyter-widgets/base",
            "top": null,
            "grid_column": null,
            "overflow_y": null,
            "overflow_x": null,
            "grid_auto_flow": null,
            "grid_area": null,
            "grid_template_columns": null,
            "flex": null,
            "_model_name": "LayoutModel",
            "justify_items": null,
            "grid_row": null,
            "max_height": null,
            "align_content": null,
            "visibility": null,
            "align_self": null,
            "height": null,
            "min_height": null,
            "padding": null,
            "grid_auto_rows": null,
            "grid_gap": null,
            "max_width": null,
            "order": null,
            "_view_module_version": "1.2.0",
            "grid_template_areas": null,
            "object_position": null,
            "object_fit": null,
            "grid_auto_columns": null,
            "margin": null,
            "display": null,
            "left": null
          }
        },
        "23c43ac542294cbeb29a2c8e984c8cd7": {
          "model_module": "@jupyter-widgets/controls",
          "model_name": "HTMLModel",
          "model_module_version": "1.5.0",
          "state": {
            "_view_name": "HTMLView",
            "style": "IPY_MODEL_91b4212807144fbbaefb6f0b27eab708",
            "_dom_classes": [],
            "description": "",
            "_model_name": "HTMLModel",
            "placeholder": "​",
            "_view_module": "@jupyter-widgets/controls",
            "_model_module_version": "1.5.0",
            "value": "Downloading: 100%",
            "_view_count": null,
            "_view_module_version": "1.5.0",
            "description_tooltip": null,
            "_model_module": "@jupyter-widgets/controls",
            "layout": "IPY_MODEL_55e1fe489e4f4874a18f949312d62811"
          }
        },
        "80642034077c41168ed9807708610ca1": {
          "model_module": "@jupyter-widgets/controls",
          "model_name": "FloatProgressModel",
          "model_module_version": "1.5.0",
          "state": {
            "_view_name": "ProgressView",
            "style": "IPY_MODEL_3e65c3c9e38148a690b016640e94f240",
            "_dom_classes": [],
            "description": "",
            "_model_name": "FloatProgressModel",
            "bar_style": "success",
            "max": 231508,
            "_view_module": "@jupyter-widgets/controls",
            "_model_module_version": "1.5.0",
            "value": 231508,
            "_view_count": null,
            "_view_module_version": "1.5.0",
            "orientation": "horizontal",
            "min": 0,
            "description_tooltip": null,
            "_model_module": "@jupyter-widgets/controls",
            "layout": "IPY_MODEL_9f3ff7d835f74e9dbc8b56aaa98a012f"
          }
        },
        "5e59e151649a41e78749fdeb1d2d0441": {
          "model_module": "@jupyter-widgets/controls",
          "model_name": "HTMLModel",
          "model_module_version": "1.5.0",
          "state": {
            "_view_name": "HTMLView",
            "style": "IPY_MODEL_c4f5b194b2f4470793d20d32dfbf0239",
            "_dom_classes": [],
            "description": "",
            "_model_name": "HTMLModel",
            "placeholder": "​",
            "_view_module": "@jupyter-widgets/controls",
            "_model_module_version": "1.5.0",
            "value": " 226k/226k [00:00&lt;00:00, 1.23MB/s]",
            "_view_count": null,
            "_view_module_version": "1.5.0",
            "description_tooltip": null,
            "_model_module": "@jupyter-widgets/controls",
            "layout": "IPY_MODEL_179a0ad3b62c4372a7c80bfbcb7b4304"
          }
        },
        "91b4212807144fbbaefb6f0b27eab708": {
          "model_module": "@jupyter-widgets/controls",
          "model_name": "DescriptionStyleModel",
          "model_module_version": "1.5.0",
          "state": {
            "_view_name": "StyleView",
            "_model_name": "DescriptionStyleModel",
            "description_width": "",
            "_view_module": "@jupyter-widgets/base",
            "_model_module_version": "1.5.0",
            "_view_count": null,
            "_view_module_version": "1.2.0",
            "_model_module": "@jupyter-widgets/controls"
          }
        },
        "55e1fe489e4f4874a18f949312d62811": {
          "model_module": "@jupyter-widgets/base",
          "model_name": "LayoutModel",
          "model_module_version": "1.2.0",
          "state": {
            "_view_name": "LayoutView",
            "grid_template_rows": null,
            "right": null,
            "justify_content": null,
            "_view_module": "@jupyter-widgets/base",
            "overflow": null,
            "_model_module_version": "1.2.0",
            "_view_count": null,
            "flex_flow": null,
            "width": null,
            "min_width": null,
            "border": null,
            "align_items": null,
            "bottom": null,
            "_model_module": "@jupyter-widgets/base",
            "top": null,
            "grid_column": null,
            "overflow_y": null,
            "overflow_x": null,
            "grid_auto_flow": null,
            "grid_area": null,
            "grid_template_columns": null,
            "flex": null,
            "_model_name": "LayoutModel",
            "justify_items": null,
            "grid_row": null,
            "max_height": null,
            "align_content": null,
            "visibility": null,
            "align_self": null,
            "height": null,
            "min_height": null,
            "padding": null,
            "grid_auto_rows": null,
            "grid_gap": null,
            "max_width": null,
            "order": null,
            "_view_module_version": "1.2.0",
            "grid_template_areas": null,
            "object_position": null,
            "object_fit": null,
            "grid_auto_columns": null,
            "margin": null,
            "display": null,
            "left": null
          }
        },
        "3e65c3c9e38148a690b016640e94f240": {
          "model_module": "@jupyter-widgets/controls",
          "model_name": "ProgressStyleModel",
          "model_module_version": "1.5.0",
          "state": {
            "_view_name": "StyleView",
            "_model_name": "ProgressStyleModel",
            "description_width": "",
            "_view_module": "@jupyter-widgets/base",
            "_model_module_version": "1.5.0",
            "_view_count": null,
            "_view_module_version": "1.2.0",
            "bar_color": null,
            "_model_module": "@jupyter-widgets/controls"
          }
        },
        "9f3ff7d835f74e9dbc8b56aaa98a012f": {
          "model_module": "@jupyter-widgets/base",
          "model_name": "LayoutModel",
          "model_module_version": "1.2.0",
          "state": {
            "_view_name": "LayoutView",
            "grid_template_rows": null,
            "right": null,
            "justify_content": null,
            "_view_module": "@jupyter-widgets/base",
            "overflow": null,
            "_model_module_version": "1.2.0",
            "_view_count": null,
            "flex_flow": null,
            "width": null,
            "min_width": null,
            "border": null,
            "align_items": null,
            "bottom": null,
            "_model_module": "@jupyter-widgets/base",
            "top": null,
            "grid_column": null,
            "overflow_y": null,
            "overflow_x": null,
            "grid_auto_flow": null,
            "grid_area": null,
            "grid_template_columns": null,
            "flex": null,
            "_model_name": "LayoutModel",
            "justify_items": null,
            "grid_row": null,
            "max_height": null,
            "align_content": null,
            "visibility": null,
            "align_self": null,
            "height": null,
            "min_height": null,
            "padding": null,
            "grid_auto_rows": null,
            "grid_gap": null,
            "max_width": null,
            "order": null,
            "_view_module_version": "1.2.0",
            "grid_template_areas": null,
            "object_position": null,
            "object_fit": null,
            "grid_auto_columns": null,
            "margin": null,
            "display": null,
            "left": null
          }
        },
        "c4f5b194b2f4470793d20d32dfbf0239": {
          "model_module": "@jupyter-widgets/controls",
          "model_name": "DescriptionStyleModel",
          "model_module_version": "1.5.0",
          "state": {
            "_view_name": "StyleView",
            "_model_name": "DescriptionStyleModel",
            "description_width": "",
            "_view_module": "@jupyter-widgets/base",
            "_model_module_version": "1.5.0",
            "_view_count": null,
            "_view_module_version": "1.2.0",
            "_model_module": "@jupyter-widgets/controls"
          }
        },
        "179a0ad3b62c4372a7c80bfbcb7b4304": {
          "model_module": "@jupyter-widgets/base",
          "model_name": "LayoutModel",
          "model_module_version": "1.2.0",
          "state": {
            "_view_name": "LayoutView",
            "grid_template_rows": null,
            "right": null,
            "justify_content": null,
            "_view_module": "@jupyter-widgets/base",
            "overflow": null,
            "_model_module_version": "1.2.0",
            "_view_count": null,
            "flex_flow": null,
            "width": null,
            "min_width": null,
            "border": null,
            "align_items": null,
            "bottom": null,
            "_model_module": "@jupyter-widgets/base",
            "top": null,
            "grid_column": null,
            "overflow_y": null,
            "overflow_x": null,
            "grid_auto_flow": null,
            "grid_area": null,
            "grid_template_columns": null,
            "flex": null,
            "_model_name": "LayoutModel",
            "justify_items": null,
            "grid_row": null,
            "max_height": null,
            "align_content": null,
            "visibility": null,
            "align_self": null,
            "height": null,
            "min_height": null,
            "padding": null,
            "grid_auto_rows": null,
            "grid_gap": null,
            "max_width": null,
            "order": null,
            "_view_module_version": "1.2.0",
            "grid_template_areas": null,
            "object_position": null,
            "object_fit": null,
            "grid_auto_columns": null,
            "margin": null,
            "display": null,
            "left": null
          }
        },
        "bcf10835bd2749a1bf3fc0699192e4b8": {
          "model_module": "@jupyter-widgets/controls",
          "model_name": "HBoxModel",
          "model_module_version": "1.5.0",
          "state": {
            "_view_name": "HBoxView",
            "_dom_classes": [],
            "_model_name": "HBoxModel",
            "_view_module": "@jupyter-widgets/controls",
            "_model_module_version": "1.5.0",
            "_view_count": null,
            "_view_module_version": "1.5.0",
            "box_style": "",
            "layout": "IPY_MODEL_15341ed3427946ef989e1fa376487aa5",
            "_model_module": "@jupyter-widgets/controls",
            "children": [
              "IPY_MODEL_4bdde9e9d2cd4797a12b91531e5c5749",
              "IPY_MODEL_e4567390bf794faa96ecb634bb6ed346",
              "IPY_MODEL_1e6190b76e0049399c5605ae55563ad4"
            ]
          }
        },
        "15341ed3427946ef989e1fa376487aa5": {
          "model_module": "@jupyter-widgets/base",
          "model_name": "LayoutModel",
          "model_module_version": "1.2.0",
          "state": {
            "_view_name": "LayoutView",
            "grid_template_rows": null,
            "right": null,
            "justify_content": null,
            "_view_module": "@jupyter-widgets/base",
            "overflow": null,
            "_model_module_version": "1.2.0",
            "_view_count": null,
            "flex_flow": null,
            "width": null,
            "min_width": null,
            "border": null,
            "align_items": null,
            "bottom": null,
            "_model_module": "@jupyter-widgets/base",
            "top": null,
            "grid_column": null,
            "overflow_y": null,
            "overflow_x": null,
            "grid_auto_flow": null,
            "grid_area": null,
            "grid_template_columns": null,
            "flex": null,
            "_model_name": "LayoutModel",
            "justify_items": null,
            "grid_row": null,
            "max_height": null,
            "align_content": null,
            "visibility": null,
            "align_self": null,
            "height": null,
            "min_height": null,
            "padding": null,
            "grid_auto_rows": null,
            "grid_gap": null,
            "max_width": null,
            "order": null,
            "_view_module_version": "1.2.0",
            "grid_template_areas": null,
            "object_position": null,
            "object_fit": null,
            "grid_auto_columns": null,
            "margin": null,
            "display": null,
            "left": null
          }
        },
        "4bdde9e9d2cd4797a12b91531e5c5749": {
          "model_module": "@jupyter-widgets/controls",
          "model_name": "HTMLModel",
          "model_module_version": "1.5.0",
          "state": {
            "_view_name": "HTMLView",
            "style": "IPY_MODEL_9ca67ac8e4164958ac2833725233b370",
            "_dom_classes": [],
            "description": "",
            "_model_name": "HTMLModel",
            "placeholder": "​",
            "_view_module": "@jupyter-widgets/controls",
            "_model_module_version": "1.5.0",
            "value": "Downloading: 100%",
            "_view_count": null,
            "_view_module_version": "1.5.0",
            "description_tooltip": null,
            "_model_module": "@jupyter-widgets/controls",
            "layout": "IPY_MODEL_d6da0cc210c3426d982b6fe5659b9ef8"
          }
        },
        "e4567390bf794faa96ecb634bb6ed346": {
          "model_module": "@jupyter-widgets/controls",
          "model_name": "FloatProgressModel",
          "model_module_version": "1.5.0",
          "state": {
            "_view_name": "ProgressView",
            "style": "IPY_MODEL_429c74bb531a45e7b04e14cd46f0b8a6",
            "_dom_classes": [],
            "description": "",
            "_model_name": "FloatProgressModel",
            "bar_style": "success",
            "max": 28,
            "_view_module": "@jupyter-widgets/controls",
            "_model_module_version": "1.5.0",
            "value": 28,
            "_view_count": null,
            "_view_module_version": "1.5.0",
            "orientation": "horizontal",
            "min": 0,
            "description_tooltip": null,
            "_model_module": "@jupyter-widgets/controls",
            "layout": "IPY_MODEL_231e114c1a644a97ae28083ec4de9b7d"
          }
        },
        "1e6190b76e0049399c5605ae55563ad4": {
          "model_module": "@jupyter-widgets/controls",
          "model_name": "HTMLModel",
          "model_module_version": "1.5.0",
          "state": {
            "_view_name": "HTMLView",
            "style": "IPY_MODEL_3f92b00d7e464b449ff2ce51be87b010",
            "_dom_classes": [],
            "description": "",
            "_model_name": "HTMLModel",
            "placeholder": "​",
            "_view_module": "@jupyter-widgets/controls",
            "_model_module_version": "1.5.0",
            "value": " 28.0/28.0 [00:00&lt;00:00, 617B/s]",
            "_view_count": null,
            "_view_module_version": "1.5.0",
            "description_tooltip": null,
            "_model_module": "@jupyter-widgets/controls",
            "layout": "IPY_MODEL_228478ea6f974aa8a5570f12a0e209ae"
          }
        },
        "9ca67ac8e4164958ac2833725233b370": {
          "model_module": "@jupyter-widgets/controls",
          "model_name": "DescriptionStyleModel",
          "model_module_version": "1.5.0",
          "state": {
            "_view_name": "StyleView",
            "_model_name": "DescriptionStyleModel",
            "description_width": "",
            "_view_module": "@jupyter-widgets/base",
            "_model_module_version": "1.5.0",
            "_view_count": null,
            "_view_module_version": "1.2.0",
            "_model_module": "@jupyter-widgets/controls"
          }
        },
        "d6da0cc210c3426d982b6fe5659b9ef8": {
          "model_module": "@jupyter-widgets/base",
          "model_name": "LayoutModel",
          "model_module_version": "1.2.0",
          "state": {
            "_view_name": "LayoutView",
            "grid_template_rows": null,
            "right": null,
            "justify_content": null,
            "_view_module": "@jupyter-widgets/base",
            "overflow": null,
            "_model_module_version": "1.2.0",
            "_view_count": null,
            "flex_flow": null,
            "width": null,
            "min_width": null,
            "border": null,
            "align_items": null,
            "bottom": null,
            "_model_module": "@jupyter-widgets/base",
            "top": null,
            "grid_column": null,
            "overflow_y": null,
            "overflow_x": null,
            "grid_auto_flow": null,
            "grid_area": null,
            "grid_template_columns": null,
            "flex": null,
            "_model_name": "LayoutModel",
            "justify_items": null,
            "grid_row": null,
            "max_height": null,
            "align_content": null,
            "visibility": null,
            "align_self": null,
            "height": null,
            "min_height": null,
            "padding": null,
            "grid_auto_rows": null,
            "grid_gap": null,
            "max_width": null,
            "order": null,
            "_view_module_version": "1.2.0",
            "grid_template_areas": null,
            "object_position": null,
            "object_fit": null,
            "grid_auto_columns": null,
            "margin": null,
            "display": null,
            "left": null
          }
        },
        "429c74bb531a45e7b04e14cd46f0b8a6": {
          "model_module": "@jupyter-widgets/controls",
          "model_name": "ProgressStyleModel",
          "model_module_version": "1.5.0",
          "state": {
            "_view_name": "StyleView",
            "_model_name": "ProgressStyleModel",
            "description_width": "",
            "_view_module": "@jupyter-widgets/base",
            "_model_module_version": "1.5.0",
            "_view_count": null,
            "_view_module_version": "1.2.0",
            "bar_color": null,
            "_model_module": "@jupyter-widgets/controls"
          }
        },
        "231e114c1a644a97ae28083ec4de9b7d": {
          "model_module": "@jupyter-widgets/base",
          "model_name": "LayoutModel",
          "model_module_version": "1.2.0",
          "state": {
            "_view_name": "LayoutView",
            "grid_template_rows": null,
            "right": null,
            "justify_content": null,
            "_view_module": "@jupyter-widgets/base",
            "overflow": null,
            "_model_module_version": "1.2.0",
            "_view_count": null,
            "flex_flow": null,
            "width": null,
            "min_width": null,
            "border": null,
            "align_items": null,
            "bottom": null,
            "_model_module": "@jupyter-widgets/base",
            "top": null,
            "grid_column": null,
            "overflow_y": null,
            "overflow_x": null,
            "grid_auto_flow": null,
            "grid_area": null,
            "grid_template_columns": null,
            "flex": null,
            "_model_name": "LayoutModel",
            "justify_items": null,
            "grid_row": null,
            "max_height": null,
            "align_content": null,
            "visibility": null,
            "align_self": null,
            "height": null,
            "min_height": null,
            "padding": null,
            "grid_auto_rows": null,
            "grid_gap": null,
            "max_width": null,
            "order": null,
            "_view_module_version": "1.2.0",
            "grid_template_areas": null,
            "object_position": null,
            "object_fit": null,
            "grid_auto_columns": null,
            "margin": null,
            "display": null,
            "left": null
          }
        },
        "3f92b00d7e464b449ff2ce51be87b010": {
          "model_module": "@jupyter-widgets/controls",
          "model_name": "DescriptionStyleModel",
          "model_module_version": "1.5.0",
          "state": {
            "_view_name": "StyleView",
            "_model_name": "DescriptionStyleModel",
            "description_width": "",
            "_view_module": "@jupyter-widgets/base",
            "_model_module_version": "1.5.0",
            "_view_count": null,
            "_view_module_version": "1.2.0",
            "_model_module": "@jupyter-widgets/controls"
          }
        },
        "228478ea6f974aa8a5570f12a0e209ae": {
          "model_module": "@jupyter-widgets/base",
          "model_name": "LayoutModel",
          "model_module_version": "1.2.0",
          "state": {
            "_view_name": "LayoutView",
            "grid_template_rows": null,
            "right": null,
            "justify_content": null,
            "_view_module": "@jupyter-widgets/base",
            "overflow": null,
            "_model_module_version": "1.2.0",
            "_view_count": null,
            "flex_flow": null,
            "width": null,
            "min_width": null,
            "border": null,
            "align_items": null,
            "bottom": null,
            "_model_module": "@jupyter-widgets/base",
            "top": null,
            "grid_column": null,
            "overflow_y": null,
            "overflow_x": null,
            "grid_auto_flow": null,
            "grid_area": null,
            "grid_template_columns": null,
            "flex": null,
            "_model_name": "LayoutModel",
            "justify_items": null,
            "grid_row": null,
            "max_height": null,
            "align_content": null,
            "visibility": null,
            "align_self": null,
            "height": null,
            "min_height": null,
            "padding": null,
            "grid_auto_rows": null,
            "grid_gap": null,
            "max_width": null,
            "order": null,
            "_view_module_version": "1.2.0",
            "grid_template_areas": null,
            "object_position": null,
            "object_fit": null,
            "grid_auto_columns": null,
            "margin": null,
            "display": null,
            "left": null
          }
        },
        "2e5388caec284761ac014cc147868e85": {
          "model_module": "@jupyter-widgets/controls",
          "model_name": "HBoxModel",
          "model_module_version": "1.5.0",
          "state": {
            "_view_name": "HBoxView",
            "_dom_classes": [],
            "_model_name": "HBoxModel",
            "_view_module": "@jupyter-widgets/controls",
            "_model_module_version": "1.5.0",
            "_view_count": null,
            "_view_module_version": "1.5.0",
            "box_style": "",
            "layout": "IPY_MODEL_362109a6ae244336bcda85106b7f162b",
            "_model_module": "@jupyter-widgets/controls",
            "children": [
              "IPY_MODEL_f9a3d988929b4c4a9a5c1577f0f47cb9",
              "IPY_MODEL_7c8355cd12a44f8db31aa6fe7693f3e9",
              "IPY_MODEL_6542521fcdf34f6e880f5264c98d24dd"
            ]
          }
        },
        "362109a6ae244336bcda85106b7f162b": {
          "model_module": "@jupyter-widgets/base",
          "model_name": "LayoutModel",
          "model_module_version": "1.2.0",
          "state": {
            "_view_name": "LayoutView",
            "grid_template_rows": null,
            "right": null,
            "justify_content": null,
            "_view_module": "@jupyter-widgets/base",
            "overflow": null,
            "_model_module_version": "1.2.0",
            "_view_count": null,
            "flex_flow": null,
            "width": null,
            "min_width": null,
            "border": null,
            "align_items": null,
            "bottom": null,
            "_model_module": "@jupyter-widgets/base",
            "top": null,
            "grid_column": null,
            "overflow_y": null,
            "overflow_x": null,
            "grid_auto_flow": null,
            "grid_area": null,
            "grid_template_columns": null,
            "flex": null,
            "_model_name": "LayoutModel",
            "justify_items": null,
            "grid_row": null,
            "max_height": null,
            "align_content": null,
            "visibility": null,
            "align_self": null,
            "height": null,
            "min_height": null,
            "padding": null,
            "grid_auto_rows": null,
            "grid_gap": null,
            "max_width": null,
            "order": null,
            "_view_module_version": "1.2.0",
            "grid_template_areas": null,
            "object_position": null,
            "object_fit": null,
            "grid_auto_columns": null,
            "margin": null,
            "display": null,
            "left": null
          }
        },
        "f9a3d988929b4c4a9a5c1577f0f47cb9": {
          "model_module": "@jupyter-widgets/controls",
          "model_name": "HTMLModel",
          "model_module_version": "1.5.0",
          "state": {
            "_view_name": "HTMLView",
            "style": "IPY_MODEL_5c13f13fbcdf46bdb9c8399d899abd01",
            "_dom_classes": [],
            "description": "",
            "_model_name": "HTMLModel",
            "placeholder": "​",
            "_view_module": "@jupyter-widgets/controls",
            "_model_module_version": "1.5.0",
            "value": "Downloading: 100%",
            "_view_count": null,
            "_view_module_version": "1.5.0",
            "description_tooltip": null,
            "_model_module": "@jupyter-widgets/controls",
            "layout": "IPY_MODEL_decd38c48cb64379bad58b07239d0382"
          }
        },
        "7c8355cd12a44f8db31aa6fe7693f3e9": {
          "model_module": "@jupyter-widgets/controls",
          "model_name": "FloatProgressModel",
          "model_module_version": "1.5.0",
          "state": {
            "_view_name": "ProgressView",
            "style": "IPY_MODEL_b198ff81a23f49288bc543741cf0ebc9",
            "_dom_classes": [],
            "description": "",
            "_model_name": "FloatProgressModel",
            "bar_style": "success",
            "max": 466062,
            "_view_module": "@jupyter-widgets/controls",
            "_model_module_version": "1.5.0",
            "value": 466062,
            "_view_count": null,
            "_view_module_version": "1.5.0",
            "orientation": "horizontal",
            "min": 0,
            "description_tooltip": null,
            "_model_module": "@jupyter-widgets/controls",
            "layout": "IPY_MODEL_3c7c88be41bb44359414c7859f6ab345"
          }
        },
        "6542521fcdf34f6e880f5264c98d24dd": {
          "model_module": "@jupyter-widgets/controls",
          "model_name": "HTMLModel",
          "model_module_version": "1.5.0",
          "state": {
            "_view_name": "HTMLView",
            "style": "IPY_MODEL_bdee5b559da449b28e455872c62d4483",
            "_dom_classes": [],
            "description": "",
            "_model_name": "HTMLModel",
            "placeholder": "​",
            "_view_module": "@jupyter-widgets/controls",
            "_model_module_version": "1.5.0",
            "value": " 455k/455k [00:00&lt;00:00, 745kB/s]",
            "_view_count": null,
            "_view_module_version": "1.5.0",
            "description_tooltip": null,
            "_model_module": "@jupyter-widgets/controls",
            "layout": "IPY_MODEL_06847fe8a0064ff7a255a9081407e8f3"
          }
        },
        "5c13f13fbcdf46bdb9c8399d899abd01": {
          "model_module": "@jupyter-widgets/controls",
          "model_name": "DescriptionStyleModel",
          "model_module_version": "1.5.0",
          "state": {
            "_view_name": "StyleView",
            "_model_name": "DescriptionStyleModel",
            "description_width": "",
            "_view_module": "@jupyter-widgets/base",
            "_model_module_version": "1.5.0",
            "_view_count": null,
            "_view_module_version": "1.2.0",
            "_model_module": "@jupyter-widgets/controls"
          }
        },
        "decd38c48cb64379bad58b07239d0382": {
          "model_module": "@jupyter-widgets/base",
          "model_name": "LayoutModel",
          "model_module_version": "1.2.0",
          "state": {
            "_view_name": "LayoutView",
            "grid_template_rows": null,
            "right": null,
            "justify_content": null,
            "_view_module": "@jupyter-widgets/base",
            "overflow": null,
            "_model_module_version": "1.2.0",
            "_view_count": null,
            "flex_flow": null,
            "width": null,
            "min_width": null,
            "border": null,
            "align_items": null,
            "bottom": null,
            "_model_module": "@jupyter-widgets/base",
            "top": null,
            "grid_column": null,
            "overflow_y": null,
            "overflow_x": null,
            "grid_auto_flow": null,
            "grid_area": null,
            "grid_template_columns": null,
            "flex": null,
            "_model_name": "LayoutModel",
            "justify_items": null,
            "grid_row": null,
            "max_height": null,
            "align_content": null,
            "visibility": null,
            "align_self": null,
            "height": null,
            "min_height": null,
            "padding": null,
            "grid_auto_rows": null,
            "grid_gap": null,
            "max_width": null,
            "order": null,
            "_view_module_version": "1.2.0",
            "grid_template_areas": null,
            "object_position": null,
            "object_fit": null,
            "grid_auto_columns": null,
            "margin": null,
            "display": null,
            "left": null
          }
        },
        "b198ff81a23f49288bc543741cf0ebc9": {
          "model_module": "@jupyter-widgets/controls",
          "model_name": "ProgressStyleModel",
          "model_module_version": "1.5.0",
          "state": {
            "_view_name": "StyleView",
            "_model_name": "ProgressStyleModel",
            "description_width": "",
            "_view_module": "@jupyter-widgets/base",
            "_model_module_version": "1.5.0",
            "_view_count": null,
            "_view_module_version": "1.2.0",
            "bar_color": null,
            "_model_module": "@jupyter-widgets/controls"
          }
        },
        "3c7c88be41bb44359414c7859f6ab345": {
          "model_module": "@jupyter-widgets/base",
          "model_name": "LayoutModel",
          "model_module_version": "1.2.0",
          "state": {
            "_view_name": "LayoutView",
            "grid_template_rows": null,
            "right": null,
            "justify_content": null,
            "_view_module": "@jupyter-widgets/base",
            "overflow": null,
            "_model_module_version": "1.2.0",
            "_view_count": null,
            "flex_flow": null,
            "width": null,
            "min_width": null,
            "border": null,
            "align_items": null,
            "bottom": null,
            "_model_module": "@jupyter-widgets/base",
            "top": null,
            "grid_column": null,
            "overflow_y": null,
            "overflow_x": null,
            "grid_auto_flow": null,
            "grid_area": null,
            "grid_template_columns": null,
            "flex": null,
            "_model_name": "LayoutModel",
            "justify_items": null,
            "grid_row": null,
            "max_height": null,
            "align_content": null,
            "visibility": null,
            "align_self": null,
            "height": null,
            "min_height": null,
            "padding": null,
            "grid_auto_rows": null,
            "grid_gap": null,
            "max_width": null,
            "order": null,
            "_view_module_version": "1.2.0",
            "grid_template_areas": null,
            "object_position": null,
            "object_fit": null,
            "grid_auto_columns": null,
            "margin": null,
            "display": null,
            "left": null
          }
        },
        "bdee5b559da449b28e455872c62d4483": {
          "model_module": "@jupyter-widgets/controls",
          "model_name": "DescriptionStyleModel",
          "model_module_version": "1.5.0",
          "state": {
            "_view_name": "StyleView",
            "_model_name": "DescriptionStyleModel",
            "description_width": "",
            "_view_module": "@jupyter-widgets/base",
            "_model_module_version": "1.5.0",
            "_view_count": null,
            "_view_module_version": "1.2.0",
            "_model_module": "@jupyter-widgets/controls"
          }
        },
        "06847fe8a0064ff7a255a9081407e8f3": {
          "model_module": "@jupyter-widgets/base",
          "model_name": "LayoutModel",
          "model_module_version": "1.2.0",
          "state": {
            "_view_name": "LayoutView",
            "grid_template_rows": null,
            "right": null,
            "justify_content": null,
            "_view_module": "@jupyter-widgets/base",
            "overflow": null,
            "_model_module_version": "1.2.0",
            "_view_count": null,
            "flex_flow": null,
            "width": null,
            "min_width": null,
            "border": null,
            "align_items": null,
            "bottom": null,
            "_model_module": "@jupyter-widgets/base",
            "top": null,
            "grid_column": null,
            "overflow_y": null,
            "overflow_x": null,
            "grid_auto_flow": null,
            "grid_area": null,
            "grid_template_columns": null,
            "flex": null,
            "_model_name": "LayoutModel",
            "justify_items": null,
            "grid_row": null,
            "max_height": null,
            "align_content": null,
            "visibility": null,
            "align_self": null,
            "height": null,
            "min_height": null,
            "padding": null,
            "grid_auto_rows": null,
            "grid_gap": null,
            "max_width": null,
            "order": null,
            "_view_module_version": "1.2.0",
            "grid_template_areas": null,
            "object_position": null,
            "object_fit": null,
            "grid_auto_columns": null,
            "margin": null,
            "display": null,
            "left": null
          }
        },
        "43c918dd8ee544338c65281f180661e2": {
          "model_module": "@jupyter-widgets/controls",
          "model_name": "HBoxModel",
          "model_module_version": "1.5.0",
          "state": {
            "_view_name": "HBoxView",
            "_dom_classes": [],
            "_model_name": "HBoxModel",
            "_view_module": "@jupyter-widgets/controls",
            "_model_module_version": "1.5.0",
            "_view_count": null,
            "_view_module_version": "1.5.0",
            "box_style": "",
            "layout": "IPY_MODEL_81203295298044168a744277284bf6ff",
            "_model_module": "@jupyter-widgets/controls",
            "children": [
              "IPY_MODEL_0f9ff68060fb46d6b7396c0920249c36",
              "IPY_MODEL_61496c59817d486b982e63648b3502d1",
              "IPY_MODEL_8677f6e6e5334ebc9bc1d728f1f9f175"
            ]
          }
        },
        "81203295298044168a744277284bf6ff": {
          "model_module": "@jupyter-widgets/base",
          "model_name": "LayoutModel",
          "model_module_version": "1.2.0",
          "state": {
            "_view_name": "LayoutView",
            "grid_template_rows": null,
            "right": null,
            "justify_content": null,
            "_view_module": "@jupyter-widgets/base",
            "overflow": null,
            "_model_module_version": "1.2.0",
            "_view_count": null,
            "flex_flow": null,
            "width": null,
            "min_width": null,
            "border": null,
            "align_items": null,
            "bottom": null,
            "_model_module": "@jupyter-widgets/base",
            "top": null,
            "grid_column": null,
            "overflow_y": null,
            "overflow_x": null,
            "grid_auto_flow": null,
            "grid_area": null,
            "grid_template_columns": null,
            "flex": null,
            "_model_name": "LayoutModel",
            "justify_items": null,
            "grid_row": null,
            "max_height": null,
            "align_content": null,
            "visibility": null,
            "align_self": null,
            "height": null,
            "min_height": null,
            "padding": null,
            "grid_auto_rows": null,
            "grid_gap": null,
            "max_width": null,
            "order": null,
            "_view_module_version": "1.2.0",
            "grid_template_areas": null,
            "object_position": null,
            "object_fit": null,
            "grid_auto_columns": null,
            "margin": null,
            "display": null,
            "left": null
          }
        },
        "0f9ff68060fb46d6b7396c0920249c36": {
          "model_module": "@jupyter-widgets/controls",
          "model_name": "HTMLModel",
          "model_module_version": "1.5.0",
          "state": {
            "_view_name": "HTMLView",
            "style": "IPY_MODEL_ac690926beae4e11bfbe2fff9be8bf44",
            "_dom_classes": [],
            "description": "",
            "_model_name": "HTMLModel",
            "placeholder": "​",
            "_view_module": "@jupyter-widgets/controls",
            "_model_module_version": "1.5.0",
            "value": "Downloading: 100%",
            "_view_count": null,
            "_view_module_version": "1.5.0",
            "description_tooltip": null,
            "_model_module": "@jupyter-widgets/controls",
            "layout": "IPY_MODEL_5d189ba31c514148bee01fad94f06059"
          }
        },
        "61496c59817d486b982e63648b3502d1": {
          "model_module": "@jupyter-widgets/controls",
          "model_name": "FloatProgressModel",
          "model_module_version": "1.5.0",
          "state": {
            "_view_name": "ProgressView",
            "style": "IPY_MODEL_734ade8677b94a0f96d2715d35ff09e2",
            "_dom_classes": [],
            "description": "",
            "_model_name": "FloatProgressModel",
            "bar_style": "success",
            "max": 570,
            "_view_module": "@jupyter-widgets/controls",
            "_model_module_version": "1.5.0",
            "value": 570,
            "_view_count": null,
            "_view_module_version": "1.5.0",
            "orientation": "horizontal",
            "min": 0,
            "description_tooltip": null,
            "_model_module": "@jupyter-widgets/controls",
            "layout": "IPY_MODEL_ec032599513741989cacf4445f864193"
          }
        },
        "8677f6e6e5334ebc9bc1d728f1f9f175": {
          "model_module": "@jupyter-widgets/controls",
          "model_name": "HTMLModel",
          "model_module_version": "1.5.0",
          "state": {
            "_view_name": "HTMLView",
            "style": "IPY_MODEL_ff9a587f99144a8db34e7b6a62ad49b4",
            "_dom_classes": [],
            "description": "",
            "_model_name": "HTMLModel",
            "placeholder": "​",
            "_view_module": "@jupyter-widgets/controls",
            "_model_module_version": "1.5.0",
            "value": " 570/570 [00:00&lt;00:00, 15.8kB/s]",
            "_view_count": null,
            "_view_module_version": "1.5.0",
            "description_tooltip": null,
            "_model_module": "@jupyter-widgets/controls",
            "layout": "IPY_MODEL_d174e5ec0ce94e339bc8f0c997c43477"
          }
        },
        "ac690926beae4e11bfbe2fff9be8bf44": {
          "model_module": "@jupyter-widgets/controls",
          "model_name": "DescriptionStyleModel",
          "model_module_version": "1.5.0",
          "state": {
            "_view_name": "StyleView",
            "_model_name": "DescriptionStyleModel",
            "description_width": "",
            "_view_module": "@jupyter-widgets/base",
            "_model_module_version": "1.5.0",
            "_view_count": null,
            "_view_module_version": "1.2.0",
            "_model_module": "@jupyter-widgets/controls"
          }
        },
        "5d189ba31c514148bee01fad94f06059": {
          "model_module": "@jupyter-widgets/base",
          "model_name": "LayoutModel",
          "model_module_version": "1.2.0",
          "state": {
            "_view_name": "LayoutView",
            "grid_template_rows": null,
            "right": null,
            "justify_content": null,
            "_view_module": "@jupyter-widgets/base",
            "overflow": null,
            "_model_module_version": "1.2.0",
            "_view_count": null,
            "flex_flow": null,
            "width": null,
            "min_width": null,
            "border": null,
            "align_items": null,
            "bottom": null,
            "_model_module": "@jupyter-widgets/base",
            "top": null,
            "grid_column": null,
            "overflow_y": null,
            "overflow_x": null,
            "grid_auto_flow": null,
            "grid_area": null,
            "grid_template_columns": null,
            "flex": null,
            "_model_name": "LayoutModel",
            "justify_items": null,
            "grid_row": null,
            "max_height": null,
            "align_content": null,
            "visibility": null,
            "align_self": null,
            "height": null,
            "min_height": null,
            "padding": null,
            "grid_auto_rows": null,
            "grid_gap": null,
            "max_width": null,
            "order": null,
            "_view_module_version": "1.2.0",
            "grid_template_areas": null,
            "object_position": null,
            "object_fit": null,
            "grid_auto_columns": null,
            "margin": null,
            "display": null,
            "left": null
          }
        },
        "734ade8677b94a0f96d2715d35ff09e2": {
          "model_module": "@jupyter-widgets/controls",
          "model_name": "ProgressStyleModel",
          "model_module_version": "1.5.0",
          "state": {
            "_view_name": "StyleView",
            "_model_name": "ProgressStyleModel",
            "description_width": "",
            "_view_module": "@jupyter-widgets/base",
            "_model_module_version": "1.5.0",
            "_view_count": null,
            "_view_module_version": "1.2.0",
            "bar_color": null,
            "_model_module": "@jupyter-widgets/controls"
          }
        },
        "ec032599513741989cacf4445f864193": {
          "model_module": "@jupyter-widgets/base",
          "model_name": "LayoutModel",
          "model_module_version": "1.2.0",
          "state": {
            "_view_name": "LayoutView",
            "grid_template_rows": null,
            "right": null,
            "justify_content": null,
            "_view_module": "@jupyter-widgets/base",
            "overflow": null,
            "_model_module_version": "1.2.0",
            "_view_count": null,
            "flex_flow": null,
            "width": null,
            "min_width": null,
            "border": null,
            "align_items": null,
            "bottom": null,
            "_model_module": "@jupyter-widgets/base",
            "top": null,
            "grid_column": null,
            "overflow_y": null,
            "overflow_x": null,
            "grid_auto_flow": null,
            "grid_area": null,
            "grid_template_columns": null,
            "flex": null,
            "_model_name": "LayoutModel",
            "justify_items": null,
            "grid_row": null,
            "max_height": null,
            "align_content": null,
            "visibility": null,
            "align_self": null,
            "height": null,
            "min_height": null,
            "padding": null,
            "grid_auto_rows": null,
            "grid_gap": null,
            "max_width": null,
            "order": null,
            "_view_module_version": "1.2.0",
            "grid_template_areas": null,
            "object_position": null,
            "object_fit": null,
            "grid_auto_columns": null,
            "margin": null,
            "display": null,
            "left": null
          }
        },
        "ff9a587f99144a8db34e7b6a62ad49b4": {
          "model_module": "@jupyter-widgets/controls",
          "model_name": "DescriptionStyleModel",
          "model_module_version": "1.5.0",
          "state": {
            "_view_name": "StyleView",
            "_model_name": "DescriptionStyleModel",
            "description_width": "",
            "_view_module": "@jupyter-widgets/base",
            "_model_module_version": "1.5.0",
            "_view_count": null,
            "_view_module_version": "1.2.0",
            "_model_module": "@jupyter-widgets/controls"
          }
        },
        "d174e5ec0ce94e339bc8f0c997c43477": {
          "model_module": "@jupyter-widgets/base",
          "model_name": "LayoutModel",
          "model_module_version": "1.2.0",
          "state": {
            "_view_name": "LayoutView",
            "grid_template_rows": null,
            "right": null,
            "justify_content": null,
            "_view_module": "@jupyter-widgets/base",
            "overflow": null,
            "_model_module_version": "1.2.0",
            "_view_count": null,
            "flex_flow": null,
            "width": null,
            "min_width": null,
            "border": null,
            "align_items": null,
            "bottom": null,
            "_model_module": "@jupyter-widgets/base",
            "top": null,
            "grid_column": null,
            "overflow_y": null,
            "overflow_x": null,
            "grid_auto_flow": null,
            "grid_area": null,
            "grid_template_columns": null,
            "flex": null,
            "_model_name": "LayoutModel",
            "justify_items": null,
            "grid_row": null,
            "max_height": null,
            "align_content": null,
            "visibility": null,
            "align_self": null,
            "height": null,
            "min_height": null,
            "padding": null,
            "grid_auto_rows": null,
            "grid_gap": null,
            "max_width": null,
            "order": null,
            "_view_module_version": "1.2.0",
            "grid_template_areas": null,
            "object_position": null,
            "object_fit": null,
            "grid_auto_columns": null,
            "margin": null,
            "display": null,
            "left": null
          }
        }
      }
    }
  },
  "cells": [
    {
      "cell_type": "code",
      "metadata": {
        "id": "mpVfPBBRCo1t"
      },
      "source": [
        "import numpy as np\n",
        "import pandas as pd\n",
        "import os"
      ],
      "execution_count": 2,
      "outputs": []
    },
    {
      "cell_type": "code",
      "metadata": {
        "colab": {
          "base_uri": "https://localhost:8080/"
        },
        "id": "HhowkBi0DXn0",
        "outputId": "c0828188-a34c-4094-ff74-490dfe5b2725"
      },
      "source": [
        "from google.colab import drive\n",
        "drive.mount('/content/drive')"
      ],
      "execution_count": 1,
      "outputs": [
        {
          "output_type": "stream",
          "name": "stdout",
          "text": [
            "Mounted at /content/drive\n"
          ]
        }
      ]
    },
    {
      "cell_type": "code",
      "metadata": {
        "colab": {
          "base_uri": "https://localhost:8080/",
          "height": 206
        },
        "id": "WdDJYlLwCo1x",
        "outputId": "fea670d4-026a-4f43-e138-1696d39dbe99"
      },
      "source": [
        "ReviewData = pd.read_excel('/content/drive/MyDrive/NLP/Summer Project/Benchmark construction/Data/Apple App Store Review data collection.xlsx')\n",
        "AppData = pd.read_excel('/content/drive/MyDrive/NLP/Summer Project/Benchmark construction/Data/App Data.xlsx')\n",
        "ReviewData.head()\n"
      ],
      "execution_count": null,
      "outputs": [
        {
          "output_type": "execute_result",
          "data": {
            "text/html": [
              "<div>\n",
              "<style scoped>\n",
              "    .dataframe tbody tr th:only-of-type {\n",
              "        vertical-align: middle;\n",
              "    }\n",
              "\n",
              "    .dataframe tbody tr th {\n",
              "        vertical-align: top;\n",
              "    }\n",
              "\n",
              "    .dataframe thead th {\n",
              "        text-align: right;\n",
              "    }\n",
              "</style>\n",
              "<table border=\"1\" class=\"dataframe\">\n",
              "  <thead>\n",
              "    <tr style=\"text-align: right;\">\n",
              "      <th></th>\n",
              "      <th>App_id</th>\n",
              "      <th>Review_user</th>\n",
              "      <th>Review_title</th>\n",
              "      <th>Review_context</th>\n",
              "      <th>Review_date</th>\n",
              "      <th>Review_star</th>\n",
              "    </tr>\n",
              "  </thead>\n",
              "  <tbody>\n",
              "    <tr>\n",
              "      <th>0</th>\n",
              "      <td>1</td>\n",
              "      <td>KimP055IBLE</td>\n",
              "      <td>Reluctant… but honest</td>\n",
              "      <td>As soon as I give something props, I usually r...</td>\n",
              "      <td>08/27/2021</td>\n",
              "      <td>5</td>\n",
              "    </tr>\n",
              "    <tr>\n",
              "      <th>1</th>\n",
              "      <td>1</td>\n",
              "      <td>ogleefli</td>\n",
              "      <td>Review</td>\n",
              "      <td>This app is amazing! It is a great way to cure...</td>\n",
              "      <td>07/29/2021</td>\n",
              "      <td>4</td>\n",
              "    </tr>\n",
              "    <tr>\n",
              "      <th>2</th>\n",
              "      <td>1</td>\n",
              "      <td>Rachelnicole97</td>\n",
              "      <td>Great app but beware</td>\n",
              "      <td>I got Tiktok during the pandemic last year. I ...</td>\n",
              "      <td>07/27/2021</td>\n",
              "      <td>3</td>\n",
              "    </tr>\n",
              "    <tr>\n",
              "      <th>3</th>\n",
              "      <td>1</td>\n",
              "      <td>DreamNyuro</td>\n",
              "      <td>AMAZING, just a few suggestions</td>\n",
              "      <td>I’ve been on Tik Tok since 2018, and have been...</td>\n",
              "      <td>08/27/2021</td>\n",
              "      <td>4</td>\n",
              "    </tr>\n",
              "    <tr>\n",
              "      <th>4</th>\n",
              "      <td>1</td>\n",
              "      <td>breannalll</td>\n",
              "      <td>Some complaints and suggestions</td>\n",
              "      <td>I like this app, but there's a couple of thing...</td>\n",
              "      <td>05/28/2021</td>\n",
              "      <td>3</td>\n",
              "    </tr>\n",
              "  </tbody>\n",
              "</table>\n",
              "</div>"
            ],
            "text/plain": [
              "   App_id     Review_user  ... Review_date Review_star\n",
              "0       1     KimP055IBLE  ...  08/27/2021           5\n",
              "1       1        ogleefli  ...  07/29/2021           4\n",
              "2       1  Rachelnicole97  ...  07/27/2021           3\n",
              "3       1      DreamNyuro  ...  08/27/2021           4\n",
              "4       1      breannalll  ...  05/28/2021           3\n",
              "\n",
              "[5 rows x 6 columns]"
            ]
          },
          "metadata": {},
          "execution_count": 3
        }
      ]
    },
    {
      "cell_type": "code",
      "metadata": {
        "colab": {
          "base_uri": "https://localhost:8080/",
          "height": 397
        },
        "id": "xyYcSsfAL-az",
        "outputId": "fb30d1bf-a07f-4059-ab85-0af2344596c1"
      },
      "source": [
        "AppData.head()"
      ],
      "execution_count": null,
      "outputs": [
        {
          "output_type": "execute_result",
          "data": {
            "text/html": [
              "<div>\n",
              "<style scoped>\n",
              "    .dataframe tbody tr th:only-of-type {\n",
              "        vertical-align: middle;\n",
              "    }\n",
              "\n",
              "    .dataframe tbody tr th {\n",
              "        vertical-align: top;\n",
              "    }\n",
              "\n",
              "    .dataframe thead th {\n",
              "        text-align: right;\n",
              "    }\n",
              "</style>\n",
              "<table border=\"1\" class=\"dataframe\">\n",
              "  <thead>\n",
              "    <tr style=\"text-align: right;\">\n",
              "      <th></th>\n",
              "      <th>App_id</th>\n",
              "      <th>App_name</th>\n",
              "      <th>App_Company</th>\n",
              "      <th>App_Type</th>\n",
              "      <th>Overall_Rating</th>\n",
              "      <th>Overall_Rating_Number_k</th>\n",
              "      <th>Latest_version</th>\n",
              "      <th>Review_link</th>\n",
              "    </tr>\n",
              "  </thead>\n",
              "  <tbody>\n",
              "    <tr>\n",
              "      <th>0</th>\n",
              "      <td>1</td>\n",
              "      <td>TikTok</td>\n",
              "      <td>TikTok Pte. Ltd.</td>\n",
              "      <td>Entertainment</td>\n",
              "      <td>4.7</td>\n",
              "      <td>10360</td>\n",
              "      <td>2021-09-09</td>\n",
              "      <td>https://apps.apple.com/us/app/tiktok/id8355993...</td>\n",
              "    </tr>\n",
              "    <tr>\n",
              "      <th>1</th>\n",
              "      <td>2</td>\n",
              "      <td>YouTube: Watch, Listen, Stream</td>\n",
              "      <td>Google LLC</td>\n",
              "      <td>Photo &amp; Video</td>\n",
              "      <td>4.7</td>\n",
              "      <td>22260</td>\n",
              "      <td>2021-09-12</td>\n",
              "      <td>https://apps.apple.com/us/app/youtube-watch-li...</td>\n",
              "    </tr>\n",
              "    <tr>\n",
              "      <th>2</th>\n",
              "      <td>3</td>\n",
              "      <td>Instagram</td>\n",
              "      <td>Instagram, Inc.</td>\n",
              "      <td>Photo &amp; Video</td>\n",
              "      <td>4.7</td>\n",
              "      <td>21620</td>\n",
              "      <td>2021-09-13</td>\n",
              "      <td>https://apps.apple.com/us/app/instagram/id3898...</td>\n",
              "    </tr>\n",
              "    <tr>\n",
              "      <th>3</th>\n",
              "      <td>4</td>\n",
              "      <td>Snapchat</td>\n",
              "      <td>Snap, Inc.</td>\n",
              "      <td>Photo &amp; Video</td>\n",
              "      <td>3.6</td>\n",
              "      <td>890</td>\n",
              "      <td>2021-09-13</td>\n",
              "      <td>https://apps.apple.com/us/app/snapchat/id44718...</td>\n",
              "    </tr>\n",
              "    <tr>\n",
              "      <th>4</th>\n",
              "      <td>5</td>\n",
              "      <td>Twitter</td>\n",
              "      <td>Twitter, Inc.</td>\n",
              "      <td>News</td>\n",
              "      <td>4.6</td>\n",
              "      <td>5140</td>\n",
              "      <td>2021-09-08</td>\n",
              "      <td>https://apps.apple.com/us/app/twitter/id333903...</td>\n",
              "    </tr>\n",
              "  </tbody>\n",
              "</table>\n",
              "</div>"
            ],
            "text/plain": [
              "   App_id  ...                                        Review_link\n",
              "0       1  ...  https://apps.apple.com/us/app/tiktok/id8355993...\n",
              "1       2  ...  https://apps.apple.com/us/app/youtube-watch-li...\n",
              "2       3  ...  https://apps.apple.com/us/app/instagram/id3898...\n",
              "3       4  ...  https://apps.apple.com/us/app/snapchat/id44718...\n",
              "4       5  ...  https://apps.apple.com/us/app/twitter/id333903...\n",
              "\n",
              "[5 rows x 8 columns]"
            ]
          },
          "metadata": {},
          "execution_count": 4
        }
      ]
    },
    {
      "cell_type": "code",
      "metadata": {
        "colab": {
          "base_uri": "https://localhost:8080/",
          "height": 206
        },
        "id": "33m5j6V9Co1x",
        "outputId": "8ae43245-4340-426f-8861-368e1a24907c"
      },
      "source": [
        "ReviewData = ReviewData.dropna()\n",
        "ReviewData.head()"
      ],
      "execution_count": null,
      "outputs": [
        {
          "output_type": "execute_result",
          "data": {
            "text/html": [
              "<div>\n",
              "<style scoped>\n",
              "    .dataframe tbody tr th:only-of-type {\n",
              "        vertical-align: middle;\n",
              "    }\n",
              "\n",
              "    .dataframe tbody tr th {\n",
              "        vertical-align: top;\n",
              "    }\n",
              "\n",
              "    .dataframe thead th {\n",
              "        text-align: right;\n",
              "    }\n",
              "</style>\n",
              "<table border=\"1\" class=\"dataframe\">\n",
              "  <thead>\n",
              "    <tr style=\"text-align: right;\">\n",
              "      <th></th>\n",
              "      <th>App_id</th>\n",
              "      <th>Review_user</th>\n",
              "      <th>Review_title</th>\n",
              "      <th>Review_context</th>\n",
              "      <th>Review_date</th>\n",
              "      <th>Review_star</th>\n",
              "    </tr>\n",
              "  </thead>\n",
              "  <tbody>\n",
              "    <tr>\n",
              "      <th>0</th>\n",
              "      <td>1</td>\n",
              "      <td>KimP055IBLE</td>\n",
              "      <td>Reluctant… but honest</td>\n",
              "      <td>As soon as I give something props, I usually r...</td>\n",
              "      <td>08/27/2021</td>\n",
              "      <td>5</td>\n",
              "    </tr>\n",
              "    <tr>\n",
              "      <th>1</th>\n",
              "      <td>1</td>\n",
              "      <td>ogleefli</td>\n",
              "      <td>Review</td>\n",
              "      <td>This app is amazing! It is a great way to cure...</td>\n",
              "      <td>07/29/2021</td>\n",
              "      <td>4</td>\n",
              "    </tr>\n",
              "    <tr>\n",
              "      <th>2</th>\n",
              "      <td>1</td>\n",
              "      <td>Rachelnicole97</td>\n",
              "      <td>Great app but beware</td>\n",
              "      <td>I got Tiktok during the pandemic last year. I ...</td>\n",
              "      <td>07/27/2021</td>\n",
              "      <td>3</td>\n",
              "    </tr>\n",
              "    <tr>\n",
              "      <th>3</th>\n",
              "      <td>1</td>\n",
              "      <td>DreamNyuro</td>\n",
              "      <td>AMAZING, just a few suggestions</td>\n",
              "      <td>I’ve been on Tik Tok since 2018, and have been...</td>\n",
              "      <td>08/27/2021</td>\n",
              "      <td>4</td>\n",
              "    </tr>\n",
              "    <tr>\n",
              "      <th>4</th>\n",
              "      <td>1</td>\n",
              "      <td>breannalll</td>\n",
              "      <td>Some complaints and suggestions</td>\n",
              "      <td>I like this app, but there's a couple of thing...</td>\n",
              "      <td>05/28/2021</td>\n",
              "      <td>3</td>\n",
              "    </tr>\n",
              "  </tbody>\n",
              "</table>\n",
              "</div>"
            ],
            "text/plain": [
              "   App_id     Review_user  ... Review_date Review_star\n",
              "0       1     KimP055IBLE  ...  08/27/2021           5\n",
              "1       1        ogleefli  ...  07/29/2021           4\n",
              "2       1  Rachelnicole97  ...  07/27/2021           3\n",
              "3       1      DreamNyuro  ...  08/27/2021           4\n",
              "4       1      breannalll  ...  05/28/2021           3\n",
              "\n",
              "[5 rows x 6 columns]"
            ]
          },
          "metadata": {},
          "execution_count": 5
        }
      ]
    },
    {
      "cell_type": "code",
      "metadata": {
        "colab": {
          "base_uri": "https://localhost:8080/"
        },
        "id": "DpYsmIsICo1y",
        "outputId": "0af77621-b33e-4f59-ae9d-c9dc067495f6"
      },
      "source": [
        "ReviewData['Review_star'].value_counts()"
      ],
      "execution_count": null,
      "outputs": [
        {
          "output_type": "execute_result",
          "data": {
            "text/plain": [
              "5    22084\n",
              "1    11951\n",
              "4     9665\n",
              "3     8431\n",
              "2     5605\n",
              "Name: Review_star, dtype: int64"
            ]
          },
          "metadata": {},
          "execution_count": 6
        }
      ]
    },
    {
      "cell_type": "code",
      "metadata": {
        "id": "F5vfCTTeCo1z"
      },
      "source": [
        ""
      ],
      "execution_count": null,
      "outputs": []
    },
    {
      "cell_type": "markdown",
      "metadata": {
        "id": "26x07efcQM9J"
      },
      "source": [
        "# Sentiment polarity calculation for app reviews"
      ]
    },
    {
      "cell_type": "code",
      "metadata": {
        "id": "GvUWzgK-P3j4"
      },
      "source": [
        "import torch\n",
        "from tqdm.notebook import tqdm\n",
        "import numpy as np\n",
        "import pandas as pd"
      ],
      "execution_count": null,
      "outputs": []
    },
    {
      "cell_type": "code",
      "metadata": {
        "id": "-l9ULS2hP3Yk",
        "colab": {
          "base_uri": "https://localhost:8080/"
        },
        "outputId": "18acc4a6-81be-4237-d5df-26bb15a6765a"
      },
      "source": [
        "!pip install transformers"
      ],
      "execution_count": null,
      "outputs": [
        {
          "output_type": "stream",
          "name": "stdout",
          "text": [
            "Collecting transformers\n",
            "  Downloading transformers-4.11.1-py3-none-any.whl (2.9 MB)\n",
            "\u001b[K     |████████████████████████████████| 2.9 MB 5.2 MB/s \n",
            "\u001b[?25hRequirement already satisfied: packaging>=20.0 in /usr/local/lib/python3.7/dist-packages (from transformers) (21.0)\n",
            "Collecting huggingface-hub>=0.0.17\n",
            "  Downloading huggingface_hub-0.0.17-py3-none-any.whl (52 kB)\n",
            "\u001b[K     |████████████████████████████████| 52 kB 1.5 MB/s \n",
            "\u001b[?25hCollecting pyyaml>=5.1\n",
            "  Downloading PyYAML-5.4.1-cp37-cp37m-manylinux1_x86_64.whl (636 kB)\n",
            "\u001b[K     |████████████████████████████████| 636 kB 50.7 MB/s \n",
            "\u001b[?25hRequirement already satisfied: tqdm>=4.27 in /usr/local/lib/python3.7/dist-packages (from transformers) (4.62.3)\n",
            "Requirement already satisfied: importlib-metadata in /usr/local/lib/python3.7/dist-packages (from transformers) (4.8.1)\n",
            "Requirement already satisfied: regex!=2019.12.17 in /usr/local/lib/python3.7/dist-packages (from transformers) (2019.12.20)\n",
            "Requirement already satisfied: filelock in /usr/local/lib/python3.7/dist-packages (from transformers) (3.0.12)\n",
            "Requirement already satisfied: numpy>=1.17 in /usr/local/lib/python3.7/dist-packages (from transformers) (1.19.5)\n",
            "Collecting sacremoses\n",
            "  Downloading sacremoses-0.0.46-py3-none-any.whl (895 kB)\n",
            "\u001b[K     |████████████████████████████████| 895 kB 37.5 MB/s \n",
            "\u001b[?25hRequirement already satisfied: requests in /usr/local/lib/python3.7/dist-packages (from transformers) (2.23.0)\n",
            "Collecting tokenizers<0.11,>=0.10.1\n",
            "  Downloading tokenizers-0.10.3-cp37-cp37m-manylinux_2_5_x86_64.manylinux1_x86_64.manylinux_2_12_x86_64.manylinux2010_x86_64.whl (3.3 MB)\n",
            "\u001b[K     |████████████████████████████████| 3.3 MB 36.1 MB/s \n",
            "\u001b[?25hRequirement already satisfied: typing-extensions in /usr/local/lib/python3.7/dist-packages (from huggingface-hub>=0.0.17->transformers) (3.7.4.3)\n",
            "Requirement already satisfied: pyparsing>=2.0.2 in /usr/local/lib/python3.7/dist-packages (from packaging>=20.0->transformers) (2.4.7)\n",
            "Requirement already satisfied: zipp>=0.5 in /usr/local/lib/python3.7/dist-packages (from importlib-metadata->transformers) (3.5.0)\n",
            "Requirement already satisfied: certifi>=2017.4.17 in /usr/local/lib/python3.7/dist-packages (from requests->transformers) (2021.5.30)\n",
            "Requirement already satisfied: idna<3,>=2.5 in /usr/local/lib/python3.7/dist-packages (from requests->transformers) (2.10)\n",
            "Requirement already satisfied: urllib3!=1.25.0,!=1.25.1,<1.26,>=1.21.1 in /usr/local/lib/python3.7/dist-packages (from requests->transformers) (1.24.3)\n",
            "Requirement already satisfied: chardet<4,>=3.0.2 in /usr/local/lib/python3.7/dist-packages (from requests->transformers) (3.0.4)\n",
            "Requirement already satisfied: six in /usr/local/lib/python3.7/dist-packages (from sacremoses->transformers) (1.15.0)\n",
            "Requirement already satisfied: click in /usr/local/lib/python3.7/dist-packages (from sacremoses->transformers) (7.1.2)\n",
            "Requirement already satisfied: joblib in /usr/local/lib/python3.7/dist-packages (from sacremoses->transformers) (1.0.1)\n",
            "Installing collected packages: tokenizers, sacremoses, pyyaml, huggingface-hub, transformers\n",
            "  Attempting uninstall: pyyaml\n",
            "    Found existing installation: PyYAML 3.13\n",
            "    Uninstalling PyYAML-3.13:\n",
            "      Successfully uninstalled PyYAML-3.13\n",
            "Successfully installed huggingface-hub-0.0.17 pyyaml-5.4.1 sacremoses-0.0.46 tokenizers-0.10.3 transformers-4.11.1\n"
          ]
        }
      ]
    },
    {
      "cell_type": "code",
      "metadata": {
        "id": "TTTvXLV_P3Vu"
      },
      "source": [
        "import torch\n",
        "from transformers import BertForSequenceClassification"
      ],
      "execution_count": null,
      "outputs": []
    },
    {
      "cell_type": "code",
      "metadata": {
        "id": "BtIAlyOWQhrp",
        "colab": {
          "base_uri": "https://localhost:8080/",
          "height": 145,
          "referenced_widgets": [
            "0e53b0a249a54c59894774ae38a88853",
            "fb73f5b3359f4f8e8255ae6e35cb2572",
            "608ce998670a4c2aaaee79a4dd656a3c",
            "43d4a5f50c4043fba0bb2b1f0e1b9051",
            "1cf1557b33754437917dd0bfdeb349ef",
            "197a7e77ce734425837f1600ce256e0e",
            "ba45c012cd3b48ca9548afecd06875b4",
            "1bc5f38ea399411ebd33658198a89b80",
            "d0519e49b3664f4581c51c342ee6d189",
            "eb1778f3fabf471394285017aa0379e9",
            "1a5e31620ce4403bbc2f8d3f7a8c256d",
            "77749d38945541bb8dff9c064e8c7135",
            "f692ab1727eb44fa880ec48618171362",
            "5475d21d27234a09926d51d5e9742462",
            "14eb418382544343b06df401ce984a93",
            "8cfda1f557104605a16b47ea70c7f0e7",
            "242bdfbddb214f479fd7f01f5881ac5a",
            "2a10ac27b34f44f8a3a9a059b19955f0",
            "6881cdb9dc1840a4a3faf23a99e24d01",
            "5bac43acd0a04041b82808270aa63421",
            "b77d6b477ece432fa82069cd41fcbff4",
            "72b31045c88b46ebabb6a8510aee0bf6",
            "58833b4eef1e4f99a19875e4039ba863",
            "d5443fcbd03f40c1bf7283bd0b12733e",
            "497fbed9d2a64dd4858005b56a83b05d",
            "b28fa012a53c41aea981951ca430dac5",
            "9576d16dcd06473489ff6cb6a05d8650",
            "9d322b77ac1243bc9be439971f8f0005",
            "88f5d5ae75e5408aaf4485964de3e217",
            "1bb3c2186ef745539dd946e07d270e0f",
            "4d8c81c0ca594d6ba24381938e6a7405",
            "56e5a0f5838e45418f90c952f9f02484",
            "be9469b91b574b6da3710b3666904f7f",
            "611cccf640134feaa285755305293d55",
            "73941c67b0a1478f859237c4dc970c39",
            "2638ad73bca948569612f0f05fc6e7d1",
            "740826d5236046d287462ee96201dc7e",
            "5940af045398448994c346ee03dc216a",
            "943f950b3e474a20b2dc11a19a4f2c89",
            "4c7a844a0b3b4f33b219874a4bee5b10",
            "e2c6335d24324bcca1b4d04d870c46be",
            "c2244ae1b9714fedad26bd6ecfe84f26",
            "8a2c3fe7fafb4b6da11aef2166286653",
            "418e1b6a43c24e72a15263bfccf79780"
          ]
        },
        "outputId": "e9188336-2794-4265-85a1-0b26a5eda27b"
      },
      "source": [
        "from transformers import BertTokenizer\n",
        "from torch.utils.data import TensorDataset\n",
        "\n",
        "tokenizer = BertTokenizer.from_pretrained(\n",
        "    'bert-base-uncased',\n",
        "    do_lower_case=True\n",
        ")"
      ],
      "execution_count": null,
      "outputs": [
        {
          "output_type": "display_data",
          "data": {
            "application/vnd.jupyter.widget-view+json": {
              "model_id": "0e53b0a249a54c59894774ae38a88853",
              "version_minor": 0,
              "version_major": 2
            },
            "text/plain": [
              "Downloading:   0%|          | 0.00/226k [00:00<?, ?B/s]"
            ]
          },
          "metadata": {}
        },
        {
          "output_type": "display_data",
          "data": {
            "application/vnd.jupyter.widget-view+json": {
              "model_id": "77749d38945541bb8dff9c064e8c7135",
              "version_minor": 0,
              "version_major": 2
            },
            "text/plain": [
              "Downloading:   0%|          | 0.00/28.0 [00:00<?, ?B/s]"
            ]
          },
          "metadata": {}
        },
        {
          "output_type": "display_data",
          "data": {
            "application/vnd.jupyter.widget-view+json": {
              "model_id": "58833b4eef1e4f99a19875e4039ba863",
              "version_minor": 0,
              "version_major": 2
            },
            "text/plain": [
              "Downloading:   0%|          | 0.00/455k [00:00<?, ?B/s]"
            ]
          },
          "metadata": {}
        },
        {
          "output_type": "display_data",
          "data": {
            "application/vnd.jupyter.widget-view+json": {
              "model_id": "611cccf640134feaa285755305293d55",
              "version_minor": 0,
              "version_major": 2
            },
            "text/plain": [
              "Downloading:   0%|          | 0.00/570 [00:00<?, ?B/s]"
            ]
          },
          "metadata": {}
        }
      ]
    },
    {
      "cell_type": "code",
      "metadata": {
        "id": "YbjSjJ-BQhpm",
        "colab": {
          "base_uri": "https://localhost:8080/",
          "height": 161,
          "referenced_widgets": [
            "cd885dba4f7540298a7edd8f47ec5a51",
            "baf490712581454583544c84c231c3bf",
            "56ba588188444e19adc7df9add3505d0",
            "2c8a2357ab9442cab63f37c3d3797413",
            "dc78ea1717c24f2cacba9025cfc6c398",
            "8a49f6416f224bde979e21ccba81d6e6",
            "72f25d41d27b47d298ae8c50112dad83",
            "e68a8f983f2b413dbf43ee39df10c26a",
            "bd3d5785483b421ab0f89385c16e831e",
            "36bbe2dc8093443099d5baa17853fbc5",
            "a2b304ee99a945bd82dd9c2d2f92daac"
          ]
        },
        "outputId": "b7f46ae0-9c08-4bbe-d693-88033e721d21"
      },
      "source": [
        "model = BertForSequenceClassification.from_pretrained(\n",
        "                                      'bert-base-uncased', \n",
        "                                      num_labels = 3,\n",
        "                                      output_attentions = False,\n",
        "                                      output_hidden_states = False\n",
        "                                     )\n",
        "model.load_state_dict(torch.load('/content/drive/MyDrive/NLP/Summer Project/sentiment analysis/Bert_weights_sentiment_analysis.pth'))\n",
        "model = model.to('cuda') \n",
        "device = 'cuda'\n",
        "\n",
        "batchsize = 256\n",
        "batchnum = int(len(Data)/batchsize)+1"
      ],
      "execution_count": null,
      "outputs": [
        {
          "output_type": "display_data",
          "data": {
            "application/vnd.jupyter.widget-view+json": {
              "model_id": "cd885dba4f7540298a7edd8f47ec5a51",
              "version_minor": 0,
              "version_major": 2
            },
            "text/plain": [
              "Downloading:   0%|          | 0.00/420M [00:00<?, ?B/s]"
            ]
          },
          "metadata": {}
        },
        {
          "output_type": "stream",
          "name": "stderr",
          "text": [
            "Some weights of the model checkpoint at bert-base-uncased were not used when initializing BertForSequenceClassification: ['cls.predictions.bias', 'cls.predictions.transform.LayerNorm.bias', 'cls.predictions.transform.dense.bias', 'cls.seq_relationship.bias', 'cls.seq_relationship.weight', 'cls.predictions.decoder.weight', 'cls.predictions.transform.dense.weight', 'cls.predictions.transform.LayerNorm.weight']\n",
            "- This IS expected if you are initializing BertForSequenceClassification from the checkpoint of a model trained on another task or with another architecture (e.g. initializing a BertForSequenceClassification model from a BertForPreTraining model).\n",
            "- This IS NOT expected if you are initializing BertForSequenceClassification from the checkpoint of a model that you expect to be exactly identical (initializing a BertForSequenceClassification model from a BertForSequenceClassification model).\n",
            "Some weights of BertForSequenceClassification were not initialized from the model checkpoint at bert-base-uncased and are newly initialized: ['classifier.bias', 'classifier.weight']\n",
            "You should probably TRAIN this model on a down-stream task to be able to use it for predictions and inference.\n"
          ]
        }
      ]
    },
    {
      "cell_type": "code",
      "metadata": {
        "id": "DcoKkfO3QhnJ",
        "colab": {
          "base_uri": "https://localhost:8080/"
        },
        "outputId": "4e55807c-5b74-4d32-ca7f-0428142ff719"
      },
      "source": [
        "p_results0, p_results1, p_results2 = [], [], []\n",
        "prediction_results = []\n",
        "for i in range(batchnum):\n",
        "    if i==(batchnum-1):\n",
        "        n = len(Data)%batchsize\n",
        "    else:\n",
        "        n = batchsize\n",
        "        \n",
        "    encoded_data_pred = tokenizer.batch_encode_plus(\n",
        "        Data['text'][(i*batchsize):(i*batchsize+n)].values,\n",
        "        add_special_tokens=True,\n",
        "        return_attention_mask=True,\n",
        "        pad_to_max_length=True,\n",
        "        max_length=256,\n",
        "        return_tensors='pt'\n",
        "    )\n",
        "\n",
        "    input_ids_pred = encoded_data_pred['input_ids']\n",
        "    attention_masks_pred = encoded_data_pred['attention_mask']\n",
        "    \n",
        "    batch = tuple(b.to(device) for b in encoded_data_pred.values())\n",
        "    inputs = {\n",
        "            'input_ids': batch[0],\n",
        "            'token_type_ids': batch[1],\n",
        "            'attention_mask': batch[2],\n",
        "            }\n",
        "\n",
        "    with torch.no_grad():        \n",
        "        outputs = model(**inputs)\n",
        "\n",
        "    logits = outputs[0]\n",
        "    softmax = torch.nn.Softmax(dim=1)\n",
        "    p_result = softmax(logits).detach().cpu().numpy()\n",
        "    p_results0 = p_results0 + list(p_result[:,0])\n",
        "    p_results1 = p_results1 + list(p_result[:,1])\n",
        "    p_results2 = p_results2 + list(p_result[:,2])\n",
        "\n",
        "    prediction_result = [np.argmax(c) for c in p_result]\n",
        "    prediction_results = prediction_results + prediction_result\n",
        "    "
      ],
      "execution_count": null,
      "outputs": [
        {
          "output_type": "stream",
          "name": "stderr",
          "text": [
            "Truncation was not explicitly activated but `max_length` is provided a specific value, please use `truncation=True` to explicitly truncate examples to max length. Defaulting to 'longest_first' truncation strategy. If you encode pairs of sequences (GLUE-style) with the tokenizer you can select this strategy more precisely by providing a specific strategy to `truncation`.\n",
            "/usr/local/lib/python3.7/dist-packages/transformers/tokenization_utils_base.py:2217: FutureWarning: The `pad_to_max_length` argument is deprecated and will be removed in a future version, use `padding=True` or `padding='longest'` to pad to the longest sequence in the batch, or use `padding='max_length'` to pad to a max length. In this case, you can give a specific length with `max_length` (e.g. `max_length=45`) or leave max_length to None to pad to the maximal input size of the model (e.g. 512 for Bert).\n",
            "  FutureWarning,\n"
          ]
        }
      ]
    },
    {
      "cell_type": "code",
      "metadata": {
        "id": "h5uE4YfWQhkh"
      },
      "source": [
        "# sentiment score0: Negative\n",
        "# sentiment score1: Neutral\n",
        "# sentiment score2: Positive\n",
        "\n",
        "Data[\"sentiment score0\"] = p_results0\n",
        "Data[\"sentiment score1\"] = p_results1\n",
        "Data[\"sentiment score2\"] = p_results2\n",
        "Data[\"sentiment prediction\"] = prediction_results"
      ],
      "execution_count": null,
      "outputs": []
    },
    {
      "cell_type": "code",
      "metadata": {
        "id": "gDUj-FbVQhiA",
        "colab": {
          "base_uri": "https://localhost:8080/",
          "height": 553
        },
        "outputId": "4fedae75-606f-4965-ebe9-b9bc96313efb"
      },
      "source": [
        "Data.head()"
      ],
      "execution_count": null,
      "outputs": [
        {
          "output_type": "execute_result",
          "data": {
            "text/html": [
              "<div>\n",
              "<style scoped>\n",
              "    .dataframe tbody tr th:only-of-type {\n",
              "        vertical-align: middle;\n",
              "    }\n",
              "\n",
              "    .dataframe tbody tr th {\n",
              "        vertical-align: top;\n",
              "    }\n",
              "\n",
              "    .dataframe thead th {\n",
              "        text-align: right;\n",
              "    }\n",
              "</style>\n",
              "<table border=\"1\" class=\"dataframe\">\n",
              "  <thead>\n",
              "    <tr style=\"text-align: right;\">\n",
              "      <th></th>\n",
              "      <th>App_id</th>\n",
              "      <th>Review_user</th>\n",
              "      <th>Review_title</th>\n",
              "      <th>Review_context</th>\n",
              "      <th>Review_date</th>\n",
              "      <th>Review_star</th>\n",
              "      <th>text</th>\n",
              "      <th>sentiment score0</th>\n",
              "      <th>sentiment score1</th>\n",
              "      <th>sentiment score2</th>\n",
              "      <th>sentiment prediction</th>\n",
              "    </tr>\n",
              "    <tr>\n",
              "      <th>index</th>\n",
              "      <th></th>\n",
              "      <th></th>\n",
              "      <th></th>\n",
              "      <th></th>\n",
              "      <th></th>\n",
              "      <th></th>\n",
              "      <th></th>\n",
              "      <th></th>\n",
              "      <th></th>\n",
              "      <th></th>\n",
              "      <th></th>\n",
              "    </tr>\n",
              "  </thead>\n",
              "  <tbody>\n",
              "    <tr>\n",
              "      <th>0</th>\n",
              "      <td>1</td>\n",
              "      <td>KimP055IBLE</td>\n",
              "      <td>Reluctant… but honest</td>\n",
              "      <td>As soon as I give something props, I usually r...</td>\n",
              "      <td>08/27/2021</td>\n",
              "      <td>5</td>\n",
              "      <td>Reluctant… but honestAs soon as I give somethi...</td>\n",
              "      <td>0.009426</td>\n",
              "      <td>0.000442</td>\n",
              "      <td>0.990131</td>\n",
              "      <td>2</td>\n",
              "    </tr>\n",
              "    <tr>\n",
              "      <th>1</th>\n",
              "      <td>1</td>\n",
              "      <td>ogleefli</td>\n",
              "      <td>Review</td>\n",
              "      <td>This app is amazing! It is a great way to cure...</td>\n",
              "      <td>07/29/2021</td>\n",
              "      <td>4</td>\n",
              "      <td>ReviewThis app is amazing! It is a great way t...</td>\n",
              "      <td>0.617391</td>\n",
              "      <td>0.000816</td>\n",
              "      <td>0.381793</td>\n",
              "      <td>0</td>\n",
              "    </tr>\n",
              "    <tr>\n",
              "      <th>2</th>\n",
              "      <td>1</td>\n",
              "      <td>Rachelnicole97</td>\n",
              "      <td>Great app but beware</td>\n",
              "      <td>I got Tiktok during the pandemic last year. I ...</td>\n",
              "      <td>07/27/2021</td>\n",
              "      <td>3</td>\n",
              "      <td>Great app but bewareI got Tiktok during the pa...</td>\n",
              "      <td>0.963040</td>\n",
              "      <td>0.000087</td>\n",
              "      <td>0.036874</td>\n",
              "      <td>0</td>\n",
              "    </tr>\n",
              "    <tr>\n",
              "      <th>3</th>\n",
              "      <td>1</td>\n",
              "      <td>DreamNyuro</td>\n",
              "      <td>AMAZING, just a few suggestions</td>\n",
              "      <td>I’ve been on Tik Tok since 2018, and have been...</td>\n",
              "      <td>08/27/2021</td>\n",
              "      <td>4</td>\n",
              "      <td>AMAZING, just a few suggestionsI’ve been on Ti...</td>\n",
              "      <td>0.001488</td>\n",
              "      <td>0.000052</td>\n",
              "      <td>0.998461</td>\n",
              "      <td>2</td>\n",
              "    </tr>\n",
              "    <tr>\n",
              "      <th>4</th>\n",
              "      <td>1</td>\n",
              "      <td>breannalll</td>\n",
              "      <td>Some complaints and suggestions</td>\n",
              "      <td>I like this app, but there's a couple of thing...</td>\n",
              "      <td>05/28/2021</td>\n",
              "      <td>3</td>\n",
              "      <td>Some complaints and suggestionsI like this app...</td>\n",
              "      <td>0.982875</td>\n",
              "      <td>0.000112</td>\n",
              "      <td>0.017013</td>\n",
              "      <td>0</td>\n",
              "    </tr>\n",
              "  </tbody>\n",
              "</table>\n",
              "</div>"
            ],
            "text/plain": [
              "       App_id     Review_user  ... sentiment score2 sentiment prediction\n",
              "index                          ...                                      \n",
              "0           1     KimP055IBLE  ...         0.990131                    2\n",
              "1           1        ogleefli  ...         0.381793                    0\n",
              "2           1  Rachelnicole97  ...         0.036874                    0\n",
              "3           1      DreamNyuro  ...         0.998461                    2\n",
              "4           1      breannalll  ...         0.017013                    0\n",
              "\n",
              "[5 rows x 11 columns]"
            ]
          },
          "metadata": {},
          "execution_count": 21
        }
      ]
    },
    {
      "cell_type": "code",
      "metadata": {
        "id": "ZYmOPThyQ8LJ"
      },
      "source": [
        "Data.to_excel('/content/drive/MyDrive/NLP/Summer Project/Benchmark construction/Review_Data_with_sentiment_polarity.xlsx')"
      ],
      "execution_count": null,
      "outputs": []
    },
    {
      "cell_type": "code",
      "metadata": {
        "id": "PkfW1rlxQ8Cz"
      },
      "source": [
        ""
      ],
      "execution_count": null,
      "outputs": []
    },
    {
      "cell_type": "markdown",
      "metadata": {
        "id": "9O20nS_KTd5g"
      },
      "source": [
        "# Sarcasm Detection for app reviews"
      ]
    },
    {
      "cell_type": "code",
      "metadata": {
        "id": "EzKpmxjgs5Tu"
      },
      "source": [
        "import torch\n",
        "from tqdm.notebook import tqdm\n",
        "import numpy as np\n",
        "import pandas as pd"
      ],
      "execution_count": 3,
      "outputs": []
    },
    {
      "cell_type": "code",
      "metadata": {
        "id": "54GoySN-tlBf"
      },
      "source": [
        "Data = pd.read_excel('/content/drive/MyDrive/NLP/Summer Project/Benchmark construction/Review_Data_with_sentiment_polarity.xlsx')\n",
        "AppData = pd.read_excel('/content/drive/MyDrive/NLP/Summer Project/Benchmark construction/Data/App Data.xlsx')"
      ],
      "execution_count": 4,
      "outputs": []
    },
    {
      "cell_type": "code",
      "metadata": {
        "colab": {
          "base_uri": "https://localhost:8080/"
        },
        "id": "d0-JM49ysliF",
        "outputId": "135489f3-bbca-4da0-c75a-9896481c9e6e"
      },
      "source": [
        "!pip install transformers"
      ],
      "execution_count": 5,
      "outputs": [
        {
          "output_type": "stream",
          "name": "stdout",
          "text": [
            "Collecting transformers\n",
            "  Downloading transformers-4.11.1-py3-none-any.whl (2.9 MB)\n",
            "\u001b[K     |████████████████████████████████| 2.9 MB 5.2 MB/s \n",
            "\u001b[?25hRequirement already satisfied: numpy>=1.17 in /usr/local/lib/python3.7/dist-packages (from transformers) (1.19.5)\n",
            "Requirement already satisfied: importlib-metadata in /usr/local/lib/python3.7/dist-packages (from transformers) (4.8.1)\n",
            "Collecting tokenizers<0.11,>=0.10.1\n",
            "  Downloading tokenizers-0.10.3-cp37-cp37m-manylinux_2_5_x86_64.manylinux1_x86_64.manylinux_2_12_x86_64.manylinux2010_x86_64.whl (3.3 MB)\n",
            "\u001b[K     |████████████████████████████████| 3.3 MB 36.2 MB/s \n",
            "\u001b[?25hCollecting sacremoses\n",
            "  Downloading sacremoses-0.0.46-py3-none-any.whl (895 kB)\n",
            "\u001b[K     |████████████████████████████████| 895 kB 39.7 MB/s \n",
            "\u001b[?25hRequirement already satisfied: tqdm>=4.27 in /usr/local/lib/python3.7/dist-packages (from transformers) (4.62.3)\n",
            "Requirement already satisfied: filelock in /usr/local/lib/python3.7/dist-packages (from transformers) (3.0.12)\n",
            "Requirement already satisfied: requests in /usr/local/lib/python3.7/dist-packages (from transformers) (2.23.0)\n",
            "Collecting huggingface-hub>=0.0.17\n",
            "  Downloading huggingface_hub-0.0.17-py3-none-any.whl (52 kB)\n",
            "\u001b[K     |████████████████████████████████| 52 kB 1.5 MB/s \n",
            "\u001b[?25hRequirement already satisfied: regex!=2019.12.17 in /usr/local/lib/python3.7/dist-packages (from transformers) (2019.12.20)\n",
            "Collecting pyyaml>=5.1\n",
            "  Downloading PyYAML-5.4.1-cp37-cp37m-manylinux1_x86_64.whl (636 kB)\n",
            "\u001b[K     |████████████████████████████████| 636 kB 37.6 MB/s \n",
            "\u001b[?25hRequirement already satisfied: packaging>=20.0 in /usr/local/lib/python3.7/dist-packages (from transformers) (21.0)\n",
            "Requirement already satisfied: typing-extensions in /usr/local/lib/python3.7/dist-packages (from huggingface-hub>=0.0.17->transformers) (3.7.4.3)\n",
            "Requirement already satisfied: pyparsing>=2.0.2 in /usr/local/lib/python3.7/dist-packages (from packaging>=20.0->transformers) (2.4.7)\n",
            "Requirement already satisfied: zipp>=0.5 in /usr/local/lib/python3.7/dist-packages (from importlib-metadata->transformers) (3.5.0)\n",
            "Requirement already satisfied: urllib3!=1.25.0,!=1.25.1,<1.26,>=1.21.1 in /usr/local/lib/python3.7/dist-packages (from requests->transformers) (1.24.3)\n",
            "Requirement already satisfied: certifi>=2017.4.17 in /usr/local/lib/python3.7/dist-packages (from requests->transformers) (2021.5.30)\n",
            "Requirement already satisfied: chardet<4,>=3.0.2 in /usr/local/lib/python3.7/dist-packages (from requests->transformers) (3.0.4)\n",
            "Requirement already satisfied: idna<3,>=2.5 in /usr/local/lib/python3.7/dist-packages (from requests->transformers) (2.10)\n",
            "Requirement already satisfied: click in /usr/local/lib/python3.7/dist-packages (from sacremoses->transformers) (7.1.2)\n",
            "Requirement already satisfied: six in /usr/local/lib/python3.7/dist-packages (from sacremoses->transformers) (1.15.0)\n",
            "Requirement already satisfied: joblib in /usr/local/lib/python3.7/dist-packages (from sacremoses->transformers) (1.0.1)\n",
            "Installing collected packages: tokenizers, sacremoses, pyyaml, huggingface-hub, transformers\n",
            "  Attempting uninstall: pyyaml\n",
            "    Found existing installation: PyYAML 3.13\n",
            "    Uninstalling PyYAML-3.13:\n",
            "      Successfully uninstalled PyYAML-3.13\n",
            "Successfully installed huggingface-hub-0.0.17 pyyaml-5.4.1 sacremoses-0.0.46 tokenizers-0.10.3 transformers-4.11.1\n"
          ]
        }
      ]
    },
    {
      "cell_type": "code",
      "metadata": {
        "id": "Uz9pIAY7snce"
      },
      "source": [
        "import torch\n",
        "from transformers import BertForSequenceClassification"
      ],
      "execution_count": 6,
      "outputs": []
    },
    {
      "cell_type": "code",
      "metadata": {
        "colab": {
          "base_uri": "https://localhost:8080/",
          "height": 145,
          "referenced_widgets": [
            "1b85da6a60bb4ea38e423f9bf2722329",
            "9d749e0dbec9474097e7ad8c7c1ba1a9",
            "23c43ac542294cbeb29a2c8e984c8cd7",
            "80642034077c41168ed9807708610ca1",
            "5e59e151649a41e78749fdeb1d2d0441",
            "91b4212807144fbbaefb6f0b27eab708",
            "55e1fe489e4f4874a18f949312d62811",
            "3e65c3c9e38148a690b016640e94f240",
            "9f3ff7d835f74e9dbc8b56aaa98a012f",
            "c4f5b194b2f4470793d20d32dfbf0239",
            "179a0ad3b62c4372a7c80bfbcb7b4304",
            "bcf10835bd2749a1bf3fc0699192e4b8",
            "15341ed3427946ef989e1fa376487aa5",
            "4bdde9e9d2cd4797a12b91531e5c5749",
            "e4567390bf794faa96ecb634bb6ed346",
            "1e6190b76e0049399c5605ae55563ad4",
            "9ca67ac8e4164958ac2833725233b370",
            "d6da0cc210c3426d982b6fe5659b9ef8",
            "429c74bb531a45e7b04e14cd46f0b8a6",
            "231e114c1a644a97ae28083ec4de9b7d",
            "3f92b00d7e464b449ff2ce51be87b010",
            "228478ea6f974aa8a5570f12a0e209ae",
            "2e5388caec284761ac014cc147868e85",
            "362109a6ae244336bcda85106b7f162b",
            "f9a3d988929b4c4a9a5c1577f0f47cb9",
            "7c8355cd12a44f8db31aa6fe7693f3e9",
            "6542521fcdf34f6e880f5264c98d24dd",
            "5c13f13fbcdf46bdb9c8399d899abd01",
            "decd38c48cb64379bad58b07239d0382",
            "b198ff81a23f49288bc543741cf0ebc9",
            "3c7c88be41bb44359414c7859f6ab345",
            "bdee5b559da449b28e455872c62d4483",
            "06847fe8a0064ff7a255a9081407e8f3",
            "43c918dd8ee544338c65281f180661e2",
            "81203295298044168a744277284bf6ff",
            "0f9ff68060fb46d6b7396c0920249c36",
            "61496c59817d486b982e63648b3502d1",
            "8677f6e6e5334ebc9bc1d728f1f9f175",
            "ac690926beae4e11bfbe2fff9be8bf44",
            "5d189ba31c514148bee01fad94f06059",
            "734ade8677b94a0f96d2715d35ff09e2",
            "ec032599513741989cacf4445f864193",
            "ff9a587f99144a8db34e7b6a62ad49b4",
            "d174e5ec0ce94e339bc8f0c997c43477"
          ]
        },
        "id": "o6E7xvJ1s71G",
        "outputId": "243cf385-a2da-4c7f-bc72-63183514adb2"
      },
      "source": [
        "from transformers import BertTokenizer\n",
        "from torch.utils.data import TensorDataset\n",
        "\n",
        "tokenizer = BertTokenizer.from_pretrained(\n",
        "    'bert-base-uncased',\n",
        "    do_lower_case=True\n",
        ")"
      ],
      "execution_count": 7,
      "outputs": [
        {
          "output_type": "display_data",
          "data": {
            "application/vnd.jupyter.widget-view+json": {
              "model_id": "1b85da6a60bb4ea38e423f9bf2722329",
              "version_minor": 0,
              "version_major": 2
            },
            "text/plain": [
              "Downloading:   0%|          | 0.00/226k [00:00<?, ?B/s]"
            ]
          },
          "metadata": {}
        },
        {
          "output_type": "display_data",
          "data": {
            "application/vnd.jupyter.widget-view+json": {
              "model_id": "bcf10835bd2749a1bf3fc0699192e4b8",
              "version_minor": 0,
              "version_major": 2
            },
            "text/plain": [
              "Downloading:   0%|          | 0.00/28.0 [00:00<?, ?B/s]"
            ]
          },
          "metadata": {}
        },
        {
          "output_type": "display_data",
          "data": {
            "application/vnd.jupyter.widget-view+json": {
              "model_id": "2e5388caec284761ac014cc147868e85",
              "version_minor": 0,
              "version_major": 2
            },
            "text/plain": [
              "Downloading:   0%|          | 0.00/455k [00:00<?, ?B/s]"
            ]
          },
          "metadata": {}
        },
        {
          "output_type": "display_data",
          "data": {
            "application/vnd.jupyter.widget-view+json": {
              "model_id": "43c918dd8ee544338c65281f180661e2",
              "version_minor": 0,
              "version_major": 2
            },
            "text/plain": [
              "Downloading:   0%|          | 0.00/570 [00:00<?, ?B/s]"
            ]
          },
          "metadata": {}
        }
      ]
    },
    {
      "cell_type": "code",
      "metadata": {
        "id": "vK_V_WjeTkVP",
        "colab": {
          "base_uri": "https://localhost:8080/"
        },
        "outputId": "ae821185-ed16-4970-ceb4-520385cae7af"
      },
      "source": [
        "model = BertForSequenceClassification.from_pretrained(\n",
        "                                      'bert-base-uncased', \n",
        "                                      num_labels = 2,\n",
        "                                      output_attentions = False,\n",
        "                                      output_hidden_states = False\n",
        "                                     )\n",
        "model.load_state_dict(torch.load('/content/drive/MyDrive/NLP/Summer Project/sarcasm detection/Bert_Weights_Sarcasm_Detection.pth'))\n",
        "model = model.to('cuda') \n",
        "device = 'cuda'\n",
        "\n",
        "batchsize = 256\n",
        "batchnum = int(len(Data)/batchsize)+1"
      ],
      "execution_count": 11,
      "outputs": [
        {
          "output_type": "stream",
          "name": "stderr",
          "text": [
            "Some weights of the model checkpoint at bert-base-uncased were not used when initializing BertForSequenceClassification: ['cls.predictions.transform.LayerNorm.weight', 'cls.predictions.transform.dense.weight', 'cls.predictions.transform.LayerNorm.bias', 'cls.seq_relationship.bias', 'cls.predictions.decoder.weight', 'cls.seq_relationship.weight', 'cls.predictions.transform.dense.bias', 'cls.predictions.bias']\n",
            "- This IS expected if you are initializing BertForSequenceClassification from the checkpoint of a model trained on another task or with another architecture (e.g. initializing a BertForSequenceClassification model from a BertForPreTraining model).\n",
            "- This IS NOT expected if you are initializing BertForSequenceClassification from the checkpoint of a model that you expect to be exactly identical (initializing a BertForSequenceClassification model from a BertForSequenceClassification model).\n",
            "Some weights of BertForSequenceClassification were not initialized from the model checkpoint at bert-base-uncased and are newly initialized: ['classifier.weight', 'classifier.bias']\n",
            "You should probably TRAIN this model on a down-stream task to be able to use it for predictions and inference.\n"
          ]
        }
      ]
    },
    {
      "cell_type": "code",
      "metadata": {
        "id": "BfcH8U9QTkS9",
        "colab": {
          "base_uri": "https://localhost:8080/"
        },
        "outputId": "453eb944-c7ee-42f5-d1fc-3175edc4fb57"
      },
      "source": [
        "p_results0, p_results1 = [], []\n",
        "prediction_results = []\n",
        "for i in range(batchnum):\n",
        "    if i==(batchnum-1):\n",
        "        n = len(Data)%batchsize\n",
        "    else:\n",
        "        n = batchsize\n",
        "        \n",
        "    encoded_data_pred = tokenizer.batch_encode_plus(\n",
        "        Data['text'][(i*batchsize):(i*batchsize+n)].values,\n",
        "        add_special_tokens=True,\n",
        "        return_attention_mask=True,\n",
        "        pad_to_max_length=True,\n",
        "        max_length=256,\n",
        "        return_tensors='pt'\n",
        "    )\n",
        "\n",
        "    input_ids_pred = encoded_data_pred['input_ids']\n",
        "    attention_masks_pred = encoded_data_pred['attention_mask']\n",
        "    \n",
        "    batch = tuple(b.to(device) for b in encoded_data_pred.values())\n",
        "    inputs = {\n",
        "            'input_ids': batch[0],\n",
        "            'token_type_ids': batch[1],\n",
        "            'attention_mask': batch[2],\n",
        "            }\n",
        "\n",
        "    with torch.no_grad():        \n",
        "        outputs = model(**inputs)\n",
        "\n",
        "    logits = outputs[0]\n",
        "    softmax = torch.nn.Softmax(dim=1)\n",
        "    p_result = softmax(logits).detach().cpu().numpy()\n",
        "    p_results0 = p_results0 + list(p_result[:,0])\n",
        "    p_results1 = p_results1 + list(p_result[:,1])\n",
        "\n",
        "    prediction_result = [np.argmax(c) for c in p_result]\n",
        "    prediction_results = prediction_results + prediction_result\n",
        "    "
      ],
      "execution_count": 12,
      "outputs": [
        {
          "output_type": "stream",
          "name": "stderr",
          "text": [
            "/usr/local/lib/python3.7/dist-packages/transformers/tokenization_utils_base.py:2217: FutureWarning: The `pad_to_max_length` argument is deprecated and will be removed in a future version, use `padding=True` or `padding='longest'` to pad to the longest sequence in the batch, or use `padding='max_length'` to pad to a max length. In this case, you can give a specific length with `max_length` (e.g. `max_length=45`) or leave max_length to None to pad to the maximal input size of the model (e.g. 512 for Bert).\n",
            "  FutureWarning,\n"
          ]
        }
      ]
    },
    {
      "cell_type": "code",
      "metadata": {
        "id": "4iO9L_cdTkQT"
      },
      "source": [
        "# sarcasm score0: no sarcasm\n",
        "# sarcasm score1: sarcasm\n",
        "\n",
        "Data[\"sarcasm score0\"] = p_results0\n",
        "Data[\"sarcasm score1\"] = p_results1\n",
        "Data[\"sarcasm prediction\"] = prediction_results"
      ],
      "execution_count": 13,
      "outputs": []
    },
    {
      "cell_type": "code",
      "metadata": {
        "id": "gUIQG4bmTkOC",
        "colab": {
          "base_uri": "https://localhost:8080/",
          "height": 521
        },
        "outputId": "74191a0f-a611-4c06-a20e-eaf011969b90"
      },
      "source": [
        "Data.head()"
      ],
      "execution_count": 14,
      "outputs": [
        {
          "output_type": "execute_result",
          "data": {
            "text/html": [
              "<div>\n",
              "<style scoped>\n",
              "    .dataframe tbody tr th:only-of-type {\n",
              "        vertical-align: middle;\n",
              "    }\n",
              "\n",
              "    .dataframe tbody tr th {\n",
              "        vertical-align: top;\n",
              "    }\n",
              "\n",
              "    .dataframe thead th {\n",
              "        text-align: right;\n",
              "    }\n",
              "</style>\n",
              "<table border=\"1\" class=\"dataframe\">\n",
              "  <thead>\n",
              "    <tr style=\"text-align: right;\">\n",
              "      <th></th>\n",
              "      <th>index</th>\n",
              "      <th>App_id</th>\n",
              "      <th>Review_user</th>\n",
              "      <th>Review_title</th>\n",
              "      <th>Review_context</th>\n",
              "      <th>Review_date</th>\n",
              "      <th>Review_star</th>\n",
              "      <th>text</th>\n",
              "      <th>sentiment score0</th>\n",
              "      <th>sentiment score1</th>\n",
              "      <th>sentiment score2</th>\n",
              "      <th>sentiment prediction</th>\n",
              "      <th>sarcasm score0</th>\n",
              "      <th>sarcasm score1</th>\n",
              "      <th>sarcasm prediction</th>\n",
              "    </tr>\n",
              "  </thead>\n",
              "  <tbody>\n",
              "    <tr>\n",
              "      <th>0</th>\n",
              "      <td>0</td>\n",
              "      <td>1</td>\n",
              "      <td>KimP055IBLE</td>\n",
              "      <td>Reluctant… but honest</td>\n",
              "      <td>As soon as I give something props, I usually r...</td>\n",
              "      <td>08/27/2021</td>\n",
              "      <td>5</td>\n",
              "      <td>Reluctant… but honestAs soon as I give somethi...</td>\n",
              "      <td>0.009426</td>\n",
              "      <td>0.000442</td>\n",
              "      <td>0.990131</td>\n",
              "      <td>2</td>\n",
              "      <td>0.000295</td>\n",
              "      <td>0.999705</td>\n",
              "      <td>1</td>\n",
              "    </tr>\n",
              "    <tr>\n",
              "      <th>1</th>\n",
              "      <td>1</td>\n",
              "      <td>1</td>\n",
              "      <td>ogleefli</td>\n",
              "      <td>Review</td>\n",
              "      <td>This app is amazing! It is a great way to cure...</td>\n",
              "      <td>07/29/2021</td>\n",
              "      <td>4</td>\n",
              "      <td>ReviewThis app is amazing! It is a great way t...</td>\n",
              "      <td>0.617391</td>\n",
              "      <td>0.000816</td>\n",
              "      <td>0.381793</td>\n",
              "      <td>0</td>\n",
              "      <td>0.000112</td>\n",
              "      <td>0.999888</td>\n",
              "      <td>1</td>\n",
              "    </tr>\n",
              "    <tr>\n",
              "      <th>2</th>\n",
              "      <td>2</td>\n",
              "      <td>1</td>\n",
              "      <td>Rachelnicole97</td>\n",
              "      <td>Great app but beware</td>\n",
              "      <td>I got Tiktok during the pandemic last year. I ...</td>\n",
              "      <td>07/27/2021</td>\n",
              "      <td>3</td>\n",
              "      <td>Great app but bewareI got Tiktok during the pa...</td>\n",
              "      <td>0.963040</td>\n",
              "      <td>0.000087</td>\n",
              "      <td>0.036874</td>\n",
              "      <td>0</td>\n",
              "      <td>0.000050</td>\n",
              "      <td>0.999950</td>\n",
              "      <td>1</td>\n",
              "    </tr>\n",
              "    <tr>\n",
              "      <th>3</th>\n",
              "      <td>3</td>\n",
              "      <td>1</td>\n",
              "      <td>DreamNyuro</td>\n",
              "      <td>AMAZING, just a few suggestions</td>\n",
              "      <td>I’ve been on Tik Tok since 2018, and have been...</td>\n",
              "      <td>08/27/2021</td>\n",
              "      <td>4</td>\n",
              "      <td>AMAZING, just a few suggestionsI’ve been on Ti...</td>\n",
              "      <td>0.001488</td>\n",
              "      <td>0.000052</td>\n",
              "      <td>0.998461</td>\n",
              "      <td>2</td>\n",
              "      <td>0.123723</td>\n",
              "      <td>0.876277</td>\n",
              "      <td>1</td>\n",
              "    </tr>\n",
              "    <tr>\n",
              "      <th>4</th>\n",
              "      <td>4</td>\n",
              "      <td>1</td>\n",
              "      <td>breannalll</td>\n",
              "      <td>Some complaints and suggestions</td>\n",
              "      <td>I like this app, but there's a couple of thing...</td>\n",
              "      <td>05/28/2021</td>\n",
              "      <td>3</td>\n",
              "      <td>Some complaints and suggestionsI like this app...</td>\n",
              "      <td>0.982875</td>\n",
              "      <td>0.000112</td>\n",
              "      <td>0.017013</td>\n",
              "      <td>0</td>\n",
              "      <td>0.000217</td>\n",
              "      <td>0.999783</td>\n",
              "      <td>1</td>\n",
              "    </tr>\n",
              "  </tbody>\n",
              "</table>\n",
              "</div>"
            ],
            "text/plain": [
              "   index  App_id  ... sarcasm score1 sarcasm prediction\n",
              "0      0       1  ...       0.999705                  1\n",
              "1      1       1  ...       0.999888                  1\n",
              "2      2       1  ...       0.999950                  1\n",
              "3      3       1  ...       0.876277                  1\n",
              "4      4       1  ...       0.999783                  1\n",
              "\n",
              "[5 rows x 15 columns]"
            ]
          },
          "metadata": {},
          "execution_count": 14
        }
      ]
    },
    {
      "cell_type": "code",
      "metadata": {
        "id": "-faDhNgITkI3"
      },
      "source": [
        "Data.to_excel('/content/drive/MyDrive/NLP/Summer Project/Benchmark construction/Review_Data_with_sentiment_and_sarcasm_score.xlsx')"
      ],
      "execution_count": 15,
      "outputs": []
    },
    {
      "cell_type": "markdown",
      "metadata": {
        "id": "DxI-aJjjDmt2"
      },
      "source": [
        "# Text Preprocessing"
      ]
    },
    {
      "cell_type": "code",
      "metadata": {
        "id": "4UH3tQFYCo10"
      },
      "source": [
        "import re\n",
        "import nltk\n",
        "from nltk.corpus import stopwords\n",
        "from nltk.stem.porter import PorterStemmer\n",
        "from nltk.tokenize import word_tokenize"
      ],
      "execution_count": 14,
      "outputs": []
    },
    {
      "cell_type": "code",
      "metadata": {
        "id": "7H1e92YU1UeA"
      },
      "source": [
        "ReviewData = pd.read_excel('/content/drive/MyDrive/NLP/Summer Project/Benchmark construction/Review_Data_with_sentiment_and_sarcasm_score.xlsx')\n",
        "AppData = pd.read_excel('/content/drive/MyDrive/NLP/Summer Project/Benchmark construction/Data/App Data.xlsx')"
      ],
      "execution_count": 11,
      "outputs": []
    },
    {
      "cell_type": "code",
      "metadata": {
        "colab": {
          "base_uri": "https://localhost:8080/",
          "height": 521
        },
        "id": "Flw86OoN1UbP",
        "outputId": "23ddc3d6-ab4c-4dba-a0e4-7418e45bff60"
      },
      "source": [
        "ReviewData = ReviewData.drop(columns=['Unnamed: 0', 'index'])\n",
        "ReviewData.head()"
      ],
      "execution_count": 12,
      "outputs": [
        {
          "output_type": "execute_result",
          "data": {
            "text/html": [
              "<div>\n",
              "<style scoped>\n",
              "    .dataframe tbody tr th:only-of-type {\n",
              "        vertical-align: middle;\n",
              "    }\n",
              "\n",
              "    .dataframe tbody tr th {\n",
              "        vertical-align: top;\n",
              "    }\n",
              "\n",
              "    .dataframe thead th {\n",
              "        text-align: right;\n",
              "    }\n",
              "</style>\n",
              "<table border=\"1\" class=\"dataframe\">\n",
              "  <thead>\n",
              "    <tr style=\"text-align: right;\">\n",
              "      <th></th>\n",
              "      <th>App_id</th>\n",
              "      <th>Review_user</th>\n",
              "      <th>Review_title</th>\n",
              "      <th>Review_context</th>\n",
              "      <th>Review_date</th>\n",
              "      <th>Review_star</th>\n",
              "      <th>text</th>\n",
              "      <th>sentiment score0</th>\n",
              "      <th>sentiment score1</th>\n",
              "      <th>sentiment score2</th>\n",
              "      <th>sentiment prediction</th>\n",
              "      <th>sarcasm score0</th>\n",
              "      <th>sarcasm score1</th>\n",
              "      <th>sarcasm prediction</th>\n",
              "    </tr>\n",
              "  </thead>\n",
              "  <tbody>\n",
              "    <tr>\n",
              "      <th>0</th>\n",
              "      <td>1</td>\n",
              "      <td>KimP055IBLE</td>\n",
              "      <td>Reluctant… but honest</td>\n",
              "      <td>As soon as I give something props, I usually r...</td>\n",
              "      <td>08/27/2021</td>\n",
              "      <td>5</td>\n",
              "      <td>Reluctant… but honestAs soon as I give somethi...</td>\n",
              "      <td>0.009426</td>\n",
              "      <td>0.000442</td>\n",
              "      <td>0.990131</td>\n",
              "      <td>2</td>\n",
              "      <td>0.000295</td>\n",
              "      <td>0.999705</td>\n",
              "      <td>1</td>\n",
              "    </tr>\n",
              "    <tr>\n",
              "      <th>1</th>\n",
              "      <td>1</td>\n",
              "      <td>ogleefli</td>\n",
              "      <td>Review</td>\n",
              "      <td>This app is amazing! It is a great way to cure...</td>\n",
              "      <td>07/29/2021</td>\n",
              "      <td>4</td>\n",
              "      <td>ReviewThis app is amazing! It is a great way t...</td>\n",
              "      <td>0.617391</td>\n",
              "      <td>0.000816</td>\n",
              "      <td>0.381793</td>\n",
              "      <td>0</td>\n",
              "      <td>0.000112</td>\n",
              "      <td>0.999888</td>\n",
              "      <td>1</td>\n",
              "    </tr>\n",
              "    <tr>\n",
              "      <th>2</th>\n",
              "      <td>1</td>\n",
              "      <td>Rachelnicole97</td>\n",
              "      <td>Great app but beware</td>\n",
              "      <td>I got Tiktok during the pandemic last year. I ...</td>\n",
              "      <td>07/27/2021</td>\n",
              "      <td>3</td>\n",
              "      <td>Great app but bewareI got Tiktok during the pa...</td>\n",
              "      <td>0.963040</td>\n",
              "      <td>0.000087</td>\n",
              "      <td>0.036874</td>\n",
              "      <td>0</td>\n",
              "      <td>0.000050</td>\n",
              "      <td>0.999950</td>\n",
              "      <td>1</td>\n",
              "    </tr>\n",
              "    <tr>\n",
              "      <th>3</th>\n",
              "      <td>1</td>\n",
              "      <td>DreamNyuro</td>\n",
              "      <td>AMAZING, just a few suggestions</td>\n",
              "      <td>I’ve been on Tik Tok since 2018, and have been...</td>\n",
              "      <td>08/27/2021</td>\n",
              "      <td>4</td>\n",
              "      <td>AMAZING, just a few suggestionsI’ve been on Ti...</td>\n",
              "      <td>0.001488</td>\n",
              "      <td>0.000052</td>\n",
              "      <td>0.998461</td>\n",
              "      <td>2</td>\n",
              "      <td>0.123723</td>\n",
              "      <td>0.876277</td>\n",
              "      <td>1</td>\n",
              "    </tr>\n",
              "    <tr>\n",
              "      <th>4</th>\n",
              "      <td>1</td>\n",
              "      <td>breannalll</td>\n",
              "      <td>Some complaints and suggestions</td>\n",
              "      <td>I like this app, but there's a couple of thing...</td>\n",
              "      <td>05/28/2021</td>\n",
              "      <td>3</td>\n",
              "      <td>Some complaints and suggestionsI like this app...</td>\n",
              "      <td>0.982875</td>\n",
              "      <td>0.000112</td>\n",
              "      <td>0.017013</td>\n",
              "      <td>0</td>\n",
              "      <td>0.000217</td>\n",
              "      <td>0.999783</td>\n",
              "      <td>1</td>\n",
              "    </tr>\n",
              "  </tbody>\n",
              "</table>\n",
              "</div>"
            ],
            "text/plain": [
              "   App_id     Review_user  ... sarcasm score1 sarcasm prediction\n",
              "0       1     KimP055IBLE  ...       0.999705                  1\n",
              "1       1        ogleefli  ...       0.999888                  1\n",
              "2       1  Rachelnicole97  ...       0.999950                  1\n",
              "3       1      DreamNyuro  ...       0.876277                  1\n",
              "4       1      breannalll  ...       0.999783                  1\n",
              "\n",
              "[5 rows x 14 columns]"
            ]
          },
          "metadata": {},
          "execution_count": 12
        }
      ]
    },
    {
      "cell_type": "code",
      "metadata": {
        "colab": {
          "base_uri": "https://localhost:8080/"
        },
        "id": "jF-52y-yCo11",
        "outputId": "5d3c54e2-1c67-4580-9f6d-b7fe17947c44"
      },
      "source": [
        "ReviewData.shape"
      ],
      "execution_count": 15,
      "outputs": [
        {
          "output_type": "execute_result",
          "data": {
            "text/plain": [
              "(57736, 14)"
            ]
          },
          "metadata": {},
          "execution_count": 15
        }
      ]
    },
    {
      "cell_type": "code",
      "metadata": {
        "colab": {
          "base_uri": "https://localhost:8080/",
          "height": 553
        },
        "id": "Zf_H1yORCo11",
        "outputId": "e3c26b6b-474c-4f1c-e839-ebb899e71f48"
      },
      "source": [
        "ReviewData[\"index\"] = range(0,len(ReviewData))\n",
        "ReviewData = ReviewData.set_index(\"index\")\n",
        "ReviewData[\"text\"] = ReviewData['Review_title'] + ReviewData['Review_context']\n",
        "ReviewData.head()"
      ],
      "execution_count": 16,
      "outputs": [
        {
          "output_type": "execute_result",
          "data": {
            "text/html": [
              "<div>\n",
              "<style scoped>\n",
              "    .dataframe tbody tr th:only-of-type {\n",
              "        vertical-align: middle;\n",
              "    }\n",
              "\n",
              "    .dataframe tbody tr th {\n",
              "        vertical-align: top;\n",
              "    }\n",
              "\n",
              "    .dataframe thead th {\n",
              "        text-align: right;\n",
              "    }\n",
              "</style>\n",
              "<table border=\"1\" class=\"dataframe\">\n",
              "  <thead>\n",
              "    <tr style=\"text-align: right;\">\n",
              "      <th></th>\n",
              "      <th>App_id</th>\n",
              "      <th>Review_user</th>\n",
              "      <th>Review_title</th>\n",
              "      <th>Review_context</th>\n",
              "      <th>Review_date</th>\n",
              "      <th>Review_star</th>\n",
              "      <th>text</th>\n",
              "      <th>sentiment score0</th>\n",
              "      <th>sentiment score1</th>\n",
              "      <th>sentiment score2</th>\n",
              "      <th>sentiment prediction</th>\n",
              "      <th>sarcasm score0</th>\n",
              "      <th>sarcasm score1</th>\n",
              "      <th>sarcasm prediction</th>\n",
              "    </tr>\n",
              "    <tr>\n",
              "      <th>index</th>\n",
              "      <th></th>\n",
              "      <th></th>\n",
              "      <th></th>\n",
              "      <th></th>\n",
              "      <th></th>\n",
              "      <th></th>\n",
              "      <th></th>\n",
              "      <th></th>\n",
              "      <th></th>\n",
              "      <th></th>\n",
              "      <th></th>\n",
              "      <th></th>\n",
              "      <th></th>\n",
              "      <th></th>\n",
              "    </tr>\n",
              "  </thead>\n",
              "  <tbody>\n",
              "    <tr>\n",
              "      <th>0</th>\n",
              "      <td>1</td>\n",
              "      <td>KimP055IBLE</td>\n",
              "      <td>Reluctant… but honest</td>\n",
              "      <td>As soon as I give something props, I usually r...</td>\n",
              "      <td>08/27/2021</td>\n",
              "      <td>5</td>\n",
              "      <td>Reluctant… but honestAs soon as I give somethi...</td>\n",
              "      <td>0.009426</td>\n",
              "      <td>0.000442</td>\n",
              "      <td>0.990131</td>\n",
              "      <td>2</td>\n",
              "      <td>0.000295</td>\n",
              "      <td>0.999705</td>\n",
              "      <td>1</td>\n",
              "    </tr>\n",
              "    <tr>\n",
              "      <th>1</th>\n",
              "      <td>1</td>\n",
              "      <td>ogleefli</td>\n",
              "      <td>Review</td>\n",
              "      <td>This app is amazing! It is a great way to cure...</td>\n",
              "      <td>07/29/2021</td>\n",
              "      <td>4</td>\n",
              "      <td>ReviewThis app is amazing! It is a great way t...</td>\n",
              "      <td>0.617391</td>\n",
              "      <td>0.000816</td>\n",
              "      <td>0.381793</td>\n",
              "      <td>0</td>\n",
              "      <td>0.000112</td>\n",
              "      <td>0.999888</td>\n",
              "      <td>1</td>\n",
              "    </tr>\n",
              "    <tr>\n",
              "      <th>2</th>\n",
              "      <td>1</td>\n",
              "      <td>Rachelnicole97</td>\n",
              "      <td>Great app but beware</td>\n",
              "      <td>I got Tiktok during the pandemic last year. I ...</td>\n",
              "      <td>07/27/2021</td>\n",
              "      <td>3</td>\n",
              "      <td>Great app but bewareI got Tiktok during the pa...</td>\n",
              "      <td>0.963040</td>\n",
              "      <td>0.000087</td>\n",
              "      <td>0.036874</td>\n",
              "      <td>0</td>\n",
              "      <td>0.000050</td>\n",
              "      <td>0.999950</td>\n",
              "      <td>1</td>\n",
              "    </tr>\n",
              "    <tr>\n",
              "      <th>3</th>\n",
              "      <td>1</td>\n",
              "      <td>DreamNyuro</td>\n",
              "      <td>AMAZING, just a few suggestions</td>\n",
              "      <td>I’ve been on Tik Tok since 2018, and have been...</td>\n",
              "      <td>08/27/2021</td>\n",
              "      <td>4</td>\n",
              "      <td>AMAZING, just a few suggestionsI’ve been on Ti...</td>\n",
              "      <td>0.001488</td>\n",
              "      <td>0.000052</td>\n",
              "      <td>0.998461</td>\n",
              "      <td>2</td>\n",
              "      <td>0.123723</td>\n",
              "      <td>0.876277</td>\n",
              "      <td>1</td>\n",
              "    </tr>\n",
              "    <tr>\n",
              "      <th>4</th>\n",
              "      <td>1</td>\n",
              "      <td>breannalll</td>\n",
              "      <td>Some complaints and suggestions</td>\n",
              "      <td>I like this app, but there's a couple of thing...</td>\n",
              "      <td>05/28/2021</td>\n",
              "      <td>3</td>\n",
              "      <td>Some complaints and suggestionsI like this app...</td>\n",
              "      <td>0.982875</td>\n",
              "      <td>0.000112</td>\n",
              "      <td>0.017013</td>\n",
              "      <td>0</td>\n",
              "      <td>0.000217</td>\n",
              "      <td>0.999783</td>\n",
              "      <td>1</td>\n",
              "    </tr>\n",
              "  </tbody>\n",
              "</table>\n",
              "</div>"
            ],
            "text/plain": [
              "       App_id     Review_user  ... sarcasm score1 sarcasm prediction\n",
              "index                          ...                                  \n",
              "0           1     KimP055IBLE  ...       0.999705                  1\n",
              "1           1        ogleefli  ...       0.999888                  1\n",
              "2           1  Rachelnicole97  ...       0.999950                  1\n",
              "3           1      DreamNyuro  ...       0.876277                  1\n",
              "4           1      breannalll  ...       0.999783                  1\n",
              "\n",
              "[5 rows x 14 columns]"
            ]
          },
          "metadata": {},
          "execution_count": 16
        }
      ]
    },
    {
      "cell_type": "code",
      "metadata": {
        "colab": {
          "base_uri": "https://localhost:8080/"
        },
        "id": "Dz1t7UgTENbi",
        "outputId": "71118925-efcc-47c5-efe1-640167dd4d9c"
      },
      "source": [
        "import nltk\n",
        "nltk.download('stopwords')"
      ],
      "execution_count": 17,
      "outputs": [
        {
          "output_type": "stream",
          "name": "stdout",
          "text": [
            "[nltk_data] Downloading package stopwords to /root/nltk_data...\n",
            "[nltk_data]   Unzipping corpora/stopwords.zip.\n"
          ]
        },
        {
          "output_type": "execute_result",
          "data": {
            "text/plain": [
              "True"
            ]
          },
          "metadata": {},
          "execution_count": 17
        }
      ]
    },
    {
      "cell_type": "code",
      "metadata": {
        "id": "74s5sEAPCo11"
      },
      "source": [
        "STOPWORDS = set(stopwords.words('english'))\n",
        "corpus=[]\n",
        "for i in range(0,len(ReviewData)):\n",
        "\n",
        "    # Remove bad symbols\n",
        "    #review = re.sub('[^a-zA-Z]', ' ',Data['text'][i])\n",
        "    review = re.sub('[/(){}\\[\\]\\|@!,;]', ' ',ReviewData['Review_title'][i])\n",
        "    #review = re.sub('[^0-9a-z #+_♥️]', ' ',Data['text'][i])\n",
        "    #review = re.sub('[#+_]', ' ',Data['text'][i])\n",
        "\n",
        "    review = review.lower()\n",
        "    review = review.split()\n",
        "    stemmer = PorterStemmer()\n",
        "    review = [stemmer.stem(token) for token in review if token not in STOPWORDS]\n",
        "    review=' '.join(review)\n",
        "    corpus.append(review)\n",
        "corpus"
      ],
      "execution_count": null,
      "outputs": []
    },
    {
      "cell_type": "code",
      "metadata": {
        "id": "iZt9pz7n3ZvO"
      },
      "source": [
        "words = []\n",
        "Sentiment_Polarity=[]\n",
        "for i in range(0,len(corpus)):\n",
        "    words = words + (re.findall(r'\\w+', corpus[i]))# words cantain all the words in the dataset\n",
        "    Sentiment_Polarity.append\n",
        "words"
      ],
      "execution_count": null,
      "outputs": []
    },
    {
      "cell_type": "code",
      "metadata": {
        "id": "t4X-C7YfCo14"
      },
      "source": [
        "from collections import Counter\n",
        "words_counts = Counter(words)"
      ],
      "execution_count": 24,
      "outputs": []
    },
    {
      "cell_type": "code",
      "metadata": {
        "id": "_VokophrCo14"
      },
      "source": [
        "most_common_words = sorted(words_counts.items(), key=lambda x: x[1], reverse=True)\n",
        "most_commmom_wordList = []\n",
        "most_commmom_CountList = []\n",
        "for x, y in most_common_words:\n",
        "    most_commmom_wordList.append(x)\n",
        "    most_commmom_CountList.append(y)"
      ],
      "execution_count": 25,
      "outputs": []
    },
    {
      "cell_type": "code",
      "metadata": {
        "id": "u8CR85mMIo8t"
      },
      "source": [
        "import seaborn as sns\n",
        "import matplotlib.pyplot as plt"
      ],
      "execution_count": 27,
      "outputs": []
    },
    {
      "cell_type": "code",
      "metadata": {
        "id": "TAKXWl7XCo15",
        "colab": {
          "base_uri": "https://localhost:8080/",
          "height": 639
        },
        "outputId": "5b23ec2a-7884-4407-f8df-7203d3064b66"
      },
      "source": [
        "plt.figure(figsize=(10,9))\n",
        "plot = sns.barplot(np.arange(30), most_commmom_CountList[0:30]) #width=0.35)\n",
        "plt.ylabel('Word Count',fontsize=10)\n",
        "plt.xticks(np.arange(30), most_commmom_wordList[0:30], fontsize=10, rotation=45)\n",
        "plt.title('Most Common Word used in the Review.', fontsize=10)\n",
        "plt.show()"
      ],
      "execution_count": 28,
      "outputs": [
        {
          "output_type": "stream",
          "name": "stderr",
          "text": [
            "/usr/local/lib/python3.7/dist-packages/seaborn/_decorators.py:43: FutureWarning: Pass the following variables as keyword args: x, y. From version 0.12, the only valid positional argument will be `data`, and passing other arguments without an explicit keyword will result in an error or misinterpretation.\n",
            "  FutureWarning\n"
          ]
        },
        {
          "output_type": "display_data",
          "data": {
            "image/png": "[encoded data removed]",
            "text/plain": [
              "<Figure size 720x648 with 1 Axes>"
            ]
          },
          "metadata": {
            "needs_background": "light"
          }
        }
      ]
    },
    {
      "cell_type": "markdown",
      "metadata": {
        "id": "Y9O-jInpMWJ7"
      },
      "source": [
        "# Benchmark construction for app reviews"
      ]
    },
    {
      "cell_type": "code",
      "metadata": {
        "id": "9i-pqKFAMgLF"
      },
      "source": [
        "def cos_sim(vector_a, vector_b):\n",
        "    \"\"\"\n",
        "    calculate the cos similarity\n",
        "    :param vector_a: vector a \n",
        "    :param vector_b: vector b\n",
        "    :return: sim\n",
        "    \"\"\"\n",
        "    vector_a = np.mat(vector_a)\n",
        "    vector_b = np.mat(vector_b)\n",
        "    num = float(vector_a * vector_b.T)\n",
        "    denom = np.linalg.norm(vector_a) * np.linalg.norm(vector_b)\n",
        "    cos = num / denom\n",
        "    sim = 0.5 + 0.5 * cos\n",
        "    return sim\n"
      ],
      "execution_count": 247,
      "outputs": []
    },
    {
      "cell_type": "markdown",
      "metadata": {
        "id": "QH32hsBru4M-"
      },
      "source": [
        "Baseline - random"
      ]
    },
    {
      "cell_type": "code",
      "metadata": {
        "colab": {
          "base_uri": "https://localhost:8080/"
        },
        "id": "x0qjGdxVvE23",
        "outputId": "168a371f-b256-4b9a-fc51-30e6b8ab9fcf"
      },
      "source": [
        "emo_vec = [e for e in np.random.randint(1,5,len(ReviewData[\"Review_star\"]))]\n",
        "star_vec = [s for s in ReviewData[\"Review_star\"]]\n",
        "print(\"Cos similarity between real Review star from user and sentiment grade from model prediction:\")\n",
        "cos_sim_overall_random = cos_sim(star_vec, emo_vec)\n",
        "print(cos_sim_overall_random)"
      ],
      "execution_count": 274,
      "outputs": [
        {
          "output_type": "stream",
          "name": "stdout",
          "text": [
            "Cos similarity between real Review star from user and sentiment grade from model prediction:\n",
            "0.9148008671762917\n"
          ]
        }
      ]
    },
    {
      "cell_type": "code",
      "metadata": {
        "colab": {
          "base_uri": "https://localhost:8080/"
        },
        "id": "WImH6Pt1u3-4",
        "outputId": "4cf83fa7-e81f-4985-b004-83513e64fe1b"
      },
      "source": [
        "print(\"Cos similarity in different App type:\")\n",
        "AppTypeList = list(np.unique(ReviewData[\"App_Type\"]))\n",
        "cos_sim_random = []\n",
        "for i in range(len(AppTypeList)):\n",
        "    AppType = AppTypeList[i]\n",
        "    star_vec = [s for s in ReviewData[\"Review_star\"][ReviewData[\"App_Type\"]==AppType]]\n",
        "    emo_vec = [e for e in np.random.randint(1,5,len(star_vec))]\n",
        "    cos_sim_random.append(cos_sim(star_vec, emo_vec))\n",
        "    print('  ', AppType, ': ', cos_sim(star_vec, emo_vec))"
      ],
      "execution_count": 285,
      "outputs": [
        {
          "output_type": "stream",
          "name": "stdout",
          "text": [
            "Cos similarity in different App type:\n",
            "   Business :  0.9291684167496698\n",
            "   Entertainment :  0.9249133140149601\n",
            "   Music :  0.9327982171584033\n",
            "   Navigation :  0.9080208327153931\n",
            "   News :  0.8971731894957277\n",
            "   Photo & Video :  0.9115040161163965\n",
            "   Productivity :  0.9123423433995802\n",
            "   Shopping :  0.9101632976985311\n",
            "   Social Networking :  0.905609780099943\n",
            "   Utilities :  0.9034964116215538\n"
          ]
        }
      ]
    },
    {
      "cell_type": "code",
      "metadata": {
        "colab": {
          "base_uri": "https://localhost:8080/",
          "height": 394
        },
        "id": "nVVI9FyxMgF8",
        "outputId": "36359fc3-e672-412d-b3da-ae7e44ff7f30"
      },
      "source": [
        "result_summary = pd.DataFrame()\n",
        "AppTypeList.append(\"Overall\")\n",
        "result_summary[\"App Type\"] = AppTypeList\n",
        "cos_sim_random.append(cos_sim_overall_random)\n",
        "result_summary[\"Baseline_Random\"] = cos_sim_random\n",
        "result_summary"
      ],
      "execution_count": 286,
      "outputs": [
        {
          "output_type": "execute_result",
          "data": {
            "text/html": [
              "<div>\n",
              "<style scoped>\n",
              "    .dataframe tbody tr th:only-of-type {\n",
              "        vertical-align: middle;\n",
              "    }\n",
              "\n",
              "    .dataframe tbody tr th {\n",
              "        vertical-align: top;\n",
              "    }\n",
              "\n",
              "    .dataframe thead th {\n",
              "        text-align: right;\n",
              "    }\n",
              "</style>\n",
              "<table border=\"1\" class=\"dataframe\">\n",
              "  <thead>\n",
              "    <tr style=\"text-align: right;\">\n",
              "      <th></th>\n",
              "      <th>App Type</th>\n",
              "      <th>Baseline_Random</th>\n",
              "    </tr>\n",
              "  </thead>\n",
              "  <tbody>\n",
              "    <tr>\n",
              "      <th>0</th>\n",
              "      <td>Business</td>\n",
              "      <td>0.929168</td>\n",
              "    </tr>\n",
              "    <tr>\n",
              "      <th>1</th>\n",
              "      <td>Entertainment</td>\n",
              "      <td>0.924913</td>\n",
              "    </tr>\n",
              "    <tr>\n",
              "      <th>2</th>\n",
              "      <td>Music</td>\n",
              "      <td>0.932798</td>\n",
              "    </tr>\n",
              "    <tr>\n",
              "      <th>3</th>\n",
              "      <td>Navigation</td>\n",
              "      <td>0.908021</td>\n",
              "    </tr>\n",
              "    <tr>\n",
              "      <th>4</th>\n",
              "      <td>News</td>\n",
              "      <td>0.897173</td>\n",
              "    </tr>\n",
              "    <tr>\n",
              "      <th>5</th>\n",
              "      <td>Photo &amp; Video</td>\n",
              "      <td>0.911504</td>\n",
              "    </tr>\n",
              "    <tr>\n",
              "      <th>6</th>\n",
              "      <td>Productivity</td>\n",
              "      <td>0.912342</td>\n",
              "    </tr>\n",
              "    <tr>\n",
              "      <th>7</th>\n",
              "      <td>Shopping</td>\n",
              "      <td>0.910163</td>\n",
              "    </tr>\n",
              "    <tr>\n",
              "      <th>8</th>\n",
              "      <td>Social Networking</td>\n",
              "      <td>0.905610</td>\n",
              "    </tr>\n",
              "    <tr>\n",
              "      <th>9</th>\n",
              "      <td>Utilities</td>\n",
              "      <td>0.903496</td>\n",
              "    </tr>\n",
              "    <tr>\n",
              "      <th>10</th>\n",
              "      <td>Overall</td>\n",
              "      <td>0.914801</td>\n",
              "    </tr>\n",
              "  </tbody>\n",
              "</table>\n",
              "</div>"
            ],
            "text/plain": [
              "             App Type  Baseline_Random\n",
              "0            Business         0.929168\n",
              "1       Entertainment         0.924913\n",
              "2               Music         0.932798\n",
              "3          Navigation         0.908021\n",
              "4                News         0.897173\n",
              "5       Photo & Video         0.911504\n",
              "6        Productivity         0.912342\n",
              "7            Shopping         0.910163\n",
              "8   Social Networking         0.905610\n",
              "9           Utilities         0.903496\n",
              "10            Overall         0.914801"
            ]
          },
          "metadata": {},
          "execution_count": 286
        }
      ]
    },
    {
      "cell_type": "markdown",
      "metadata": {
        "id": "WK2pbmvG3Ck2"
      },
      "source": [
        "Use sentiment score to predict review stars"
      ]
    },
    {
      "cell_type": "code",
      "metadata": {
        "id": "QKH4Iaag3LYA"
      },
      "source": [
        "from sklearn.datasets import make_classification\n",
        "from sklearn.model_selection import train_test_split\n",
        "\n",
        "X = ReviewData[[\"sentiment score0\", \"sentiment score1\", \"sentiment score2\"]]\n",
        "y = ReviewData[\"Review_star\"]\n",
        "\n",
        "X_train, X_test, y_train, y_test = train_test_split(X, y, test_size=0.2, random_state=1)"
      ],
      "execution_count": 287,
      "outputs": []
    },
    {
      "cell_type": "code",
      "metadata": {
        "colab": {
          "base_uri": "https://localhost:8080/"
        },
        "id": "RVQmRrF-3LVP",
        "outputId": "1b9e25de-a15e-4ce1-aee1-46b5a74e5add"
      },
      "source": [
        "from sklearn.ensemble import RandomForestClassifier\n",
        "\n",
        "#Create a RandomForestClassifier and train\n",
        "clf=RandomForestClassifier(n_estimators=100)\n",
        "clf.fit(X_train,y_train)"
      ],
      "execution_count": 288,
      "outputs": [
        {
          "output_type": "execute_result",
          "data": {
            "text/plain": [
              "RandomForestClassifier(bootstrap=True, ccp_alpha=0.0, class_weight=None,\n",
              "                       criterion='gini', max_depth=None, max_features='auto',\n",
              "                       max_leaf_nodes=None, max_samples=None,\n",
              "                       min_impurity_decrease=0.0, min_impurity_split=None,\n",
              "                       min_samples_leaf=1, min_samples_split=2,\n",
              "                       min_weight_fraction_leaf=0.0, n_estimators=100,\n",
              "                       n_jobs=None, oob_score=False, random_state=None,\n",
              "                       verbose=0, warm_start=False)"
            ]
          },
          "metadata": {},
          "execution_count": 288
        }
      ]
    },
    {
      "cell_type": "code",
      "metadata": {
        "id": "lCVCtAVT3K8r"
      },
      "source": [
        "ReviewData[\"sentiment grade\"] = clf.predict(X)\n",
        "ReviewData_test = ReviewData.loc[X_test.index]"
      ],
      "execution_count": 289,
      "outputs": []
    },
    {
      "cell_type": "code",
      "metadata": {
        "colab": {
          "base_uri": "https://localhost:8080/"
        },
        "id": "kfo6qyLJ3X1u",
        "outputId": "163aae95-0fc1-47c3-ae65-7c75e6fa5400"
      },
      "source": [
        "emo_vec = [e for e in ReviewData_test[\"sentiment grade\"]]\n",
        "star_vec = [s for s in ReviewData_test[\"Review_star\"]]\n",
        "print(\"Cos similarity between real Review star from user and sentiment grade from model prediction:\")\n",
        "cos_sim_overall_sentiment = cos_sim(star_vec, emo_vec)\n",
        "print(cos_sim(star_vec, emo_vec))"
      ],
      "execution_count": 304,
      "outputs": [
        {
          "output_type": "stream",
          "name": "stdout",
          "text": [
            "Cos similarity between real Review star from user and sentiment grade from model prediction:\n",
            "0.9415519258167786\n"
          ]
        }
      ]
    },
    {
      "cell_type": "code",
      "metadata": {
        "colab": {
          "base_uri": "https://localhost:8080/"
        },
        "id": "_5MIsNKv3U5e",
        "outputId": "68780e74-514e-40f4-eb43-375191cbe5cf"
      },
      "source": [
        "print(\"Cos similarity in different App type:\")\n",
        "cos_sim_sentiment = []\n",
        "for i in range(len(AppTypeList)-1):\n",
        "    AppType = AppTypeList[i]\n",
        "    emo_vec = [e for e in ReviewData_test[\"sentiment grade\"][ReviewData_test[\"App_Type\"]==AppType]]\n",
        "    star_vec = [s for s in ReviewData_test[\"Review_star\"][ReviewData_test[\"App_Type\"]==AppType]]\n",
        "    cos_sim_sentiment.append(cos_sim(star_vec, emo_vec))\n",
        "    print('  ', AppType, ': ', cos_sim(star_vec, emo_vec))"
      ],
      "execution_count": 305,
      "outputs": [
        {
          "output_type": "stream",
          "name": "stdout",
          "text": [
            "Cos similarity in different App type:\n",
            "   Business :  0.964469681303656\n",
            "   Entertainment :  0.9443315183138048\n",
            "   Music :  0.9556541361427223\n",
            "   Navigation :  0.9477907612881643\n",
            "   News :  0.9082609839863427\n",
            "   Photo & Video :  0.9233824822172108\n",
            "   Productivity :  0.9352991412144158\n",
            "   Shopping :  0.9194450598299423\n",
            "   Social Networking :  0.9436506526442544\n",
            "   Utilities :  0.9286490904912212\n"
          ]
        }
      ]
    },
    {
      "cell_type": "code",
      "metadata": {
        "colab": {
          "base_uri": "https://localhost:8080/",
          "height": 394
        },
        "id": "GmDYp2XN8kCe",
        "outputId": "2ecedddd-e208-48e2-9c4c-5f3a48620fa5"
      },
      "source": [
        "cos_sim_sentiment.append(cos_sim_overall_sentiment)\n",
        "result_summary['Sentiment only'] = cos_sim_sentiment\n",
        "result_summary"
      ],
      "execution_count": 306,
      "outputs": [
        {
          "output_type": "execute_result",
          "data": {
            "text/html": [
              "<div>\n",
              "<style scoped>\n",
              "    .dataframe tbody tr th:only-of-type {\n",
              "        vertical-align: middle;\n",
              "    }\n",
              "\n",
              "    .dataframe tbody tr th {\n",
              "        vertical-align: top;\n",
              "    }\n",
              "\n",
              "    .dataframe thead th {\n",
              "        text-align: right;\n",
              "    }\n",
              "</style>\n",
              "<table border=\"1\" class=\"dataframe\">\n",
              "  <thead>\n",
              "    <tr style=\"text-align: right;\">\n",
              "      <th></th>\n",
              "      <th>App Type</th>\n",
              "      <th>Baseline_Random</th>\n",
              "      <th>Sentiment only</th>\n",
              "    </tr>\n",
              "  </thead>\n",
              "  <tbody>\n",
              "    <tr>\n",
              "      <th>0</th>\n",
              "      <td>Business</td>\n",
              "      <td>0.929168</td>\n",
              "      <td>0.964470</td>\n",
              "    </tr>\n",
              "    <tr>\n",
              "      <th>1</th>\n",
              "      <td>Entertainment</td>\n",
              "      <td>0.924913</td>\n",
              "      <td>0.944332</td>\n",
              "    </tr>\n",
              "    <tr>\n",
              "      <th>2</th>\n",
              "      <td>Music</td>\n",
              "      <td>0.932798</td>\n",
              "      <td>0.955654</td>\n",
              "    </tr>\n",
              "    <tr>\n",
              "      <th>3</th>\n",
              "      <td>Navigation</td>\n",
              "      <td>0.908021</td>\n",
              "      <td>0.947791</td>\n",
              "    </tr>\n",
              "    <tr>\n",
              "      <th>4</th>\n",
              "      <td>News</td>\n",
              "      <td>0.897173</td>\n",
              "      <td>0.908261</td>\n",
              "    </tr>\n",
              "    <tr>\n",
              "      <th>5</th>\n",
              "      <td>Photo &amp; Video</td>\n",
              "      <td>0.911504</td>\n",
              "      <td>0.923382</td>\n",
              "    </tr>\n",
              "    <tr>\n",
              "      <th>6</th>\n",
              "      <td>Productivity</td>\n",
              "      <td>0.912342</td>\n",
              "      <td>0.935299</td>\n",
              "    </tr>\n",
              "    <tr>\n",
              "      <th>7</th>\n",
              "      <td>Shopping</td>\n",
              "      <td>0.910163</td>\n",
              "      <td>0.919445</td>\n",
              "    </tr>\n",
              "    <tr>\n",
              "      <th>8</th>\n",
              "      <td>Social Networking</td>\n",
              "      <td>0.905610</td>\n",
              "      <td>0.943651</td>\n",
              "    </tr>\n",
              "    <tr>\n",
              "      <th>9</th>\n",
              "      <td>Utilities</td>\n",
              "      <td>0.903496</td>\n",
              "      <td>0.928649</td>\n",
              "    </tr>\n",
              "    <tr>\n",
              "      <th>10</th>\n",
              "      <td>Overall</td>\n",
              "      <td>0.914801</td>\n",
              "      <td>0.941552</td>\n",
              "    </tr>\n",
              "  </tbody>\n",
              "</table>\n",
              "</div>"
            ],
            "text/plain": [
              "             App Type  Baseline_Random  Sentiment only\n",
              "0            Business         0.929168        0.964470\n",
              "1       Entertainment         0.924913        0.944332\n",
              "2               Music         0.932798        0.955654\n",
              "3          Navigation         0.908021        0.947791\n",
              "4                News         0.897173        0.908261\n",
              "5       Photo & Video         0.911504        0.923382\n",
              "6        Productivity         0.912342        0.935299\n",
              "7            Shopping         0.910163        0.919445\n",
              "8   Social Networking         0.905610        0.943651\n",
              "9           Utilities         0.903496        0.928649\n",
              "10            Overall         0.914801        0.941552"
            ]
          },
          "metadata": {},
          "execution_count": 306
        }
      ]
    },
    {
      "cell_type": "markdown",
      "metadata": {
        "id": "C_8F36qrbSBs"
      },
      "source": [
        "Use sarcasm score to amend and improve the sentiment score"
      ]
    },
    {
      "cell_type": "code",
      "metadata": {
        "id": "c2MhpeFbbgUL"
      },
      "source": [
        "X = ReviewData[[\"sentiment score0\", \"sentiment score1\", \"sentiment score2\", \"sarcasm score0\", \"sarcasm score1\"]]\n",
        "y = ReviewData[\"Review_star\"]\n",
        "\n",
        "X_train, X_test, y_train, y_test = train_test_split(X, y, test_size=0.2, random_state=1)"
      ],
      "execution_count": 307,
      "outputs": []
    },
    {
      "cell_type": "code",
      "metadata": {
        "colab": {
          "base_uri": "https://localhost:8080/"
        },
        "id": "657rgklpjJog",
        "outputId": "87ec4414-9d7a-4fc1-eedc-7a40e5eeb95e"
      },
      "source": [
        "clf=RandomForestClassifier(n_estimators=100)\n",
        "clf.fit(X_train,y_train)"
      ],
      "execution_count": 308,
      "outputs": [
        {
          "output_type": "execute_result",
          "data": {
            "text/plain": [
              "RandomForestClassifier(bootstrap=True, ccp_alpha=0.0, class_weight=None,\n",
              "                       criterion='gini', max_depth=None, max_features='auto',\n",
              "                       max_leaf_nodes=None, max_samples=None,\n",
              "                       min_impurity_decrease=0.0, min_impurity_split=None,\n",
              "                       min_samples_leaf=1, min_samples_split=2,\n",
              "                       min_weight_fraction_leaf=0.0, n_estimators=100,\n",
              "                       n_jobs=None, oob_score=False, random_state=None,\n",
              "                       verbose=0, warm_start=False)"
            ]
          },
          "metadata": {},
          "execution_count": 308
        }
      ]
    },
    {
      "cell_type": "code",
      "metadata": {
        "id": "SbViGwaFlp3o"
      },
      "source": [
        "ReviewData[\"sentiment grade considering sarcasm\"] = clf.predict(X)"
      ],
      "execution_count": 309,
      "outputs": []
    },
    {
      "cell_type": "code",
      "metadata": {
        "id": "S5f3rtdipPUf"
      },
      "source": [
        "ReviewData_test = ReviewData.loc[X_test.index]"
      ],
      "execution_count": 310,
      "outputs": []
    },
    {
      "cell_type": "code",
      "metadata": {
        "colab": {
          "base_uri": "https://localhost:8080/"
        },
        "id": "I7-EKf-tbgRy",
        "outputId": "667941b9-e622-4afd-ce1e-1b517fed4ec8"
      },
      "source": [
        "emo_vec = [e for e in ReviewData_test[\"sentiment grade considering sarcasm\"]]\n",
        "star_vec = [s for s in ReviewData_test[\"Review_star\"]]\n",
        "print(\"Cos similarity between real Review star from user and sentiment grade from model prediction:\")\n",
        "cos_sim_overall_sarcasm = cos_sim(star_vec, emo_vec)\n",
        "print(cos_sim(star_vec, emo_vec))"
      ],
      "execution_count": 311,
      "outputs": [
        {
          "output_type": "stream",
          "name": "stdout",
          "text": [
            "Cos similarity between real Review star from user and sentiment grade from model prediction:\n",
            "0.944219858482225\n"
          ]
        }
      ]
    },
    {
      "cell_type": "code",
      "metadata": {
        "colab": {
          "base_uri": "https://localhost:8080/"
        },
        "id": "nzOO7wsDloVJ",
        "outputId": "731e0d3e-1f5b-4bac-af0e-a2aa768ef8d5"
      },
      "source": [
        "print(\"Cos similarity in different App type:\")\n",
        "cos_sim_sarcasm = []\n",
        "for i in range(len(AppTypeList)-1):\n",
        "    AppType = AppTypeList[i]\n",
        "    emo_vec = [e for e in ReviewData_test[\"sentiment grade considering sarcasm\"][ReviewData_test[\"App_Type\"]==AppType]]\n",
        "    star_vec = [s for s in ReviewData_test[\"Review_star\"][ReviewData_test[\"App_Type\"]==AppType]]\n",
        "    cos_sim_sarcasm.append(cos_sim(star_vec, emo_vec))\n",
        "    print('  ', AppType, ': ', cos_sim(star_vec, emo_vec))"
      ],
      "execution_count": 312,
      "outputs": [
        {
          "output_type": "stream",
          "name": "stdout",
          "text": [
            "Cos similarity in different App type:\n",
            "   Business :  0.9704153097267758\n",
            "   Entertainment :  0.9477947321355593\n",
            "   Music :  0.9548339674910414\n",
            "   Navigation :  0.9487244330080854\n",
            "   News :  0.9187493506327566\n",
            "   Photo & Video :  0.9251041446494511\n",
            "   Productivity :  0.9421151330824808\n",
            "   Shopping :  0.9177415954981494\n",
            "   Social Networking :  0.9460734299733748\n",
            "   Utilities :  0.9344050717799499\n"
          ]
        }
      ]
    },
    {
      "cell_type": "code",
      "metadata": {
        "colab": {
          "base_uri": "https://localhost:8080/",
          "height": 394
        },
        "id": "Q4c7kMOn2f6t",
        "outputId": "e475d72c-1467-4a2c-dd15-e98703dadbae"
      },
      "source": [
        "cos_sim_sarcasm.append(cos_sim_overall_sarcasm)\n",
        "result_summary['Sentiment with Sarcasm'] = cos_sim_sarcasm\n",
        "result_summary"
      ],
      "execution_count": 313,
      "outputs": [
        {
          "output_type": "execute_result",
          "data": {
            "text/html": [
              "<div>\n",
              "<style scoped>\n",
              "    .dataframe tbody tr th:only-of-type {\n",
              "        vertical-align: middle;\n",
              "    }\n",
              "\n",
              "    .dataframe tbody tr th {\n",
              "        vertical-align: top;\n",
              "    }\n",
              "\n",
              "    .dataframe thead th {\n",
              "        text-align: right;\n",
              "    }\n",
              "</style>\n",
              "<table border=\"1\" class=\"dataframe\">\n",
              "  <thead>\n",
              "    <tr style=\"text-align: right;\">\n",
              "      <th></th>\n",
              "      <th>App Type</th>\n",
              "      <th>Baseline_Random</th>\n",
              "      <th>Sentiment only</th>\n",
              "      <th>Sentiment with Sarcasm</th>\n",
              "    </tr>\n",
              "  </thead>\n",
              "  <tbody>\n",
              "    <tr>\n",
              "      <th>0</th>\n",
              "      <td>Business</td>\n",
              "      <td>0.929168</td>\n",
              "      <td>0.964470</td>\n",
              "      <td>0.970415</td>\n",
              "    </tr>\n",
              "    <tr>\n",
              "      <th>1</th>\n",
              "      <td>Entertainment</td>\n",
              "      <td>0.924913</td>\n",
              "      <td>0.944332</td>\n",
              "      <td>0.947795</td>\n",
              "    </tr>\n",
              "    <tr>\n",
              "      <th>2</th>\n",
              "      <td>Music</td>\n",
              "      <td>0.932798</td>\n",
              "      <td>0.955654</td>\n",
              "      <td>0.954834</td>\n",
              "    </tr>\n",
              "    <tr>\n",
              "      <th>3</th>\n",
              "      <td>Navigation</td>\n",
              "      <td>0.908021</td>\n",
              "      <td>0.947791</td>\n",
              "      <td>0.948724</td>\n",
              "    </tr>\n",
              "    <tr>\n",
              "      <th>4</th>\n",
              "      <td>News</td>\n",
              "      <td>0.897173</td>\n",
              "      <td>0.908261</td>\n",
              "      <td>0.918749</td>\n",
              "    </tr>\n",
              "    <tr>\n",
              "      <th>5</th>\n",
              "      <td>Photo &amp; Video</td>\n",
              "      <td>0.911504</td>\n",
              "      <td>0.923382</td>\n",
              "      <td>0.925104</td>\n",
              "    </tr>\n",
              "    <tr>\n",
              "      <th>6</th>\n",
              "      <td>Productivity</td>\n",
              "      <td>0.912342</td>\n",
              "      <td>0.935299</td>\n",
              "      <td>0.942115</td>\n",
              "    </tr>\n",
              "    <tr>\n",
              "      <th>7</th>\n",
              "      <td>Shopping</td>\n",
              "      <td>0.910163</td>\n",
              "      <td>0.919445</td>\n",
              "      <td>0.917742</td>\n",
              "    </tr>\n",
              "    <tr>\n",
              "      <th>8</th>\n",
              "      <td>Social Networking</td>\n",
              "      <td>0.905610</td>\n",
              "      <td>0.943651</td>\n",
              "      <td>0.946073</td>\n",
              "    </tr>\n",
              "    <tr>\n",
              "      <th>9</th>\n",
              "      <td>Utilities</td>\n",
              "      <td>0.903496</td>\n",
              "      <td>0.928649</td>\n",
              "      <td>0.934405</td>\n",
              "    </tr>\n",
              "    <tr>\n",
              "      <th>10</th>\n",
              "      <td>Overall</td>\n",
              "      <td>0.914801</td>\n",
              "      <td>0.941552</td>\n",
              "      <td>0.944220</td>\n",
              "    </tr>\n",
              "  </tbody>\n",
              "</table>\n",
              "</div>"
            ],
            "text/plain": [
              "             App Type  Baseline_Random  Sentiment only  Sentiment with Sarcasm\n",
              "0            Business         0.929168        0.964470                0.970415\n",
              "1       Entertainment         0.924913        0.944332                0.947795\n",
              "2               Music         0.932798        0.955654                0.954834\n",
              "3          Navigation         0.908021        0.947791                0.948724\n",
              "4                News         0.897173        0.908261                0.918749\n",
              "5       Photo & Video         0.911504        0.923382                0.925104\n",
              "6        Productivity         0.912342        0.935299                0.942115\n",
              "7            Shopping         0.910163        0.919445                0.917742\n",
              "8   Social Networking         0.905610        0.943651                0.946073\n",
              "9           Utilities         0.903496        0.928649                0.934405\n",
              "10            Overall         0.914801        0.941552                0.944220"
            ]
          },
          "metadata": {},
          "execution_count": 313
        }
      ]
    },
    {
      "cell_type": "code",
      "metadata": {
        "id": "-Sd8i0XV2f37"
      },
      "source": [
        "result_summary.to_excel(\"/content/drive/MyDrive/NLP/Summer Project/Result/Benchmark Accessment result.xlsx\")"
      ],
      "execution_count": 315,
      "outputs": []
    },
    {
      "cell_type": "code",
      "metadata": {
        "id": "3-wBNDMcCERu"
      },
      "source": [
        "ReviewData.to_excel(\"/content/drive/MyDrive/NLP/Summer Project/Result/Prediction result on app store review.xlsx\")"
      ],
      "execution_count": 317,
      "outputs": []
    }
  ]
}